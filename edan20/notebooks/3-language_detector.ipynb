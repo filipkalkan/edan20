{
 "cells": [
  {
   "cell_type": "markdown",
   "source": [
    "# Assignment #3: A simple language classifier"
   ],
   "metadata": {}
  },
  {
   "cell_type": "markdown",
   "source": [
    "Author: Pierre Nugues"
   ],
   "metadata": {}
  },
  {
   "cell_type": "markdown",
   "source": [
    "## Objectives"
   ],
   "metadata": {}
  },
  {
   "cell_type": "markdown",
   "source": [
    "In this assignment, you will implement a language detector inspired from Google's _Compact language detector_, version 3 (CLD3): https://github.com/google/cld3. CLD3 is written in C++ and its code is available from GitHub. The objectives of the assignment are to:\n",
    "* Write a program to classify languages\n",
    "* Use neural networks\n",
    "* Know what a classifier is\n",
    "* Write a short report of 1 to 2 pages to describe your program. You will notably comment the performance you obtained and how you could improve it."
   ],
   "metadata": {}
  },
  {
   "cell_type": "markdown",
   "source": [
    "## Description"
   ],
   "metadata": {}
  },
  {
   "cell_type": "markdown",
   "source": [
    "### System Overview"
   ],
   "metadata": {}
  },
  {
   "cell_type": "markdown",
   "source": [
    "Read the GitHub description of CLD3, https://github.com/google/cld3, (_Model_ section). In your individual report you will:\r\n",
    "1. Summarize the system in two or three sentences;\r\n",
    "2. Outline the CLD3 overall architecture in a figure. Use building blocks only and do not specify the parameters."
   ],
   "metadata": {}
  },
  {
   "cell_type": "markdown",
   "source": [
    "## Imports"
   ],
   "metadata": {}
  },
  {
   "cell_type": "code",
   "execution_count": 1,
   "source": [
    "import bz2\r\n",
    "import json\r\n",
    "import os\r\n",
    "import numpy as np\r\n",
    "import requests\r\n",
    "import sys\r\n",
    "from sklearn.neural_network import MLPClassifier\r\n",
    "from sklearn.feature_extraction import DictVectorizer\r\n",
    "from sklearn.metrics import accuracy_score\r\n",
    "from sklearn.metrics import f1_score, classification_report\r\n",
    "from sklearn.metrics import confusion_matrix"
   ],
   "outputs": [],
   "metadata": {}
  },
  {
   "cell_type": "markdown",
   "source": [
    "### Dataset"
   ],
   "metadata": {}
  },
  {
   "cell_type": "markdown",
   "source": [
    "As dataset, we will use Tatoeba, https://tatoeba.org/eng/downloads. It consists of more than 8 million short texts in 347 languages and it is available in one file called `sentences.csv`.\r\n",
    "\r\n",
    "The dataset is structured this way: There is one text per line, where each line consists of the three following fields separated by tabulations and ended by a carriage return:\r\n",
    "```\r\n",
    "sentence id [tab] language code [tab] text [cr]\r\n",
    "```\r\n",
    "Each text (sentence) has a unique id and has a language code that follows the ISO 639-3 standard (see below). "
   ],
   "metadata": {}
  },
  {
   "cell_type": "markdown",
   "source": [
    "### Scope of the lab"
   ],
   "metadata": {}
  },
  {
   "cell_type": "markdown",
   "source": [
    "In this lab, you will consider three languages only: French (fra), English (eng), and Swedish (swe). Below is an excerpt of the Tatoeba dataset limited to these three languages: \n",
    "\n",
    "```\n",
    "1276    eng     Let's try something.\n",
    "1277    eng     I have to go to sleep.\n",
    "1280    eng     Today is June 18th and it is Muiriel's birthday!\n",
    "...\n",
    "1115    fra     Lorsqu'il a demandé qui avait cassé la fenêtre, tous les garçons ont pris un air innocent.\n",
    "1279    fra     Je ne supporte pas ce type.\n",
    "1441    fra     Pour une fois dans ma vie je fais un bon geste... Et ça ne sert à rien.\n",
    "...\n",
    "337413  swe     Vi trodde att det var ett flygande tefat.\n",
    "341910  swe     Detta är huset jag bodde i när jag var barn.\n",
    "341938  swe     Vi hade roligt på stranden igår.\n",
    "...\n",
    "```\n",
    "Tatoeba is updated continuously. The examples from this dataset come from a corpus your instructor downloaded on September 23, 2021."
   ],
   "metadata": {}
  },
  {
   "cell_type": "markdown",
   "source": [
    "### Understanding the $\\mathbf{X}$ matrix (feature matrix)"
   ],
   "metadata": {}
  },
  {
   "cell_type": "markdown",
   "source": [
    "You will now investigate the CLD3 features:\n",
    " *  What are the features CLD3 extracts from each text?\n",
    " * Create manually a simplified $\\mathbf{X}$ matrix where you will represent the 9 texts with CLD3 features. You will use a restricted set of features: You will only consider the letters _a_, _b_, and _n_ and the bigrams _an_, _ba_, and _na_. You will ignore the the rest of letters and bigrams as well as the trigrams. Your matrix will have 9 rows and 6 columns, each column will contain these counts: `[#a, #b, #n, #an, #ba, #na]`.\n",
    "\n",
    "The CLD3's original description uses relative frequencies (counts of a letter divided by the total counts of letters in the text). Here, you will use the raw counts. To help you, your instructor filled the fourth row of the matrix corresponding to the first text in French. Fill in the rest. You will include this matrix in your report. "
   ],
   "metadata": {}
  },
  {
   "cell_type": "markdown",
   "source": [
    "$\\mathbf{X} =\n",
    "\\begin{bmatrix}\n",
    "-& -& -& -&-& -\\\\\n",
    "-& -& -& -&-& -\\\\\n",
    "-& -& -& -&-& -\\\\\n",
    "8& 0& 8& 1&0&0\\\\\n",
    "-& -& -& -&-& -\\\\\n",
    "-& -& -& -&-& -\\\\\n",
    "-& -& -& -&-& -\\\\\n",
    "-& -& -& -&-& -\\\\\n",
    "-& -& -& -&-& -\\\\\n",
    "\\end{bmatrix}$\n",
    "; $\\mathbf{y} =\n",
    "\\begin{bmatrix}\n",
    "     \\text{eng} \\\\\n",
    "     \\text{eng}\\\\\n",
    "     \\text{eng}\\\\\n",
    "    \\text{fra}\\\\\n",
    "   \\text{fra}  \\\\\n",
    "     \\text{fra}\\\\\n",
    "    \\text{swe}\\\\\n",
    " \\text{swe}   \\\\\n",
    " \\text{swe}   \n",
    "\\end{bmatrix}$"
   ],
   "metadata": {}
  },
  {
   "cell_type": "markdown",
   "source": [
    "## Programming: Extracting the features"
   ],
   "metadata": {}
  },
  {
   "cell_type": "markdown",
   "source": [
    "Before you start programming, download the Tatoeba dataset."
   ],
   "metadata": {}
  },
  {
   "cell_type": "markdown",
   "source": [
    "### Loading and filtering the dataset"
   ],
   "metadata": {}
  },
  {
   "cell_type": "markdown",
   "source": [
    "Run the code to read the dataset and split it into lines. You may have to change the path"
   ],
   "metadata": {}
  },
  {
   "cell_type": "code",
   "execution_count": 2,
   "source": [
    "dataset = open('./tatoeba/sentences.csv', encoding='utf8').read().strip()\r\n",
    "dataset = dataset.split('\\n')\r\n",
    "dataset[:10]"
   ],
   "outputs": [
    {
     "output_type": "execute_result",
     "data": {
      "text/plain": [
       "['1\\tcmn\\t我們試試看！',\n",
       " '2\\tcmn\\t我该去睡觉了。',\n",
       " '3\\tcmn\\t你在干什麼啊？',\n",
       " '4\\tcmn\\t這是什麼啊？',\n",
       " '5\\tcmn\\t今天是６月１８号，也是Muiriel的生日！',\n",
       " '6\\tcmn\\t生日快乐，Muiriel！',\n",
       " '7\\tcmn\\tMuiriel现在20岁了。',\n",
       " '8\\tcmn\\t密码是\"Muiriel\"。',\n",
       " '9\\tcmn\\t我很快就會回來。',\n",
       " '10\\tcmn\\t我不知道。']"
      ]
     },
     "metadata": {},
     "execution_count": 2
    }
   ],
   "metadata": {}
  },
  {
   "cell_type": "markdown",
   "source": [
    "Run the code to split the fields and remove possible whitespaces"
   ],
   "metadata": {}
  },
  {
   "cell_type": "code",
   "execution_count": 3,
   "source": [
    "dataset = list(map(lambda x: tuple(x.split('\\t')), dataset))\r\n",
    "dataset = list(map(lambda x: tuple(map(str.strip, x)), dataset))\r\n",
    "dataset[:3]"
   ],
   "outputs": [
    {
     "output_type": "execute_result",
     "data": {
      "text/plain": [
       "[('1', 'cmn', '我們試試看！'), ('2', 'cmn', '我该去睡觉了。'), ('3', 'cmn', '你在干什麼啊？')]"
      ]
     },
     "metadata": {},
     "execution_count": 3
    }
   ],
   "metadata": {}
  },
  {
   "cell_type": "markdown",
   "source": [
    "Write the code to extract the French, English, and Swedish texts. You will call the resulting dataset: `dataset_small`"
   ],
   "metadata": {}
  },
  {
   "cell_type": "code",
   "execution_count": 4,
   "source": [
    "dataset_small = list(filter(lambda x: x[1] in ['fra', 'swe', 'eng'], dataset))"
   ],
   "outputs": [],
   "metadata": {}
  },
  {
   "cell_type": "code",
   "execution_count": 5,
   "source": [
    "dataset_small[:50]\r\n",
    "# langs = set(filter(lambda x: 'swe' in str(x[1]), dataset_small))\r\n",
    "# langs"
   ],
   "outputs": [
    {
     "output_type": "execute_result",
     "data": {
      "text/plain": [
       "[('1115',\n",
       "  'fra',\n",
       "  \"Lorsqu'il a demandé qui avait cassé la fenêtre, tous les garçons ont pris un air innocent.\"),\n",
       " ('1276', 'eng', \"Let's try something.\"),\n",
       " ('1277', 'eng', 'I have to go to sleep.'),\n",
       " ('1279', 'fra', 'Je ne supporte pas ce type.'),\n",
       " ('1280', 'eng', \"Today is June 18th and it is Muiriel's birthday!\"),\n",
       " ('1282', 'eng', 'Muiriel is 20 now.'),\n",
       " ('1283', 'eng', 'The password is \"Muiriel\".'),\n",
       " ('1284', 'eng', 'I will be back soon.'),\n",
       " ('1286', 'eng', \"I'm at a loss for words.\"),\n",
       " ('1287', 'eng', 'This is never going to end.'),\n",
       " ('1288', 'eng', \"I just don't know what to say.\"),\n",
       " ('1289', 'eng', 'That was an evil bunny.'),\n",
       " ('1290', 'eng', 'I was in the mountains.'),\n",
       " ('1291', 'eng', 'Is it a recent picture?'),\n",
       " ('1292', 'eng', \"I don't know if I have the time.\"),\n",
       " ('1294', 'eng', 'Education in this world disappoints me.'),\n",
       " ('1295', 'eng', \"You're in better shape than I am.\"),\n",
       " ('1296', 'eng', 'You are in my way.'),\n",
       " ('1298', 'eng', 'This will cost €30.'),\n",
       " ('1299', 'eng', 'I make €100 a day.'),\n",
       " ('1300', 'eng', 'I may give up soon and just nap instead.'),\n",
       " ('1301', 'eng', \"It's because you don't want to be alone.\"),\n",
       " ('1302', 'eng', \"That won't happen.\"),\n",
       " ('1303', 'eng', 'Sometimes he can be a strange guy.'),\n",
       " ('1304', 'eng', \"I'll do my best not to disturb your studying.\"),\n",
       " ('1305', 'eng', 'I can only wonder if this is the same for everyone else.'),\n",
       " ('1306',\n",
       "  'eng',\n",
       "  \"I suppose it's different when you think about it over the long term.\"),\n",
       " ('1308', 'eng', 'I miss you.'),\n",
       " ('1309', 'eng', \"I'll call them tomorrow when I come back.\"),\n",
       " ('1310', 'eng', 'I always liked mysterious characters more.'),\n",
       " ('1311', 'eng', 'You should sleep.'),\n",
       " ('1312', 'eng', \"I'm going to go.\"),\n",
       " ('1313', 'eng', 'I told them to send me another ticket.'),\n",
       " ('1314', 'eng', \"You're so impatient with me.\"),\n",
       " ('1315', 'eng', \"I can't live that kind of life.\"),\n",
       " ('1316', 'eng', 'I once wanted to be an astrophysicist.'),\n",
       " ('1317', 'eng', 'I never liked biology.'),\n",
       " ('1318', 'eng', 'The last person I told my idea to thought I was nuts.'),\n",
       " ('1319',\n",
       "  'eng',\n",
       "  \"If the world weren't in the shape it is now, I could trust anyone.\"),\n",
       " ('1320', 'eng', 'It is unfortunately true.'),\n",
       " ('1321',\n",
       "  'eng',\n",
       "  'They are too busy fighting against each other to care for common ideals.'),\n",
       " ('1322', 'eng', \"Most people think I'm crazy.\"),\n",
       " ('1323', 'eng', \"No I'm not; you are!\"),\n",
       " ('1324', 'eng', \"That's MY line!\"),\n",
       " ('1325', 'eng', \"He's kicking me!\"),\n",
       " ('1326', 'eng', 'Are you sure?'),\n",
       " ('1327', 'eng', 'Then there is a problem...'),\n",
       " ('1328', 'eng', \"Oh, there's a butterfly!\"),\n",
       " ('1329', 'eng', 'Hurry up.'),\n",
       " ('1330', 'eng', \"It doesn't surprise me.\")]"
      ]
     },
     "metadata": {},
     "execution_count": 5
    }
   ],
   "metadata": {}
  },
  {
   "cell_type": "markdown",
   "source": [
    "### Functions to Count Characters Ngrams"
   ],
   "metadata": {}
  },
  {
   "cell_type": "markdown",
   "source": [
    "Write a function `count_chars(string, lc=True)` to count characters (unigrams) of a string. You will set the text in lowercase if `lc` is set to `True`. As in CLD3, you will return the relative frequencies of the unigrams."
   ],
   "metadata": {}
  },
  {
   "cell_type": "code",
   "execution_count": 6,
   "source": [
    "def count_chars(string, lc=True):\r\n",
    "    frequencies = {}\r\n",
    "    if lc:\r\n",
    "        string = string.lower()\r\n",
    "\r\n",
    "    for character in string:\r\n",
    "        if character in frequencies:\r\n",
    "            frequencies[character] += 1\r\n",
    "        else:\r\n",
    "            frequencies[character] = 1\r\n",
    "\r\n",
    "    total_characters = len(string)\r\n",
    "    relative_frequencies = { character: (frequency / total_characters) for (character, frequency) in frequencies.items() }\r\n",
    "    return relative_frequencies\r\n"
   ],
   "outputs": [],
   "metadata": {}
  },
  {
   "cell_type": "markdown",
   "source": [
    "Write a function `count_bigrams(string, lc=True)` to count the characters bigrams of a string. You will set the text in lowercase if `lc` is set to `True`. As in CLD3, you will return the relative frequencies of the bigrams."
   ],
   "metadata": {}
  },
  {
   "cell_type": "code",
   "execution_count": 7,
   "source": [
    "def count_bigrams(string, lc=True):\r\n",
    "    frequencies = {}\r\n",
    "    if lc:\r\n",
    "        string = string.lower()\r\n",
    "\r\n",
    "    for i in range(len(string) - 1):\r\n",
    "        bigram = string[i] + string[i + 1]\r\n",
    "        if bigram in frequencies:\r\n",
    "            frequencies[bigram] += 1\r\n",
    "        else:\r\n",
    "            frequencies[bigram] = 1\r\n",
    "\r\n",
    "    total_bigrams = len(string) - 1\r\n",
    "    relative_frequencies = { bigram: (frequency / total_bigrams) for (bigram, frequency) in frequencies.items() }\r\n",
    "    return relative_frequencies"
   ],
   "outputs": [],
   "metadata": {}
  },
  {
   "cell_type": "markdown",
   "source": [
    "Write a function `count_trigrams(string, lc=True)` to count the characters trigrams of a string. You will set the text in lowercase if `lc` is set to `True`. As in CLD3, you will return the relative frequencies of the trigrams."
   ],
   "metadata": {}
  },
  {
   "cell_type": "code",
   "execution_count": 8,
   "source": [
    "def count_trigrams(string, lc=True):\r\n",
    "    frequencies = {}\r\n",
    "    if lc:\r\n",
    "        string = string.lower()\r\n",
    "\r\n",
    "    for i in range(len(string) - 2):\r\n",
    "        trigram = string[i] + string[i + 1] + string[i + 2]\r\n",
    "        if trigram in frequencies:\r\n",
    "            frequencies[trigram] += 1\r\n",
    "        else:\r\n",
    "            frequencies[trigram] = 1\r\n",
    "\r\n",
    "    total_trigrams = len(string) - 2\r\n",
    "    relative_frequencies = { trigram: (frequency / total_trigrams) for (trigram, frequency) in frequencies.items() }\r\n",
    "    return relative_frequencies"
   ],
   "outputs": [],
   "metadata": {}
  },
  {
   "cell_type": "code",
   "execution_count": 9,
   "source": [
    "count_chars(\"Let's try something.\")"
   ],
   "outputs": [
    {
     "output_type": "execute_result",
     "data": {
      "text/plain": [
       "{'l': 0.05,\n",
       " 'e': 0.1,\n",
       " 't': 0.15,\n",
       " \"'\": 0.05,\n",
       " 's': 0.1,\n",
       " ' ': 0.1,\n",
       " 'r': 0.05,\n",
       " 'y': 0.05,\n",
       " 'o': 0.05,\n",
       " 'm': 0.05,\n",
       " 'h': 0.05,\n",
       " 'i': 0.05,\n",
       " 'n': 0.05,\n",
       " 'g': 0.05,\n",
       " '.': 0.05}"
      ]
     },
     "metadata": {},
     "execution_count": 9
    }
   ],
   "metadata": {}
  },
  {
   "cell_type": "code",
   "execution_count": 10,
   "source": [
    "count_bigrams(\"Let's try something.\")"
   ],
   "outputs": [
    {
     "output_type": "execute_result",
     "data": {
      "text/plain": [
       "{'le': 0.05263157894736842,\n",
       " 'et': 0.10526315789473684,\n",
       " \"t'\": 0.05263157894736842,\n",
       " \"'s\": 0.05263157894736842,\n",
       " 's ': 0.05263157894736842,\n",
       " ' t': 0.05263157894736842,\n",
       " 'tr': 0.05263157894736842,\n",
       " 'ry': 0.05263157894736842,\n",
       " 'y ': 0.05263157894736842,\n",
       " ' s': 0.05263157894736842,\n",
       " 'so': 0.05263157894736842,\n",
       " 'om': 0.05263157894736842,\n",
       " 'me': 0.05263157894736842,\n",
       " 'th': 0.05263157894736842,\n",
       " 'hi': 0.05263157894736842,\n",
       " 'in': 0.05263157894736842,\n",
       " 'ng': 0.05263157894736842,\n",
       " 'g.': 0.05263157894736842}"
      ]
     },
     "metadata": {},
     "execution_count": 10
    }
   ],
   "metadata": {}
  },
  {
   "cell_type": "code",
   "execution_count": 11,
   "source": [
    "count_trigrams(\"Let's try something.\")"
   ],
   "outputs": [
    {
     "output_type": "execute_result",
     "data": {
      "text/plain": [
       "{'let': 0.05555555555555555,\n",
       " \"et'\": 0.05555555555555555,\n",
       " \"t's\": 0.05555555555555555,\n",
       " \"'s \": 0.05555555555555555,\n",
       " 's t': 0.05555555555555555,\n",
       " ' tr': 0.05555555555555555,\n",
       " 'try': 0.05555555555555555,\n",
       " 'ry ': 0.05555555555555555,\n",
       " 'y s': 0.05555555555555555,\n",
       " ' so': 0.05555555555555555,\n",
       " 'som': 0.05555555555555555,\n",
       " 'ome': 0.05555555555555555,\n",
       " 'met': 0.05555555555555555,\n",
       " 'eth': 0.05555555555555555,\n",
       " 'thi': 0.05555555555555555,\n",
       " 'hin': 0.05555555555555555,\n",
       " 'ing': 0.05555555555555555,\n",
       " 'ng.': 0.05555555555555555}"
      ]
     },
     "metadata": {},
     "execution_count": 11
    }
   ],
   "metadata": {}
  },
  {
   "cell_type": "markdown",
   "source": [
    "### Counting the ngrams in the dataset"
   ],
   "metadata": {}
  },
  {
   "cell_type": "markdown",
   "source": [
    "You will now extract the features from each text. For this, add the character, bigram, and trigram relative frequencies to the texts using this format:\n",
    "`(text_id, language_id, text, char_cnt, bigram_cnt, trigram_cnt)`."
   ],
   "metadata": {}
  },
  {
   "cell_type": "markdown",
   "source": [
    "From the datapoint:\n",
    "`('1276', 'eng', \"Let's try something.\")`,\n",
    "you must return:\n",
    "\n",
    "`('1276', 'eng', \"Let's try something.\", \n",
    "  {'l': 0.05, 'e': 0.1, 't': 0.15, \"'\": 0.05, 's': 0.1, ' ': 0.1, 'r': 0.05, 'y': 0.05, 'o': 0.05, 'm': 0.05, 'h': 0.05, 'i': 0.05, 'n': 0.05, 'g': 0.05, '.': 0.05},\n",
    "  {'le': 0.05263157894736842, 'et': 0.10526315789473684, \"t'\": 0.05263157894736842, \"'s\": 0.05263157894736842, 's ': 0.05263157894736842, ' t': 0.05263157894736842, 'tr': 0.05263157894736842, 'ry': 0.05263157894736842, 'y ': 0.05263157894736842, ' s': 0.05263157894736842, 'so': 0.05263157894736842, 'om': 0.05263157894736842, 'me': 0.05263157894736842, 'th': 0.05263157894736842, 'hi': 0.05263157894736842, 'in': 0.05263157894736842, 'ng': 0.05263157894736842, 'g.': 0.05263157894736842},\n",
    "  {'let': 0.05555555555555555, \"et'\": 0.05555555555555555, \"t's\": 0.05555555555555555, \"'s \": 0.05555555555555555, 's t': 0.05555555555555555, ' tr': 0.05555555555555555, 'try': 0.05555555555555555, 'ry ': 0.05555555555555555, 'y s': 0.05555555555555555, ' so': 0.05555555555555555, 'som': 0.05555555555555555, 'ome': 0.05555555555555555, 'met': 0.05555555555555555, 'eth': 0.05555555555555555, 'thi': 0.05555555555555555, 'hin': 0.05555555555555555, 'ing': 0.05555555555555555, 'ng.': 0.05555555555555555})`"
   ],
   "metadata": {}
  },
  {
   "cell_type": "markdown",
   "source": [
    "You will store the extracted features in a list that you will call `dataset_small_feat`"
   ],
   "metadata": {}
  },
  {
   "cell_type": "markdown",
   "source": [
    "We only compute the unigrams and bigrams as most students have slow machines"
   ],
   "metadata": {}
  },
  {
   "cell_type": "code",
   "execution_count": 12,
   "source": [
    "dataset_small_feat = [ (i[0], i[1], i[2], count_chars(i[2]), count_bigrams(i[2])) for i in dataset_small ]"
   ],
   "outputs": [],
   "metadata": {}
  },
  {
   "cell_type": "code",
   "execution_count": 13,
   "source": [
    "dataset_small_feat[:2]"
   ],
   "outputs": [
    {
     "output_type": "execute_result",
     "data": {
      "text/plain": [
       "[('1115',\n",
       "  'fra',\n",
       "  \"Lorsqu'il a demandé qui avait cassé la fenêtre, tous les garçons ont pris un air innocent.\",\n",
       "  {'l': 0.044444444444444446,\n",
       "   'o': 0.05555555555555555,\n",
       "   'r': 0.05555555555555555,\n",
       "   's': 0.07777777777777778,\n",
       "   'q': 0.022222222222222223,\n",
       "   'u': 0.044444444444444446,\n",
       "   \"'\": 0.011111111111111112,\n",
       "   'i': 0.06666666666666667,\n",
       "   ' ': 0.16666666666666666,\n",
       "   'a': 0.08888888888888889,\n",
       "   'd': 0.022222222222222223,\n",
       "   'e': 0.05555555555555555,\n",
       "   'm': 0.011111111111111112,\n",
       "   'n': 0.08888888888888889,\n",
       "   'é': 0.022222222222222223,\n",
       "   'v': 0.011111111111111112,\n",
       "   't': 0.05555555555555555,\n",
       "   'c': 0.022222222222222223,\n",
       "   'f': 0.011111111111111112,\n",
       "   'ê': 0.011111111111111112,\n",
       "   ',': 0.011111111111111112,\n",
       "   'g': 0.011111111111111112,\n",
       "   'ç': 0.011111111111111112,\n",
       "   'p': 0.011111111111111112,\n",
       "   '.': 0.011111111111111112},\n",
       "  {'lo': 0.011235955056179775,\n",
       "   'or': 0.011235955056179775,\n",
       "   'rs': 0.011235955056179775,\n",
       "   'sq': 0.011235955056179775,\n",
       "   'qu': 0.02247191011235955,\n",
       "   \"u'\": 0.011235955056179775,\n",
       "   \"'i\": 0.011235955056179775,\n",
       "   'il': 0.011235955056179775,\n",
       "   'l ': 0.011235955056179775,\n",
       "   ' a': 0.033707865168539325,\n",
       "   'a ': 0.02247191011235955,\n",
       "   ' d': 0.011235955056179775,\n",
       "   'de': 0.011235955056179775,\n",
       "   'em': 0.011235955056179775,\n",
       "   'ma': 0.011235955056179775,\n",
       "   'an': 0.011235955056179775,\n",
       "   'nd': 0.011235955056179775,\n",
       "   'dé': 0.011235955056179775,\n",
       "   'é ': 0.02247191011235955,\n",
       "   ' q': 0.011235955056179775,\n",
       "   'ui': 0.011235955056179775,\n",
       "   'i ': 0.011235955056179775,\n",
       "   'av': 0.011235955056179775,\n",
       "   'va': 0.011235955056179775,\n",
       "   'ai': 0.02247191011235955,\n",
       "   'it': 0.011235955056179775,\n",
       "   't ': 0.02247191011235955,\n",
       "   ' c': 0.011235955056179775,\n",
       "   'ca': 0.011235955056179775,\n",
       "   'as': 0.011235955056179775,\n",
       "   'ss': 0.011235955056179775,\n",
       "   'sé': 0.011235955056179775,\n",
       "   ' l': 0.02247191011235955,\n",
       "   'la': 0.011235955056179775,\n",
       "   ' f': 0.011235955056179775,\n",
       "   'fe': 0.011235955056179775,\n",
       "   'en': 0.02247191011235955,\n",
       "   'nê': 0.011235955056179775,\n",
       "   'êt': 0.011235955056179775,\n",
       "   'tr': 0.011235955056179775,\n",
       "   're': 0.011235955056179775,\n",
       "   'e,': 0.011235955056179775,\n",
       "   ', ': 0.011235955056179775,\n",
       "   ' t': 0.011235955056179775,\n",
       "   'to': 0.011235955056179775,\n",
       "   'ou': 0.011235955056179775,\n",
       "   'us': 0.011235955056179775,\n",
       "   's ': 0.0449438202247191,\n",
       "   'le': 0.011235955056179775,\n",
       "   'es': 0.011235955056179775,\n",
       "   ' g': 0.011235955056179775,\n",
       "   'ga': 0.011235955056179775,\n",
       "   'ar': 0.011235955056179775,\n",
       "   'rç': 0.011235955056179775,\n",
       "   'ço': 0.011235955056179775,\n",
       "   'on': 0.02247191011235955,\n",
       "   'ns': 0.011235955056179775,\n",
       "   ' o': 0.011235955056179775,\n",
       "   'nt': 0.02247191011235955,\n",
       "   ' p': 0.011235955056179775,\n",
       "   'pr': 0.011235955056179775,\n",
       "   'ri': 0.011235955056179775,\n",
       "   'is': 0.011235955056179775,\n",
       "   ' u': 0.011235955056179775,\n",
       "   'un': 0.011235955056179775,\n",
       "   'n ': 0.011235955056179775,\n",
       "   'ir': 0.011235955056179775,\n",
       "   'r ': 0.011235955056179775,\n",
       "   ' i': 0.011235955056179775,\n",
       "   'in': 0.011235955056179775,\n",
       "   'nn': 0.011235955056179775,\n",
       "   'no': 0.011235955056179775,\n",
       "   'oc': 0.011235955056179775,\n",
       "   'ce': 0.011235955056179775,\n",
       "   't.': 0.011235955056179775}),\n",
       " ('1276',\n",
       "  'eng',\n",
       "  \"Let's try something.\",\n",
       "  {'l': 0.05,\n",
       "   'e': 0.1,\n",
       "   't': 0.15,\n",
       "   \"'\": 0.05,\n",
       "   's': 0.1,\n",
       "   ' ': 0.1,\n",
       "   'r': 0.05,\n",
       "   'y': 0.05,\n",
       "   'o': 0.05,\n",
       "   'm': 0.05,\n",
       "   'h': 0.05,\n",
       "   'i': 0.05,\n",
       "   'n': 0.05,\n",
       "   'g': 0.05,\n",
       "   '.': 0.05},\n",
       "  {'le': 0.05263157894736842,\n",
       "   'et': 0.10526315789473684,\n",
       "   \"t'\": 0.05263157894736842,\n",
       "   \"'s\": 0.05263157894736842,\n",
       "   's ': 0.05263157894736842,\n",
       "   ' t': 0.05263157894736842,\n",
       "   'tr': 0.05263157894736842,\n",
       "   'ry': 0.05263157894736842,\n",
       "   'y ': 0.05263157894736842,\n",
       "   ' s': 0.05263157894736842,\n",
       "   'so': 0.05263157894736842,\n",
       "   'om': 0.05263157894736842,\n",
       "   'me': 0.05263157894736842,\n",
       "   'th': 0.05263157894736842,\n",
       "   'hi': 0.05263157894736842,\n",
       "   'in': 0.05263157894736842,\n",
       "   'ng': 0.05263157894736842,\n",
       "   'g.': 0.05263157894736842})]"
      ]
     },
     "metadata": {},
     "execution_count": 13
    }
   ],
   "metadata": {}
  },
  {
   "cell_type": "markdown",
   "source": [
    "The unigram frequencies"
   ],
   "metadata": {}
  },
  {
   "cell_type": "code",
   "execution_count": 14,
   "source": [
    "dataset_small_feat[0][3].items()"
   ],
   "outputs": [
    {
     "output_type": "execute_result",
     "data": {
      "text/plain": [
       "dict_items([('l', 0.044444444444444446), ('o', 0.05555555555555555), ('r', 0.05555555555555555), ('s', 0.07777777777777778), ('q', 0.022222222222222223), ('u', 0.044444444444444446), (\"'\", 0.011111111111111112), ('i', 0.06666666666666667), (' ', 0.16666666666666666), ('a', 0.08888888888888889), ('d', 0.022222222222222223), ('e', 0.05555555555555555), ('m', 0.011111111111111112), ('n', 0.08888888888888889), ('é', 0.022222222222222223), ('v', 0.011111111111111112), ('t', 0.05555555555555555), ('c', 0.022222222222222223), ('f', 0.011111111111111112), ('ê', 0.011111111111111112), (',', 0.011111111111111112), ('g', 0.011111111111111112), ('ç', 0.011111111111111112), ('p', 0.011111111111111112), ('.', 0.011111111111111112)])"
      ]
     },
     "metadata": {},
     "execution_count": 14
    }
   ],
   "metadata": {}
  },
  {
   "cell_type": "markdown",
   "source": [
    "The bigram frequencies"
   ],
   "metadata": {}
  },
  {
   "cell_type": "code",
   "execution_count": 15,
   "source": [
    "dataset_small_feat[0][4].items()"
   ],
   "outputs": [
    {
     "output_type": "execute_result",
     "data": {
      "text/plain": [
       "dict_items([('lo', 0.011235955056179775), ('or', 0.011235955056179775), ('rs', 0.011235955056179775), ('sq', 0.011235955056179775), ('qu', 0.02247191011235955), (\"u'\", 0.011235955056179775), (\"'i\", 0.011235955056179775), ('il', 0.011235955056179775), ('l ', 0.011235955056179775), (' a', 0.033707865168539325), ('a ', 0.02247191011235955), (' d', 0.011235955056179775), ('de', 0.011235955056179775), ('em', 0.011235955056179775), ('ma', 0.011235955056179775), ('an', 0.011235955056179775), ('nd', 0.011235955056179775), ('dé', 0.011235955056179775), ('é ', 0.02247191011235955), (' q', 0.011235955056179775), ('ui', 0.011235955056179775), ('i ', 0.011235955056179775), ('av', 0.011235955056179775), ('va', 0.011235955056179775), ('ai', 0.02247191011235955), ('it', 0.011235955056179775), ('t ', 0.02247191011235955), (' c', 0.011235955056179775), ('ca', 0.011235955056179775), ('as', 0.011235955056179775), ('ss', 0.011235955056179775), ('sé', 0.011235955056179775), (' l', 0.02247191011235955), ('la', 0.011235955056179775), (' f', 0.011235955056179775), ('fe', 0.011235955056179775), ('en', 0.02247191011235955), ('nê', 0.011235955056179775), ('êt', 0.011235955056179775), ('tr', 0.011235955056179775), ('re', 0.011235955056179775), ('e,', 0.011235955056179775), (', ', 0.011235955056179775), (' t', 0.011235955056179775), ('to', 0.011235955056179775), ('ou', 0.011235955056179775), ('us', 0.011235955056179775), ('s ', 0.0449438202247191), ('le', 0.011235955056179775), ('es', 0.011235955056179775), (' g', 0.011235955056179775), ('ga', 0.011235955056179775), ('ar', 0.011235955056179775), ('rç', 0.011235955056179775), ('ço', 0.011235955056179775), ('on', 0.02247191011235955), ('ns', 0.011235955056179775), (' o', 0.011235955056179775), ('nt', 0.02247191011235955), (' p', 0.011235955056179775), ('pr', 0.011235955056179775), ('ri', 0.011235955056179775), ('is', 0.011235955056179775), (' u', 0.011235955056179775), ('un', 0.011235955056179775), ('n ', 0.011235955056179775), ('ir', 0.011235955056179775), ('r ', 0.011235955056179775), (' i', 0.011235955056179775), ('in', 0.011235955056179775), ('nn', 0.011235955056179775), ('no', 0.011235955056179775), ('oc', 0.011235955056179775), ('ce', 0.011235955056179775), ('t.', 0.011235955056179775)])"
      ]
     },
     "metadata": {},
     "execution_count": 15
    }
   ],
   "metadata": {}
  },
  {
   "cell_type": "markdown",
   "source": [
    "## Programming: Building $\\mathbf{X}$"
   ],
   "metadata": {}
  },
  {
   "cell_type": "markdown",
   "source": [
    "You will now build the $\\mathbf{X}$ matrix. In this assignment, you will only consider unigrams to speed up the training step. This means that you will set aside the character bigrams and trigrams."
   ],
   "metadata": {}
  },
  {
   "cell_type": "markdown",
   "source": [
    "When you are done with the lab requirements, feel free to improve the program and include bigrams and trigrams. To add bigrams, a possible method is to add the bigram dictionary to the unigram one using update and then to extract the resulting dictionary. You can easily extend this to trigrams. Feel free to use another method if you want."
   ],
   "metadata": {}
  },
  {
   "cell_type": "code",
   "execution_count": 16,
   "source": [
    "INCLUDE_BIGRAMS = False\r\n",
    "if INCLUDE_BIGRAMS:\r\n",
    "    for i in range(len(dataset_small_feat)):\r\n",
    "        dataset_small_feat[i][3].update(dataset_small_feat[i][4])"
   ],
   "outputs": [],
   "metadata": {}
  },
  {
   "cell_type": "markdown",
   "source": [
    "### Vectorizing the features"
   ],
   "metadata": {}
  },
  {
   "cell_type": "markdown",
   "source": [
    "The CLD3 architecture uses embeddings. In this lab, we will simplify it and we will use a feature vector instead consisting of the character frequencies. For example, you will represent the text:\n",
    "\n",
    "`\"Let's try something.\"`\n",
    "\n",
    "with:\n",
    "\n",
    "`{'l': 0.05, 'e': 0.1, 't': 0.15, \"'\": 0.05, 's': 0.1, ' ': 0.1, \n",
    " 'r': 0.05, 'y': 0.05, 'o': 0.05, 'm': 0.05, 'h': 0.05, 'i': 0.05, \n",
    " 'n': 0.05, 'g': 0.05, '.': 0.05}`\n",
    "\n",
    "To create the $\\mathbf{X}$ matrix, we need to transform the dictionaries of `dataset_small` into numerical vectors. The `DictVectorizer` class from the scikit-learn library, see here [https://scikit-learn.org/stable/modules/generated/sklearn.feature_extraction.DictVectorizer.html], has two methods, `fit()` and `transform()`, and a combination of both `fit_transform()` to convert dictionaries into such vectors."
   ],
   "metadata": {}
  },
  {
   "cell_type": "markdown",
   "source": [
    "You will now write the code to:\n",
    "\n",
    "1. Extract the character frequency dictionaries from `dataset_small` corresponding to its 3rd index and set them in a list;\n",
    "2. Convert the list of dictionaries into an $\\mathbf{X}$ matrix using `DictVectorizer`."
   ],
   "metadata": {}
  },
  {
   "cell_type": "markdown",
   "source": [
    "#### Extracting the character frequencies"
   ],
   "metadata": {}
  },
  {
   "cell_type": "markdown",
   "source": [
    "Produce a new list of datapoints with the unigrams only. Each item in this list will be a dictionary. You will call it `X_cat`"
   ],
   "metadata": {}
  },
  {
   "cell_type": "code",
   "execution_count": 17,
   "source": [
    "X_cat = [x[3] for x in dataset_small_feat]"
   ],
   "outputs": [],
   "metadata": {}
  },
  {
   "cell_type": "code",
   "execution_count": 18,
   "source": [
    "X_cat[:2]"
   ],
   "outputs": [
    {
     "output_type": "execute_result",
     "data": {
      "text/plain": [
       "[{'l': 0.044444444444444446,\n",
       "  'o': 0.05555555555555555,\n",
       "  'r': 0.05555555555555555,\n",
       "  's': 0.07777777777777778,\n",
       "  'q': 0.022222222222222223,\n",
       "  'u': 0.044444444444444446,\n",
       "  \"'\": 0.011111111111111112,\n",
       "  'i': 0.06666666666666667,\n",
       "  ' ': 0.16666666666666666,\n",
       "  'a': 0.08888888888888889,\n",
       "  'd': 0.022222222222222223,\n",
       "  'e': 0.05555555555555555,\n",
       "  'm': 0.011111111111111112,\n",
       "  'n': 0.08888888888888889,\n",
       "  'é': 0.022222222222222223,\n",
       "  'v': 0.011111111111111112,\n",
       "  't': 0.05555555555555555,\n",
       "  'c': 0.022222222222222223,\n",
       "  'f': 0.011111111111111112,\n",
       "  'ê': 0.011111111111111112,\n",
       "  ',': 0.011111111111111112,\n",
       "  'g': 0.011111111111111112,\n",
       "  'ç': 0.011111111111111112,\n",
       "  'p': 0.011111111111111112,\n",
       "  '.': 0.011111111111111112},\n",
       " {'l': 0.05,\n",
       "  'e': 0.1,\n",
       "  't': 0.15,\n",
       "  \"'\": 0.05,\n",
       "  's': 0.1,\n",
       "  ' ': 0.1,\n",
       "  'r': 0.05,\n",
       "  'y': 0.05,\n",
       "  'o': 0.05,\n",
       "  'm': 0.05,\n",
       "  'h': 0.05,\n",
       "  'i': 0.05,\n",
       "  'n': 0.05,\n",
       "  'g': 0.05,\n",
       "  '.': 0.05}]"
      ]
     },
     "metadata": {},
     "execution_count": 18
    }
   ],
   "metadata": {}
  },
  {
   "cell_type": "markdown",
   "source": [
    "#### Vectorize `X_cat`"
   ],
   "metadata": {}
  },
  {
   "cell_type": "markdown",
   "source": [
    "Convert you `X_cat` matrix into a numerical representation using `DictVectorizer`: https://scikit-learn.org/stable/modules/generated/sklearn.feature_extraction.DictVectorizer.html"
   ],
   "metadata": {}
  },
  {
   "cell_type": "code",
   "execution_count": 19,
   "source": [
    "dict_vectorizer = DictVectorizer(sparse=True)\r\n",
    "X = dict_vectorizer.fit_transform(X_cat)"
   ],
   "outputs": [],
   "metadata": {}
  },
  {
   "cell_type": "markdown",
   "source": [
    "## Programming: Building $\\mathbf{y}$"
   ],
   "metadata": {}
  },
  {
   "cell_type": "markdown",
   "source": [
    "You will now convert the list of language symbols into a $\\mathbf{y}$ vector"
   ],
   "metadata": {}
  },
  {
   "cell_type": "markdown",
   "source": [
    "Extract the language symbols from `dataset_small_feat` and call the resulting list `y_cat`"
   ],
   "metadata": {}
  },
  {
   "cell_type": "code",
   "execution_count": 20,
   "source": [
    "y_cat = [ x[1] for x in dataset_small_feat ]"
   ],
   "outputs": [],
   "metadata": {}
  },
  {
   "cell_type": "code",
   "execution_count": 21,
   "source": [
    "y_cat[:5]"
   ],
   "outputs": [
    {
     "output_type": "execute_result",
     "data": {
      "text/plain": [
       "['fra', 'eng', 'eng', 'fra', 'eng']"
      ]
     },
     "metadata": {},
     "execution_count": 21
    }
   ],
   "metadata": {}
  },
  {
   "cell_type": "markdown",
   "source": [
    "Extract the set of language symbols and build two indices mapping the symbols to integers and the integers to symbols. Both indices will be dictionaries that you will call: `lang2inx`and `inx2lang`. Such a conversion is not necessary with sklearn. We do it because many other many machine-learning toolkits (keras or pytorch) require a numerical $\\mathbf{y}$ vector and to learn how to carry out this conversion."
   ],
   "metadata": {}
  },
  {
   "cell_type": "code",
   "execution_count": 22,
   "source": [
    "# inx2lang = { i: lang for (i, lang) in enumerate(list(set(y_cat)))}\r\n",
    "# lang2inx = { lang: i for (i, lang) in enumerate(list(set(y_cat)))}\r\n",
    "# The above code is what we would run if we did not want to compare our output to the predefined output\r\n",
    "# But now we run this instead\r\n",
    "y_symbols = set(y_cat)\r\n",
    "inx2lang = {0: 'eng', 1: 'fra', 2: 'swe'}\r\n",
    "lang2inx = {'eng': 0, 'fra': 1, 'swe': 2}"
   ],
   "outputs": [],
   "metadata": {}
  },
  {
   "cell_type": "code",
   "execution_count": 23,
   "source": [
    "inx2lang"
   ],
   "outputs": [
    {
     "output_type": "execute_result",
     "data": {
      "text/plain": [
       "{0: 'eng', 1: 'fra', 2: 'swe'}"
      ]
     },
     "metadata": {},
     "execution_count": 23
    }
   ],
   "metadata": {}
  },
  {
   "cell_type": "code",
   "execution_count": 24,
   "source": [
    "lang2inx"
   ],
   "outputs": [
    {
     "output_type": "execute_result",
     "data": {
      "text/plain": [
       "{'eng': 0, 'fra': 1, 'swe': 2}"
      ]
     },
     "metadata": {},
     "execution_count": 24
    }
   ],
   "metadata": {}
  },
  {
   "cell_type": "markdown",
   "source": [
    "Convert your `y_cat` vector into a numerical vector. Call this vector `y`."
   ],
   "metadata": {}
  },
  {
   "cell_type": "code",
   "execution_count": 25,
   "source": [
    "y = [ lang2inx[lang] for lang in y_cat ]"
   ],
   "outputs": [],
   "metadata": {}
  },
  {
   "cell_type": "code",
   "execution_count": 26,
   "source": [
    "y[:5]"
   ],
   "outputs": [
    {
     "output_type": "execute_result",
     "data": {
      "text/plain": [
       "[1, 0, 0, 1, 0]"
      ]
     },
     "metadata": {},
     "execution_count": 26
    }
   ],
   "metadata": {}
  },
  {
   "cell_type": "markdown",
   "source": [
    "## Programming: Building the Model"
   ],
   "metadata": {}
  },
  {
   "cell_type": "markdown",
   "source": [
    "Create a neural network using sklearn with a hidden layer of 50 nodes and a relu activation layer: https://scikit-learn.org/stable/modules/neural_networks_supervised.html. Set the maximal number of iterations to 5, in the beginning, and verbose to True. Use the default values for the rest. You will call your classifier `clf`"
   ],
   "metadata": {}
  },
  {
   "cell_type": "code",
   "execution_count": 27,
   "source": [
    "clf = MLPClassifier(hidden_layer_sizes=(50,), max_iter=5, verbose=True)"
   ],
   "outputs": [],
   "metadata": {}
  },
  {
   "cell_type": "code",
   "execution_count": 28,
   "source": [
    "clf"
   ],
   "outputs": [
    {
     "output_type": "execute_result",
     "data": {
      "text/plain": [
       "MLPClassifier(hidden_layer_sizes=(50,), max_iter=5, verbose=True)"
      ]
     },
     "metadata": {},
     "execution_count": 28
    }
   ],
   "metadata": {}
  },
  {
   "cell_type": "markdown",
   "source": [
    "### Training and Validation Sets"
   ],
   "metadata": {}
  },
  {
   "cell_type": "markdown",
   "source": [
    "You will now split the dataset into a training and validation sets"
   ],
   "metadata": {}
  },
  {
   "cell_type": "markdown",
   "source": [
    "#### We shuffle the indices"
   ],
   "metadata": {}
  },
  {
   "cell_type": "code",
   "execution_count": 29,
   "source": [
    "indices = list(range(X.shape[0]))\r\n",
    "np.random.shuffle(indices)\r\n",
    "print(indices[:10])\r\n",
    "X = X[indices, :]\r\n",
    "y = np.array(y)[indices]"
   ],
   "outputs": [
    {
     "output_type": "stream",
     "name": "stdout",
     "text": [
      "[955436, 1876926, 332487, 1816079, 962049, 997136, 27971, 1598197, 1404497, 1040621]\n"
     ]
    }
   ],
   "metadata": {}
  },
  {
   "cell_type": "markdown",
   "source": [
    "#### We split the dataset"
   ],
   "metadata": {}
  },
  {
   "cell_type": "code",
   "execution_count": 30,
   "source": [
    "training_examples = int(X.shape[0] * 0.8)\r\n",
    "\r\n",
    "X_train = X[:training_examples, :]\r\n",
    "y_train = y[:training_examples]\r\n",
    "\r\n",
    "X_val = X[training_examples:, :]\r\n",
    "y_val = y[training_examples:]"
   ],
   "outputs": [],
   "metadata": {}
  },
  {
   "cell_type": "markdown",
   "source": [
    "### Fitting the model"
   ],
   "metadata": {
    "tags": []
   }
  },
  {
   "cell_type": "markdown",
   "source": [
    "Fit the model on the training set"
   ],
   "metadata": {}
  },
  {
   "cell_type": "code",
   "execution_count": 31,
   "source": [
    "clf.fit(X_train, y_train)"
   ],
   "outputs": [
    {
     "output_type": "stream",
     "name": "stdout",
     "text": [
      "Iteration 1, loss = 0.12866456\n",
      "Iteration 2, loss = 0.07381181\n",
      "Iteration 3, loss = 0.06799815\n",
      "Iteration 4, loss = 0.06377757\n",
      "Iteration 5, loss = 0.06115219\n"
     ]
    },
    {
     "output_type": "stream",
     "name": "stderr",
     "text": [
      "C:\\Users\\filip\\anaconda3\\lib\\site-packages\\sklearn\\neural_network\\_multilayer_perceptron.py:614: ConvergenceWarning: Stochastic Optimizer: Maximum iterations (5) reached and the optimization hasn't converged yet.\n",
      "  warnings.warn(\n"
     ]
    },
    {
     "output_type": "execute_result",
     "data": {
      "text/plain": [
       "MLPClassifier(hidden_layer_sizes=(50,), max_iter=5, verbose=True)"
      ]
     },
     "metadata": {},
     "execution_count": 31
    }
   ],
   "metadata": {}
  },
  {
   "cell_type": "markdown",
   "source": [
    "## Predicting"
   ],
   "metadata": {}
  },
  {
   "cell_type": "markdown",
   "source": [
    "Predict the `X_val` languages. You will call the result `y_val_pred`"
   ],
   "metadata": {}
  },
  {
   "cell_type": "code",
   "execution_count": 32,
   "source": [
    "y_val_pred = clf.predict(X_val)"
   ],
   "outputs": [],
   "metadata": {}
  },
  {
   "cell_type": "code",
   "execution_count": 33,
   "source": [
    "print(y_val_pred[:10])\r\n",
    "print(y_val[:10])"
   ],
   "outputs": [
    {
     "output_type": "stream",
     "name": "stdout",
     "text": [
      "[0 0 0 0 0 0 1 0 0 0]\n",
      "[0 0 0 0 0 0 1 0 0 0]\n"
     ]
    }
   ],
   "metadata": {}
  },
  {
   "cell_type": "markdown",
   "source": [
    "#### Evaluating"
   ],
   "metadata": {}
  },
  {
   "cell_type": "code",
   "execution_count": 34,
   "source": [
    "# evaluate the model\r\n",
    "accuracy_score(y_val, y_val_pred)"
   ],
   "outputs": [
    {
     "output_type": "execute_result",
     "data": {
      "text/plain": [
       "0.9781991308980883"
      ]
     },
     "metadata": {},
     "execution_count": 34
    }
   ],
   "metadata": {}
  },
  {
   "cell_type": "code",
   "execution_count": 35,
   "source": [
    "print(classification_report(y_val, y_val_pred, target_names=y_symbols))\r\n",
    "print('Micro F1:', f1_score(y_val, y_val_pred, average='micro'))\r\n",
    "print('Macro F1', f1_score(y_val, y_val_pred, average='macro'))"
   ],
   "outputs": [
    {
     "output_type": "stream",
     "name": "stdout",
     "text": [
      "              precision    recall  f1-score   support\n",
      "\n",
      "         swe       0.98      0.99      0.99    305753\n",
      "         fra       0.96      0.95      0.96     94918\n",
      "         eng       0.97      0.89      0.93      8487\n",
      "\n",
      "    accuracy                           0.98    409158\n",
      "   macro avg       0.97      0.94      0.96    409158\n",
      "weighted avg       0.98      0.98      0.98    409158\n",
      "\n",
      "Micro F1: 0.9781991308980883\n",
      "Macro F1 0.9576416740391119\n"
     ]
    }
   ],
   "metadata": {}
  },
  {
   "cell_type": "markdown",
   "source": [
    "### Confusion Matrix"
   ],
   "metadata": {}
  },
  {
   "cell_type": "code",
   "execution_count": 36,
   "source": [
    "confusion_matrix(y_val, y_val_pred)"
   ],
   "outputs": [
    {
     "output_type": "execute_result",
     "data": {
      "text/plain": [
       "array([[302237,   3320,    196],\n",
       "       [  4444,  90426,     48],\n",
       "       [   823,     89,   7575]], dtype=int64)"
      ]
     },
     "metadata": {},
     "execution_count": 36
    }
   ],
   "metadata": {}
  },
  {
   "cell_type": "markdown",
   "source": [
    "Increase the number of iterations to improve the score. You may also change the parameters."
   ],
   "metadata": {}
  },
  {
   "cell_type": "markdown",
   "source": [
    "## Predict the language of a text"
   ],
   "metadata": {}
  },
  {
   "cell_type": "markdown",
   "source": [
    "Now predict the languages of the strings below."
   ],
   "metadata": {}
  },
  {
   "cell_type": "code",
   "execution_count": 37,
   "source": [
    "docs = [\"Salut les gars !\", \"Hejsan grabbar!\", \"Hello guys!\", \"Hejsan tjejer!\"]"
   ],
   "outputs": [],
   "metadata": {}
  },
  {
   "cell_type": "markdown",
   "source": [
    "Create features vectors from this list. Call this matrix `X_test`"
   ],
   "metadata": {}
  },
  {
   "cell_type": "code",
   "execution_count": 38,
   "source": [
    "X_cat_test = [count_chars(doc) for doc in docs]\r\n",
    "X_test = dict_vectorizer.transform(X_cat_test)"
   ],
   "outputs": [],
   "metadata": {}
  },
  {
   "cell_type": "code",
   "execution_count": 39,
   "source": [
    "X_test"
   ],
   "outputs": [
    {
     "output_type": "execute_result",
     "data": {
      "text/plain": [
       "<4x361 sparse matrix of type '<class 'numpy.float64'>'\n",
       "\twith 41 stored elements in Compressed Sparse Row format>"
      ]
     },
     "metadata": {},
     "execution_count": 39
    }
   ],
   "metadata": {}
  },
  {
   "cell_type": "markdown",
   "source": [
    "And run the prediction that you will store in a variable called `pred_languages`"
   ],
   "metadata": {}
  },
  {
   "cell_type": "code",
   "execution_count": 40,
   "source": [
    "res = clf.predict(X_test)\r\n",
    "pred_languages = [inx2lang[index] for index in res]"
   ],
   "outputs": [],
   "metadata": {}
  },
  {
   "cell_type": "code",
   "execution_count": 41,
   "source": [
    "pred_languages"
   ],
   "outputs": [
    {
     "output_type": "execute_result",
     "data": {
      "text/plain": [
       "['fra', 'swe', 'eng', 'swe']"
      ]
     },
     "metadata": {},
     "execution_count": 41
    }
   ],
   "metadata": {}
  },
  {
   "cell_type": "markdown",
   "source": [
    "## Submission"
   ],
   "metadata": {}
  },
  {
   "cell_type": "markdown",
   "source": [
    "When you have written all the code and run all the cells, fill in your ID and as well as the name of the notebook."
   ],
   "metadata": {}
  },
  {
   "cell_type": "code",
   "execution_count": 42,
   "source": [
    "STIL_ID = [\"fi1231ka-s\", \"fr5536sj-s\"] # Write your stil ids as a list\r\n",
    "CURRENT_NOTEBOOK_PATH = os.path.join(os.getcwd(), \r\n",
    "                                     \"3-language_detector.ipynb\") # Write the name of your notebook"
   ],
   "outputs": [],
   "metadata": {}
  },
  {
   "cell_type": "markdown",
   "source": [
    "The submission code will send your answer. It consists of the predicted languages."
   ],
   "metadata": {}
  },
  {
   "cell_type": "code",
   "execution_count": 43,
   "source": [
    "ANSWER = json.dumps({'pred_langs': pred_languages})\r\n",
    "ANSWER"
   ],
   "outputs": [
    {
     "output_type": "execute_result",
     "data": {
      "text/plain": [
       "'{\"pred_langs\": [\"fra\", \"swe\", \"eng\", \"swe\"]}'"
      ]
     },
     "metadata": {},
     "execution_count": 43
    }
   ],
   "metadata": {}
  },
  {
   "cell_type": "markdown",
   "source": [
    "Now the moment of truth:\n",
    "1. Save your notebook and\n",
    "2. Run the cells below"
   ],
   "metadata": {}
  },
  {
   "cell_type": "code",
   "execution_count": 44,
   "source": [
    "SUBMISSION_NOTEBOOK_PATH = CURRENT_NOTEBOOK_PATH + \".submission.bz2\""
   ],
   "outputs": [],
   "metadata": {}
  },
  {
   "cell_type": "code",
   "execution_count": 45,
   "source": [
    "ASSIGNMENT = 3\r\n",
    "API_KEY = \"f581ba347babfea0b8f2c74a3a6776a7\"\r\n",
    "\r\n",
    "# Copy and compress current notebook\r\n",
    "with bz2.open(SUBMISSION_NOTEBOOK_PATH, mode=\"wb\") as fout:\r\n",
    "    with open(CURRENT_NOTEBOOK_PATH, \"rb\") as fin:\r\n",
    "        fout.write(fin.read())"
   ],
   "outputs": [],
   "metadata": {}
  },
  {
   "cell_type": "code",
   "execution_count": 46,
   "source": [
    "res = requests.post(\"https://vilde.cs.lth.se/edan20checker/submit\", \r\n",
    "                    files={\"notebook_file\": open(SUBMISSION_NOTEBOOK_PATH, \"rb\")}, \r\n",
    "                    data={\r\n",
    "                        \"stil_id\": STIL_ID,\r\n",
    "                        \"assignment\": ASSIGNMENT,\r\n",
    "                        \"answer\": ANSWER,\r\n",
    "                        \"api_key\": API_KEY,\r\n",
    "                    },\r\n",
    "               verify=True)\r\n",
    "\r\n",
    "# from IPython.display import display, JSON\r\n",
    "res.json()"
   ],
   "outputs": [
    {
     "output_type": "execute_result",
     "data": {
      "text/plain": [
       "{'msg': None,\n",
       " 'status': 'correct',\n",
       " 'signature': '31d62152d75d73ba32274ddad19257641177639d77bfbed1cb124bd42004cd140b337c413a6c70cf9e82452d9b59822c216f8e9b0bd5050fd370d6197692b7ab',\n",
       " 'submission_id': 'f5cc4e54-40bb-454c-9100-763a9fd21a80'}"
      ]
     },
     "metadata": {},
     "execution_count": 46
    }
   ],
   "metadata": {}
  },
  {
   "cell_type": "markdown",
   "source": [
    "## Turning in your assignment"
   ],
   "metadata": {}
  },
  {
   "cell_type": "markdown",
   "source": [
    "Now your are done with the program. To complete this assignment, you will:\n",
    "1. Write a short individual report on your program. Do not forget to:\n",
    "   * Summarize CLD3 and outline its architecture\n",
    "   * Identify the features used by CLD3\n",
    "   * Include the feature matrix you computed manually\n",
    "\n",
    "Submit your report as well as your notebook (for archiving purposes) to Canvas: https://canvas.education.lu.se/. To write your report, you can either\n",
    "1. Write directly your text in Canvas, or\n",
    "2. Use Latex and Overleaf (www.overleaf.com). This will probably help you structure your text. You will then upload a PDF file in Canvas.\n",
    "\n",
    "The submission deadline is October 1st, 2021."
   ],
   "metadata": {}
  },
  {
   "cell_type": "markdown",
   "source": [
    "## Postscript from Pierre Nugues"
   ],
   "metadata": {}
  },
  {
   "cell_type": "markdown",
   "source": [
    "I created this assignment from an examination I wrote in 2019 for the course on applied machine learning. I simplified it from the `README.md` on GitHub, https://github.com/google/cld3. I found the C++ code difficult to understand and I reimplemented a Keras/Tensorflow version of it from this `README`. Should you be interested, you can find it here: https://github.com/pnugues/language-detector."
   ],
   "metadata": {}
  },
  {
   "cell_type": "code",
   "execution_count": null,
   "source": [],
   "outputs": [],
   "metadata": {}
  }
 ],
 "metadata": {
  "kernelspec": {
   "name": "python3",
   "display_name": "Python 3.8.8 64-bit ('base': conda)"
  },
  "language_info": {
   "codemirror_mode": {
    "name": "ipython",
    "version": 3
   },
   "file_extension": ".py",
   "mimetype": "text/x-python",
   "name": "python",
   "nbconvert_exporter": "python",
   "pygments_lexer": "ipython3",
   "version": "3.8.8"
  },
  "interpreter": {
   "hash": "1b01d829dac8ca1a8f35a8697f342666f6cab48c37e2c1e337b0d17d76583aaf"
  }
 },
 "nbformat": 4,
 "nbformat_minor": 4
}