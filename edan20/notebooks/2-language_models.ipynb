{
 "cells": [
  {
   "cell_type": "markdown",
   "source": [
    "# Assignment #2: Language models\n",
    "Author: Pierre Nugues"
   ],
   "metadata": {}
  },
  {
   "cell_type": "markdown",
   "source": [
    "## Objectives"
   ],
   "metadata": {}
  },
  {
   "cell_type": "markdown",
   "source": [
    "The objectives of this assignment are to:\n",
    "* Write a program to find n-gram statistics\n",
    "* Compute the probability of a sentence\n",
    "* Know what a language model is\n",
    "* Write a short report of 1 to 2 pages on the assignment"
   ],
   "metadata": {}
  },
  {
   "cell_type": "markdown",
   "source": [
    "## Submission"
   ],
   "metadata": {}
  },
  {
   "cell_type": "markdown",
   "source": [
    "Once you have written all the missing code and run all the cells, you will submit your notebook to an automatic marking system. Do not erase the content of the cells as we will possibly check your programs manually.\n",
    "The submission instructions are at the bottom of the notebook."
   ],
   "metadata": {}
  },
  {
   "cell_type": "markdown",
   "source": [
    "## Organization"
   ],
   "metadata": {}
  },
  {
   "cell_type": "markdown",
   "source": [
    "* Each group will have to write Python programs to count unigrams, bigrams, and trigrams in a corpus of approximately one million words and to determine the probability of a sentence.\n",
    "* You can test you regular expression using the regex101.com site\n",
    "* Each student will have to write a short report of one to two pages and comment briefly the results. In your report, you must produce the tabulated results of your analysis as described below."
   ],
   "metadata": {}
  },
  {
   "cell_type": "markdown",
   "source": [
    "## Programming"
   ],
   "metadata": {}
  },
  {
   "cell_type": "markdown",
   "source": [
    "### Imports"
   ],
   "metadata": {}
  },
  {
   "cell_type": "markdown",
   "source": [
    "Some imports you may need. Add others as needed."
   ],
   "metadata": {}
  },
  {
   "cell_type": "code",
   "execution_count": 124,
   "source": [
    "import bz2\n",
    "import math\n",
    "import os\n",
    "import regex as re\n",
    "import requests\n",
    "import sys\n",
    "from zipfile import ZipFile\n",
    "import numpy as np"
   ],
   "outputs": [],
   "metadata": {}
  },
  {
   "cell_type": "markdown",
   "source": [
    "### Collecting and analyzing a corpus"
   ],
   "metadata": {}
  },
  {
   "cell_type": "markdown",
   "source": [
    "Retrieve a corpus of novels by Selma Lagerl&ouml;f from this URL:\n",
    "<a href=\"https://github.com/pnugues/ilppp/blob/master/programs/corpus/Selma.txt\">\n",
    "    <tt>https://github.com/pnugues/ilppp/blob/master/programs/corpus/Selma.txt</tt>\n",
    "</a>. The text of these novels was extracted\n",
    "from <a href=\"https://litteraturbanken.se/forfattare/LagerlofS/titlar\">Lagerlöf arkivet</a> at\n",
    "<a href=\"https://litteraturbanken.se/\">Litteraturbanken</a>."
   ],
   "metadata": {}
  },
  {
   "cell_type": "code",
   "execution_count": 125,
   "source": [
    "# You may have to adjust the path\n",
    "corpus = open('./Selma/Selma.txt', encoding='utf8').read()"
   ],
   "outputs": [],
   "metadata": {}
  },
  {
   "cell_type": "markdown",
   "source": [
    "Run the <a href=\"https://github.com/pnugues/ilppp/tree/master/programs/ch02/python\">concordance\n",
    "program </a> to print the lines containing a specific word, for instance <i>Nils</i>."
   ],
   "metadata": {}
  },
  {
   "cell_type": "code",
   "execution_count": 126,
   "source": [
    "pattern = 'Nils Holgersson'\n",
    "width = 25"
   ],
   "outputs": [],
   "metadata": {}
  },
  {
   "cell_type": "code",
   "execution_count": 127,
   "source": [
    "# spaces match tabs and newlines\n",
    "pattern = re.sub(' ', '\\\\s+', pattern)\n",
    "# Replaces newlines with spaces in the text\n",
    "clean_corpus = re.sub('\\s+', ' ', corpus)\n",
    "concordance = ('(.{{0,{width}}}{pattern}.{{0,{width}}})'\n",
    "               .format(pattern=pattern, width=width))\n",
    "for match in re.finditer(concordance, clean_corpus):\n",
    "    print(match.group(1))\n",
    "# print the string with 0..width characters on either side"
   ],
   "outputs": [
    {
     "output_type": "stream",
     "name": "stdout",
     "text": [
      "Selma Lagerlöf Nils Holgerssons underbara resa genom Sv\n",
      "! Se på Tummetott! Se på Nils Holgersson Tummetott!» Genast vände\n",
      "r,» sade han. »Jag heter Nils Holgersson och är son till en husma\n",
      "lden. »Inte är det värt, Nils Holgersson, att du är ängslig eller\n",
      " i dem. På den tiden, då Nils Holgersson drog omkring med vildgäs\n",
      "ulle allt visa honom vad Nils Holgersson från Västra Vemmenhög va\n",
      "om ägde rum det året, då Nils Holgersson for omkring med vildgäss\n",
      "m vad det kan kosta dem. Nils Holgersson hade inte haft förstånd \n",
      "de det inte mer sägas om Nils Holgersson, att han inte tyckte om \n",
      " Rosenbom?» För där stod Nils Holgersson mitt uppe på Rosenboms n\n",
      " Med ens fingo de syn på Nils Holgersson, och då sköt den store v\n",
      "vila. När vildgässen och Nils Holgersson äntligen hade letat sig \n",
      " slags arbetare. Men vad Nils Holgersson inte såg, det var, att s\n",
      "nde han fråga, och om då Nils Holgersson sade nej, började han ge\n",
      "de lille Mats, och om nu Nils Holgersson också hade tegat, så had\n",
      "åg så försmädlig ut, att Nils Holgersson kastade sig över honom f\n",
      " brodern. Och inte ville Nils Holgersson slåss med en tös, utan h\n",
      "örkar. På den tiden, när Nils Holgersson for omkring med vildgäss\n",
      " ryckte omkull honom. Om Nils Holgersson genast hade ropat på hjä\n",
      "u reda dig på egen hand, Nils Holgersson,» sade han då till sig s\n",
      "r satte Fumle-Drumle ner Nils Holgersson på bottnen av en sandgro\n",
      "mlingarna. – »Jo, jag är Nils Holgersson från Västra Vemmenhög, s\n",
      "rakten. På den tiden, då Nils Holgersson for omkring med vildgäss\n",
      "Jo, det står – Det står: Nils Holgersson fr. V. Vemmenhög.» »Det \n",
      "visan 1 Sveriges karta 2 Nils Holgerssons underbara resa genom Sv\n",
      "admalsvåden 233 ________ Nils Holgerssons underbara resa genom Sv\n",
      "R. Tolv år ungefär innan Nils Holgersson hade börjat resa omkring\n",
      "och leta efter föda, men Nils Holgersson hade på morgonen tappat \n",
      "ill i Närke det året, då Nils Holgersson for fram över landskapet\n",
      "hade flyttat tassen över Nils Holgerssons ansikte, så att den sta\n",
      "29 april. Denna dag fick Nils Holgersson se södra Dalarna. Vildgä\n",
      "rliga sjön. Det året, då Nils Holgersson for med vildgässen genom\n",
      "t skänka upptäckten till Nils Holgersson. Det var ju både det tro\n",
      " som sången varade, stod Nils Holgersson och lyssnade till den, m\n",
      "ova på en vassrugge. Vad Nils Holgersson angår, så var han för hu\n",
      "e svårt för en sådan som Nils Holgersson att finna en farkost. Ha\n",
      "r de hade kommit mittför Nils Holgersson, slogo de sig ner på ett\n",
      " 5 maj. På den tiden, då Nils Holgersson drog genom landet med vi\n",
      "an vara bra lycklig. Att Nils Holgersson, som för ett par timmar \n",
      " afton. Och således hade Nils Holgersson fått se studenterna, när\n",
      "nger under marschen. Men Nils Holgersson hade tyckt, att det inte\n",
      "och glädja så som dessa. Nils Holgersson hade mest sett på studen\n",
      "m, stannade han. »Jag är Nils Holgersson från Västra Vemmenhög,» \n",
      " Ett par år före det, då Nils Holgersson drog omkring med vildgäs\n",
      " detsamma fattade han om Nils Holgersson med sin stora fot, höjde\n",
      "t ingen mer än den lilla Nils Holgersson, som följde henne. Solen\n",
      " voro klädda med is, och Nils Holgersson ville följa henne dit in\n",
      "t Lappland är mitt!» Men Nils Holgersson hade blivit så ängslig, \n",
      " över klippväggarna, och Nils Holgersson kunde förstå, att det va\n",
      " SJUKDOMEN. Det året, då Nils Holgersson for omkring med vildgäss\n",
      "jligt att undgå den. Vad Nils Holgersson beträffar, så hade han h\n",
      "hade hon slagit klorna i Nils Holgerssons skuldra och hackade eft\n",
      "g, att just det året, då Nils Holgersson for omkring med vildgäss\n",
      " lönt att vara bedrövad, Nils Holgersson,» sade solen. »Världen ä\n",
      "åga om han inte kunde ge Nils Holgersson bättre villkor. ’Det öns\n",
      "du vill,’ sade han. ’Med Nils Holgersson blir det ändå så, som ja\n",
      "a haft av honom. Ja, säg Nils Holgersson, att föräldrarna redan h\n",
      "Västergötland. Den lille Nils Holgersson hade krupit upp på en la\n",
      " honom sämre.» Den lille Nils Holgersson hade följt med barnen he\n",
      "e bara störa.» Då tyckte Nils Holgersson, att när ingen annan gjo\n",
      "n färdig att följa det.» Nils Holgersson sprang raskt neråt vägen\n",
      "rott mellan de unga. Vad Nils Holgersson beträffar, så hade han i\n",
      "on gav sig tid att se på Nils Holgersson, innan hon stötte till. \n",
      " ändå alldeles olik. Den Nils Holgersson, som hade farit bort i v\n",
      " tro det. Välkommen hem, Nils Holgersson, välkommen hem! Det här \n",
      "mig här på gården,» sade Nils Holgersson. »Min egen mor tror, att\n",
      "on riktig sjukdom,» sade Nils Holgersson. »Jag får försöka ställa\n",
      "in kniv här på din hov?» Nils Holgersson var nätt och jämnt färdi\n",
      "sslingen, som var så lik Nils Holgersson, att om det inte var han\n",
      "pojken fanns i närheten. Nils Holgersson hörde honom nog, men han\n",
      "ottrar ihop ett tack för Nils Holgersson? Vad skulle det ha blivi\n"
     ]
    }
   ],
   "metadata": {}
  },
  {
   "cell_type": "markdown",
   "source": [
    "Run a simple <a href=\"https://github.com/pnugues/ilppp/tree/master/programs/ch05/python\">tokenization\n",
    "program</a> on your corpus."
   ],
   "metadata": {}
  },
  {
   "cell_type": "code",
   "execution_count": 128,
   "source": [
    "def tokenize(text):\n",
    "    words = re.findall('\\p{L}+', text)\n",
    "    return words"
   ],
   "outputs": [],
   "metadata": {}
  },
  {
   "cell_type": "code",
   "execution_count": 129,
   "source": [
    "words = tokenize(corpus)\n",
    "words[:10]"
   ],
   "outputs": [
    {
     "output_type": "execute_result",
     "data": {
      "text/plain": [
       "['Selma',\n",
       " 'Lagerlöf',\n",
       " 'Nils',\n",
       " 'Holgerssons',\n",
       " 'underbara',\n",
       " 'resa',\n",
       " 'genom',\n",
       " 'Sverige',\n",
       " 'Första',\n",
       " 'bandet']"
      ]
     },
     "metadata": {},
     "execution_count": 129
    }
   ],
   "metadata": {}
  },
  {
   "cell_type": "markdown",
   "source": [
    "Count the number of unique words in the original corpus and when setting all the words in lowercase"
   ],
   "metadata": {}
  },
  {
   "cell_type": "markdown",
   "source": [
    "Original text"
   ],
   "metadata": {}
  },
  {
   "cell_type": "code",
   "execution_count": 130,
   "source": [
    "unique_words_original = set(words)\n",
    "len(unique_words_original)"
   ],
   "outputs": [
    {
     "output_type": "execute_result",
     "data": {
      "text/plain": [
       "44256"
      ]
     },
     "metadata": {},
     "execution_count": 130
    }
   ],
   "metadata": {}
  },
  {
   "cell_type": "markdown",
   "source": [
    "Lowercased text"
   ],
   "metadata": {}
  },
  {
   "cell_type": "code",
   "execution_count": 131,
   "source": [
    "unique_lower = set(map(str.lower, words))\n",
    "len(unique_lower)"
   ],
   "outputs": [
    {
     "output_type": "execute_result",
     "data": {
      "text/plain": [
       "41032"
      ]
     },
     "metadata": {},
     "execution_count": 131
    }
   ],
   "metadata": {}
  },
  {
   "cell_type": "markdown",
   "source": [
    "### Segmenting a corpus"
   ],
   "metadata": {}
  },
  {
   "cell_type": "markdown",
   "source": [
    "You will write a program to tokenize your text, insert `<s>` and `</s>` tags to delimit sentences, and set all the words in lowercase letters. In the end, you will only keep the words."
   ],
   "metadata": {}
  },
  {
   "cell_type": "markdown",
   "source": [
    "#### Normalizing "
   ],
   "metadata": {}
  },
  {
   "cell_type": "markdown",
   "source": [
    "Write a regular expression that matches all the characters that are neither a letter nor a punctuation sign. The punctuations signs will be the followings: `.;:?!`. In your regex, use the same order. For the definition of a letter, use a Unicode regex. You will call the regex string `nonletter`"
   ],
   "metadata": {}
  },
  {
   "cell_type": "code",
   "execution_count": 132,
   "source": [
    "nonletter = '[^\\p{L}\\.\\;\\:\\?\\!]'"
   ],
   "outputs": [],
   "metadata": {}
  },
  {
   "cell_type": "markdown",
   "source": [
    "Write a `clean()` function that replaces all the characters that are neither a letter nor a punctuation sign with a space. The punctuations signs will be the followings: `.;:?!`.   For the sentence:\n",
    "\n",
    "_En gång hade de på Mårbacka en barnpiga, som hette Back-Kajsa._\n",
    "\n",
    "the result will be:\n",
    "\n",
    "`En gång hade de på Mårbacka en barnpiga som hette Back Kajsa.`"
   ],
   "metadata": {}
  },
  {
   "cell_type": "code",
   "execution_count": 133,
   "source": [
    "def clean(text):\n",
    "    return re.sub(nonletter, ' ', text)"
   ],
   "outputs": [],
   "metadata": {}
  },
  {
   "cell_type": "code",
   "execution_count": 134,
   "source": [
    "test_para = 'En gång hade de på Mårbacka en barnpiga, som hette Back-Kajsa. \\\n",
    "Hon var nog sina tre alnar lång, hon hade ett stort, grovt ansikte med stränga, mörka drag, \\\n",
    "hennes händer voro hårda och fulla av sprickor, som barnens hår fastnade i, \\\n",
    "när hon kammade dem, och till humöret var hon dyster och sorgbunden.'"
   ],
   "outputs": [],
   "metadata": {}
  },
  {
   "cell_type": "code",
   "execution_count": 135,
   "source": [
    "test_para = clean(test_para)\n",
    "test_para"
   ],
   "outputs": [
    {
     "output_type": "execute_result",
     "data": {
      "text/plain": [
       "'En gång hade de på Mårbacka en barnpiga  som hette Back Kajsa. Hon var nog sina tre alnar lång  hon hade ett stort  grovt ansikte med stränga  mörka drag  hennes händer voro hårda och fulla av sprickor  som barnens hår fastnade i  när hon kammade dem  och till humöret var hon dyster och sorgbunden.'"
      ]
     },
     "metadata": {},
     "execution_count": 135
    }
   ],
   "metadata": {}
  },
  {
   "cell_type": "markdown",
   "source": [
    "#### Segmenter"
   ],
   "metadata": {}
  },
  {
   "cell_type": "markdown",
   "source": [
    "In this section, you will write a sentence segmenter that will delimit each sentence with `</s>` and `<s>` symbols. For example the sentence:\n",
    "\n",
    "_En gång hade de på Mårbacka en barnpiga, som hette Back-Kajsa._\n",
    "\n",
    "will be bracketed as:\n",
    "\n",
    "`<s> En gång hade de på Mårbacka en barnpiga som hette Back-Kajsa </s>`\n",
    "\n",
    "As algorithm, you will use a simple heuristics to detect the sentence boundaries: A sentence starts with a capital letter and ends with a period-equivalent punctuation sign. You will write a regex to match these boundaries with a regular expression and you will insert `</s>\\n<s>` symbols with a substitution function."
   ],
   "metadata": {}
  },
  {
   "cell_type": "markdown",
   "source": [
    "##### Detecting sentence boundaries"
   ],
   "metadata": {}
  },
  {
   "cell_type": "markdown",
   "source": [
    "Write a regular expression that matches a punctuation, a sequence of spaces, and an uppercase letter. Call this regex string `sentence_boundaries`. In the regex, you will remember the value of the uppercase letter using a backreference. Use the Unicode regexes for the letters and the spaces."
   ],
   "metadata": {}
  },
  {
   "cell_type": "code",
   "execution_count": 136,
   "source": [
    "sentence_boundaries = '\\p{P}\\p{Z}+(\\p{Lu})'"
   ],
   "outputs": [],
   "metadata": {}
  },
  {
   "cell_type": "markdown",
   "source": [
    "##### Replacement markup"
   ],
   "metadata": {}
  },
  {
   "cell_type": "markdown",
   "source": [
    "Write a string to replace the matched boundaries with the sentence boundary markup. Remember that a sentence ends with `</s>` and starts with `<s>` and that there is one sentence per line. Hint: The markup is `</s>\\n<s>`. Remember also that the first letter of your sentence is in a regex backreference. Call the regex string `sentence_markup`."
   ],
   "metadata": {}
  },
  {
   "cell_type": "code",
   "execution_count": 137,
   "source": [
    "sentence_markup = r' </s>\\n<s> \\1'"
   ],
   "outputs": [],
   "metadata": {}
  },
  {
   "cell_type": "markdown",
   "source": [
    "##### Applying the substitution"
   ],
   "metadata": {}
  },
  {
   "cell_type": "markdown",
   "source": [
    "Use your regexes to segment your text. Use the string `sentence_boundaries`, `sentence_markup`, and `test_para` as input and `text` as output."
   ],
   "metadata": {}
  },
  {
   "cell_type": "code",
   "execution_count": 138,
   "source": [
    "text = re.sub(sentence_boundaries, sentence_markup, test_para)"
   ],
   "outputs": [],
   "metadata": {}
  },
  {
   "cell_type": "code",
   "execution_count": 139,
   "source": [
    "print(text)"
   ],
   "outputs": [
    {
     "output_type": "stream",
     "name": "stdout",
     "text": [
      "En gång hade de på Mårbacka en barnpiga  som hette Back Kajsa </s>\n",
      "<s> Hon var nog sina tre alnar lång  hon hade ett stort  grovt ansikte med stränga  mörka drag  hennes händer voro hårda och fulla av sprickor  som barnens hår fastnade i  när hon kammade dem  och till humöret var hon dyster och sorgbunden.\n"
     ]
    }
   ],
   "metadata": {}
  },
  {
   "cell_type": "markdown",
   "source": [
    "Insert markup codes in the beginning and end of the text"
   ],
   "metadata": {}
  },
  {
   "cell_type": "code",
   "execution_count": 140,
   "source": [
    "text = '<s>' + text + ' </s>'"
   ],
   "outputs": [],
   "metadata": {}
  },
  {
   "cell_type": "code",
   "execution_count": 141,
   "source": [
    "print(text)"
   ],
   "outputs": [
    {
     "output_type": "stream",
     "name": "stdout",
     "text": [
      "<s>En gång hade de på Mårbacka en barnpiga  som hette Back Kajsa </s>\n",
      "<s> Hon var nog sina tre alnar lång  hon hade ett stort  grovt ansikte med stränga  mörka drag  hennes händer voro hårda och fulla av sprickor  som barnens hår fastnade i  när hon kammade dem  och till humöret var hon dyster och sorgbunden. </s>\n"
     ]
    }
   ],
   "metadata": {}
  },
  {
   "cell_type": "markdown",
   "source": [
    "Replace the space duplicates with one space and remove the punctuation signs. For the spaces, use the Unicode regex."
   ],
   "metadata": {}
  },
  {
   "cell_type": "code",
   "execution_count": 142,
   "source": [
    "text = re.sub(r'\\p{Z}{2,}', ' ', text)\n",
    "text = re.sub(r'\\.', '', text)"
   ],
   "outputs": [],
   "metadata": {}
  },
  {
   "cell_type": "code",
   "execution_count": 143,
   "source": [
    "print(text)"
   ],
   "outputs": [
    {
     "output_type": "stream",
     "name": "stdout",
     "text": [
      "<s>En gång hade de på Mårbacka en barnpiga som hette Back Kajsa </s>\n",
      "<s> Hon var nog sina tre alnar lång hon hade ett stort grovt ansikte med stränga mörka drag hennes händer voro hårda och fulla av sprickor som barnens hår fastnade i när hon kammade dem och till humöret var hon dyster och sorgbunden </s>\n"
     ]
    }
   ],
   "metadata": {}
  },
  {
   "cell_type": "markdown",
   "source": [
    "Write a `segment_sentences(text)` function to gather the code in the Segmenter section and set the text in lowercase"
   ],
   "metadata": {}
  },
  {
   "cell_type": "code",
   "execution_count": 144,
   "source": [
    "def segment_sentences(text):\n",
    "    text = clean(text)\n",
    "    text = re.sub(sentence_boundaries, sentence_markup, text)\n",
    "    text = '<s> ' + text + ' </s>'\n",
    "    text = text.lower()\n",
    "    text = re.sub(r'\\p{Z}{2,}', ' ', text)\n",
    "    text = re.sub(r'\\.', '', text)\n",
    "    return text\n",
    "\n",
    "    "
   ],
   "outputs": [],
   "metadata": {}
  },
  {
   "cell_type": "code",
   "execution_count": 145,
   "source": [
    "print(segment_sentences(test_para))"
   ],
   "outputs": [
    {
     "output_type": "stream",
     "name": "stdout",
     "text": [
      "<s> en gång hade de på mårbacka en barnpiga som hette back kajsa </s>\n",
      "<s> hon var nog sina tre alnar lång hon hade ett stort grovt ansikte med stränga mörka drag hennes händer voro hårda och fulla av sprickor som barnens hår fastnade i när hon kammade dem och till humöret var hon dyster och sorgbunden </s>\n"
     ]
    }
   ],
   "metadata": {}
  },
  {
   "cell_type": "markdown",
   "source": [
    "Estimate roughly the accuracy of your program."
   ],
   "metadata": {}
  },
  {
   "cell_type": "markdown",
   "source": [
    "#### Tokenizing the corpus"
   ],
   "metadata": {}
  },
  {
   "cell_type": "markdown",
   "source": [
    "Clean and segment the corpus"
   ],
   "metadata": {}
  },
  {
   "cell_type": "code",
   "execution_count": 146,
   "source": [
    "corpus = segment_sentences(corpus)"
   ],
   "outputs": [],
   "metadata": {}
  },
  {
   "cell_type": "markdown",
   "source": [
    "The result should be a normalized text without punctuation signs where all the sentences are delimited with `<s>` and `</s>` tags. The five last lines of the text should look like this."
   ],
   "metadata": {}
  },
  {
   "cell_type": "code",
   "execution_count": 147,
   "source": [
    "print(corpus[-557:])"
   ],
   "outputs": [
    {
     "output_type": "stream",
     "name": "stdout",
     "text": [
      "<s> hon hade fått större kärlek av sina föräldrar än någon annan han visste och sådan kärlek måste vändas i välsignelse </s>\n",
      "<s> då prästen sade detta kom alla människor att se bort mot klara gulla och de förundrade sig över vad de såg </s>\n",
      "<s> prästens ord tycktes redan ha gått i uppfyllelse </s>\n",
      "<s> där stod klara fina gulleborg ifrån skrolycka hon som var uppkallad efter själva solen vid sina föräldrars grav och lyste som en förklarad </s>\n",
      "<s> hon var likaså vacker som den söndagen då hon gick till kyrkan i den röda klänningen om inte vackrare </s>\n"
     ]
    }
   ],
   "metadata": {}
  },
  {
   "cell_type": "markdown",
   "source": [
    "You will now create a list of words from your string. You will consider that a space or a carriage return is an item separator"
   ],
   "metadata": {}
  },
  {
   "cell_type": "code",
   "execution_count": 148,
   "source": [
    "words = re.findall(r'[^\\n|^ ]+', corpus)"
   ],
   "outputs": [],
   "metadata": {}
  },
  {
   "cell_type": "markdown",
   "source": [
    "The five last lines of the corpus should like this:"
   ],
   "metadata": {}
  },
  {
   "cell_type": "code",
   "execution_count": 149,
   "source": [
    "print(words[-101:])"
   ],
   "outputs": [
    {
     "output_type": "stream",
     "name": "stdout",
     "text": [
      "['<s>', 'hon', 'hade', 'fått', 'större', 'kärlek', 'av', 'sina', 'föräldrar', 'än', 'någon', 'annan', 'han', 'visste', 'och', 'sådan', 'kärlek', 'måste', 'vändas', 'i', 'välsignelse', '</s>', '<s>', 'då', 'prästen', 'sade', 'detta', 'kom', 'alla', 'människor', 'att', 'se', 'bort', 'mot', 'klara', 'gulla', 'och', 'de', 'förundrade', 'sig', 'över', 'vad', 'de', 'såg', '</s>', '<s>', 'prästens', 'ord', 'tycktes', 'redan', 'ha', 'gått', 'i', 'uppfyllelse', '</s>', '<s>', 'där', 'stod', 'klara', 'fina', 'gulleborg', 'ifrån', 'skrolycka', 'hon', 'som', 'var', 'uppkallad', 'efter', 'själva', 'solen', 'vid', 'sina', 'föräldrars', 'grav', 'och', 'lyste', 'som', 'en', 'förklarad', '</s>', '<s>', 'hon', 'var', 'likaså', 'vacker', 'som', 'den', 'söndagen', 'då', 'hon', 'gick', 'till', 'kyrkan', 'i', 'den', 'röda', 'klänningen', 'om', 'inte', 'vackrare', '</s>']\n"
     ]
    }
   ],
   "metadata": {}
  },
  {
   "cell_type": "markdown",
   "source": [
    "### Counting unigrams and bigrams"
   ],
   "metadata": {}
  },
  {
   "cell_type": "markdown",
   "source": [
    "Read and try programs to compute the frequency of unigrams and bigrams of the training set: [<a\n",
    "            href=\"https://github.com/pnugues/ilppp/tree/master/programs/ch05/python\">Program folder</a>]."
   ],
   "metadata": {}
  },
  {
   "cell_type": "markdown",
   "source": [
    "#### Unigrams"
   ],
   "metadata": {}
  },
  {
   "cell_type": "code",
   "execution_count": 150,
   "source": [
    "def unigrams(words):\n",
    "    frequency = {}\n",
    "    for i in range(len(words)):\n",
    "        if words[i] in frequency:\n",
    "            frequency[words[i]] += 1\n",
    "        else:\n",
    "            frequency[words[i]] = 1\n",
    "    return frequency"
   ],
   "outputs": [],
   "metadata": {}
  },
  {
   "cell_type": "markdown",
   "source": [
    "We compute the frequencies."
   ],
   "metadata": {}
  },
  {
   "cell_type": "code",
   "execution_count": 151,
   "source": [
    "frequency = unigrams(words)\n",
    "list(frequency.items())[:20]"
   ],
   "outputs": [
    {
     "output_type": "execute_result",
     "data": {
      "text/plain": [
       "[('<s>', 59047),\n",
       " ('selma', 51),\n",
       " ('lagerlöf', 269),\n",
       " ('nils', 87),\n",
       " ('holgerssons', 6),\n",
       " ('underbara', 23),\n",
       " ('resa', 316),\n",
       " ('genom', 688),\n",
       " ('sverige', 54),\n",
       " ('</s>', 59047),\n",
       " ('första', 525),\n",
       " ('bandet', 6),\n",
       " ('bokutgåva', 11),\n",
       " ('albert', 15),\n",
       " ('bonniers', 11),\n",
       " ('förlag', 11),\n",
       " ('stockholm', 77),\n",
       " ('den', 11611),\n",
       " ('kristliga', 2),\n",
       " ('dagvisan', 2)]"
      ]
     },
     "metadata": {},
     "execution_count": 151
    }
   ],
   "metadata": {}
  },
  {
   "cell_type": "markdown",
   "source": [
    "#### Bigrams"
   ],
   "metadata": {}
  },
  {
   "cell_type": "code",
   "execution_count": 152,
   "source": [
    "def bigrams(words):\n",
    "    bigrams = []\n",
    "    for i in range(len(words) - 1):\n",
    "        bigrams.append((words[i], words[i + 1]))\n",
    "    frequency_bigrams = {}\n",
    "    for i in range(len(words) - 1):\n",
    "        if bigrams[i] in frequency_bigrams:\n",
    "            frequency_bigrams[bigrams[i]] += 1\n",
    "        else:\n",
    "            frequency_bigrams[bigrams[i]] = 1\n",
    "    return frequency_bigrams"
   ],
   "outputs": [],
   "metadata": {}
  },
  {
   "cell_type": "code",
   "execution_count": 153,
   "source": [
    "frequency_bigrams = bigrams(words)\n",
    "list(frequency_bigrams.items())[:20]"
   ],
   "outputs": [
    {
     "output_type": "execute_result",
     "data": {
      "text/plain": [
       "[(('<s>', 'selma'), 8),\n",
       " (('selma', 'lagerlöf'), 11),\n",
       " (('lagerlöf', 'nils'), 1),\n",
       " (('nils', 'holgerssons'), 6),\n",
       " (('holgerssons', 'underbara'), 4),\n",
       " (('underbara', 'resa'), 4),\n",
       " (('resa', 'genom'), 6),\n",
       " (('genom', 'sverige'), 5),\n",
       " (('sverige', '</s>'), 17),\n",
       " (('</s>', '<s>'), 59046),\n",
       " (('<s>', 'första'), 11),\n",
       " (('första', 'bandet'), 1),\n",
       " (('bandet', 'bokutgåva'), 2),\n",
       " (('bokutgåva', 'albert'), 11),\n",
       " (('albert', 'bonniers'), 11),\n",
       " (('bonniers', 'förlag'), 11),\n",
       " (('förlag', 'stockholm'), 10),\n",
       " (('stockholm', '</s>'), 24),\n",
       " (('<s>', 'den'), 1375),\n",
       " (('den', 'kristliga'), 2)]"
      ]
     },
     "metadata": {},
     "execution_count": 153
    }
   ],
   "metadata": {}
  },
  {
   "cell_type": "markdown",
   "source": [
    "In the report, tell what is the possible number of bigrams and their real number? Explain why such a difference. What would be the possible number of 4-grams.\n",
    "\n",
    "Propose a solution to cope with bigrams unseen in the corpus."
   ],
   "metadata": {}
  },
  {
   "cell_type": "markdown",
   "source": [
    "### Computing the likelihood of a sentence"
   ],
   "metadata": {}
  },
  {
   "cell_type": "markdown",
   "source": [
    "#### Unigrams"
   ],
   "metadata": {}
  },
  {
   "cell_type": "markdown",
   "source": [
    "Write a program to compute a sentence's probability using unigrams. You may find useful the dictionaries that we saw in the mutual information program: [<a href=\"https://github.com/pnugues/ilppp/tree/master/programs/ch05/python\">Program folder</a>]. Your function will return the perplexity."
   ],
   "metadata": {}
  },
  {
   "cell_type": "markdown",
   "source": [
    "Your function should print and tabulate the results as in the examples below with the sentence _Det var en gång en katt som hette Nils_."
   ],
   "metadata": {}
  },
  {
   "cell_type": "markdown",
   "source": [
    "```\n",
    "=====================================================\n",
    "wi \t C(wi) \t #words \t P(wi)\n",
    "=====================================================\n",
    "det \t 21108 \t 1041631 \t 0.0202643738521607\n",
    "var \t 12090 \t 1041631 \t 0.01160679741674355\n",
    "en \t 13514 \t 1041631 \t 0.01297388422579589\n",
    "gång \t 1332 \t 1041631 \t 0.001278763784871994\n",
    "en \t 13514 \t 1041631 \t 0.01297388422579589\n",
    "katt \t 16 \t 1041631 \t 1.5360525944408337e-05\n",
    "som \t 16288 \t 1041631 \t 0.015637015411407686\n",
    "hette \t 97 \t 1041631 \t 9.312318853797554e-05\n",
    "nils \t 87 \t 1041631 \t 8.352285982272032e-05\n",
    "</s> \t 59047 \t 1041631 \t 0.056687060964967444\n",
    "=====================================================\n",
    "Prob. unigrams:\t 5.361459667285409e-27\n",
    "Geometric mean prob.: 0.0023600885848765307\n",
    "Entropy rate:\t 8.726943273141258\n",
    "Perplexity:\t 423.71290908655254\n",
    "```"
   ],
   "metadata": {}
  },
  {
   "cell_type": "code",
   "execution_count": 154,
   "source": [
    "sentence = 'det var en gång en katt som hette nils </s>'\n",
    "sent_words = sentence.split()\n",
    "sent_words"
   ],
   "outputs": [
    {
     "output_type": "execute_result",
     "data": {
      "text/plain": [
       "['det', 'var', 'en', 'gång', 'en', 'katt', 'som', 'hette', 'nils', '</s>']"
      ]
     },
     "metadata": {},
     "execution_count": 154
    }
   ],
   "metadata": {}
  },
  {
   "cell_type": "code",
   "execution_count": 155,
   "source": [
    "frequency\n"
   ],
   "outputs": [
    {
     "output_type": "execute_result",
     "data": {
      "text/plain": [
       "{'<s>': 59047,\n",
       " 'selma': 51,\n",
       " 'lagerlöf': 269,\n",
       " 'nils': 87,\n",
       " 'holgerssons': 6,\n",
       " 'underbara': 23,\n",
       " 'resa': 316,\n",
       " 'genom': 688,\n",
       " 'sverige': 54,\n",
       " '</s>': 59047,\n",
       " 'första': 525,\n",
       " 'bandet': 6,\n",
       " 'bokutgåva': 11,\n",
       " 'albert': 15,\n",
       " 'bonniers': 11,\n",
       " 'förlag': 11,\n",
       " 'stockholm': 77,\n",
       " 'den': 11611,\n",
       " 'kristliga': 2,\n",
       " 'dagvisan': 2,\n",
       " 'signade': 3,\n",
       " 'dag': 935,\n",
       " 'som': 16288,\n",
       " 'vi': 2104,\n",
       " 'nu': 4070,\n",
       " 'här': 2088,\n",
       " 'se': 1982,\n",
       " 'av': 5433,\n",
       " 'himmelen': 79,\n",
       " 'till': 9128,\n",
       " 'oss': 959,\n",
       " 'nedkomma': 2,\n",
       " 'han': 21580,\n",
       " 'blive': 1,\n",
       " 'säll': 7,\n",
       " 'låte': 2,\n",
       " 'sig': 9242,\n",
       " 'te': 218,\n",
       " 'alla': 2354,\n",
       " 'glädje': 293,\n",
       " 'och': 36356,\n",
       " 'fromma': 29,\n",
       " 'ja': 935,\n",
       " 'herren': 23,\n",
       " 'högste': 7,\n",
       " 'i': 16508,\n",
       " 'för': 9435,\n",
       " 'synder': 6,\n",
       " 'sorger': 15,\n",
       " 'bevare': 18,\n",
       " 'men': 8144,\n",
       " 'såsom': 271,\n",
       " 'en': 13505,\n",
       " 'fågel': 48,\n",
       " 'mot': 1526,\n",
       " 'himmelens': 28,\n",
       " 'höjd': 23,\n",
       " 'lyfter': 29,\n",
       " 'på': 14228,\n",
       " 'lediga': 10,\n",
       " 'vingar': 70,\n",
       " 'lovar': 17,\n",
       " 'sin': 2513,\n",
       " 'gud': 526,\n",
       " 'är': 6278,\n",
       " 'glad': 433,\n",
       " 'förnöjd': 8,\n",
       " 'när': 2772,\n",
       " 'över': 2452,\n",
       " 'jorden': 276,\n",
       " 'svingar:': 1,\n",
       " 'så': 9142,\n",
       " 'själen': 31,\n",
       " 'hjärtelig': 1,\n",
       " 'fröjd': 30,\n",
       " 'himlen': 96,\n",
       " 'med': 9124,\n",
       " 'lovsång': 1,\n",
       " 'böner': 42,\n",
       " 'ack': 140,\n",
       " 'låtom': 3,\n",
       " 'lova': 11,\n",
       " 'bedja': 64,\n",
       " 'vår': 317,\n",
       " 'stunderna': 1,\n",
       " 'växla': 1,\n",
       " 'skrida': 3,\n",
       " 'skola': 158,\n",
       " 'stärkas': 1,\n",
       " 'att': 28020,\n",
       " 'hålla': 424,\n",
       " 'hans': 2219,\n",
       " 'bud': 102,\n",
       " 'vaka': 26,\n",
       " 'tåligen': 1,\n",
       " 'lida': 43,\n",
       " 'verka': 15,\n",
       " 'allvar': 82,\n",
       " 'flit': 14,\n",
       " 'länge': 553,\n",
       " 'dagen': 431,\n",
       " 'förunnas': 2,\n",
       " 'sv': 1,\n",
       " 'ps': 1,\n",
       " ':': 2,\n",
       " 'sveriges': 14,\n",
       " 'karta': 10,\n",
       " 'jag': 9507,\n",
       " 'ser': 636,\n",
       " 'från': 2346,\n",
       " 'skolans': 4,\n",
       " 'dar': 85,\n",
       " 'bild': 18,\n",
       " 'fingrar': 22,\n",
       " 'märkt': 70,\n",
       " 'plumpar': 1,\n",
       " 'spilld': 1,\n",
       " 'kalkad': 1,\n",
       " 'vägg': 20,\n",
       " 'prima': 1,\n",
       " 'klistrad': 1,\n",
       " 'upp': 2448,\n",
       " 'lärft': 2,\n",
       " 'utav': 3,\n",
       " 'svenska': 49,\n",
       " 'jord': 95,\n",
       " 'ärvt': 12,\n",
       " 'vårt': 69,\n",
       " 'land': 321,\n",
       " 'fordomtima': 1,\n",
       " 'där': 4222,\n",
       " 'låg': 1017,\n",
       " 'det': 21076,\n",
       " 'mellan': 441,\n",
       " 'fjäll': 30,\n",
       " 'sjö': 76,\n",
       " 'skandinaviens': 1,\n",
       " 'halva': 12,\n",
       " 'ö': 11,\n",
       " 'sågs': 7,\n",
       " 'sidan': 196,\n",
       " 'primanska': 1,\n",
       " 'fantasi': 3,\n",
       " 'ett': 5060,\n",
       " 'utsträckt': 19,\n",
       " 'lejon': 6,\n",
       " 'kunde': 3251,\n",
       " 'bli': 1406,\n",
       " 'vila': 108,\n",
       " 'förbidan': 5,\n",
       " 'kartan': 5,\n",
       " 'stirrade': 104,\n",
       " 'små': 648,\n",
       " 'tanken': 115,\n",
       " 'hisnade': 2,\n",
       " 'gå': 1580,\n",
       " 'ändlöst': 3,\n",
       " 'långa': 406,\n",
       " 'vägen': 489,\n",
       " 'ystad': 1,\n",
       " 'uppåt': 131,\n",
       " 'torneå': 1,\n",
       " 'nötte': 2,\n",
       " 'man': 2322,\n",
       " 'ut': 2830,\n",
       " 'järnskor': 1,\n",
       " 'gamla': 1297,\n",
       " 'sägen': 8,\n",
       " 'än': 2557,\n",
       " 'tänker': 301,\n",
       " 'mig': 2645,\n",
       " 'var': 12089,\n",
       " 'provins': 1,\n",
       " 'samma': 693,\n",
       " 'färger': 13,\n",
       " 'minns': 80,\n",
       " 'kartans': 2,\n",
       " 'bjärta': 2,\n",
       " 'gränser:': 1,\n",
       " 'skåne': 58,\n",
       " 'gult': 19,\n",
       " 'skördefält': 1,\n",
       " 'sörmland': 20,\n",
       " 'grönt': 48,\n",
       " 'björkens': 1,\n",
       " 'tält': 16,\n",
       " 'då': 4901,\n",
       " 'värmland': 84,\n",
       " 'stålblått': 2,\n",
       " 'glänser': 3,\n",
       " 'längst': 23,\n",
       " 'norr': 97,\n",
       " 'blodrött': 1,\n",
       " 'snitt;': 1,\n",
       " 'vidtog': 6,\n",
       " 'ryssland': 7,\n",
       " 'tomt': 32,\n",
       " 'vitt': 79,\n",
       " 'blicken': 45,\n",
       " 'återvände': 6,\n",
       " 'sveas': 1,\n",
       " 'bygd': 16,\n",
       " 'berg': 151,\n",
       " 'slätt': 27,\n",
       " 'städer': 25,\n",
       " 'liksom': 318,\n",
       " 'smultron': 5,\n",
       " 'tätt': 145,\n",
       " 'strömmar': 24,\n",
       " 'utan': 1921,\n",
       " 'ände': 6,\n",
       " 'de': 11940,\n",
       " 'runno': 2,\n",
       " 'flöto': 11,\n",
       " 'vånda': 3,\n",
       " 'besvär': 53,\n",
       " 'hop': 27,\n",
       " 'dem': 3182,\n",
       " 'alla;': 1,\n",
       " 'klassens': 3,\n",
       " 'mummel': 4,\n",
       " 'läxors': 1,\n",
       " 'sus': 11,\n",
       " 'hörde': 699,\n",
       " 'deras': 716,\n",
       " 'fjärran': 32,\n",
       " 'brus': 8,\n",
       " 'mina': 262,\n",
       " 'öron': 44,\n",
       " 'svalla': 1,\n",
       " 'ur': 1124,\n",
       " 'minnet': 40,\n",
       " 'gledo': 19,\n",
       " 'namnen': 5,\n",
       " 'hän': 11,\n",
       " 'snabbt': 14,\n",
       " 'några': 612,\n",
       " 'timmerträn': 1,\n",
       " 'västerbottens': 1,\n",
       " 'älver': 1,\n",
       " 'barnatårars': 1,\n",
       " 'salta': 5,\n",
       " 'tåg': 27,\n",
       " 'förente': 1,\n",
       " 'varje': 269,\n",
       " 'våg': 13,\n",
       " 'norrland': 9,\n",
       " 'välver': 5,\n",
       " 'engelbrekt': 1,\n",
       " 'mod': 108,\n",
       " 'stad': 110,\n",
       " 'flod': 9,\n",
       " 'fram': 2017,\n",
       " 'målet': 13,\n",
       " 'lände': 2,\n",
       " 'erövringen': 1,\n",
       " 'lång': 340,\n",
       " 'svår': 55,\n",
       " 'fosterjorden': 2,\n",
       " 'dess': 342,\n",
       " 'drag': 48,\n",
       " 'kände': 753,\n",
       " 'förr': 374,\n",
       " 'sutto': 191,\n",
       " 'du': 4329,\n",
       " 'släkte': 10,\n",
       " 'sitter': 242,\n",
       " 'kan': 2076,\n",
       " 'vad': 1956,\n",
       " 'ej': 1806,\n",
       " 'visste': 873,\n",
       " 'hos': 546,\n",
       " 'främst': 34,\n",
       " 'led': 86,\n",
       " 'bland': 352,\n",
       " 'denna': 886,\n",
       " 'ungdom': 48,\n",
       " 'sjönke': 2,\n",
       " 'ned': 369,\n",
       " 'kanhända': 4,\n",
       " 'siste': 6,\n",
       " 'böjas': 2,\n",
       " 'blad': 57,\n",
       " 'huvun': 1,\n",
       " 'lockig': 1,\n",
       " 'rad': 75,\n",
       " 'efter': 1823,\n",
       " 'ta': 644,\n",
       " 'arvet': 10,\n",
       " 'synts': 9,\n",
       " 'långt': 567,\n",
       " 'syns': 29,\n",
       " 'kort': 113,\n",
       " 'avstånd': 32,\n",
       " 'svinna': 2,\n",
       " 'bort': 1057,\n",
       " 'järnvägstidevarvet': 1,\n",
       " 'läsa': 168,\n",
       " 'svarta': 199,\n",
       " 'nät': 16,\n",
       " 'korsar': 1,\n",
       " 'älvens': 1,\n",
       " 'blåa': 42,\n",
       " 'fjät': 1,\n",
       " 'fjället': 7,\n",
       " 'spränger': 4,\n",
       " 'lokomotivets': 1,\n",
       " 'gälla': 12,\n",
       " 'flodsystemets': 1,\n",
       " 'dova': 5,\n",
       " 'in': 2005,\n",
       " 'mänger': 1,\n",
       " 'säg': 96,\n",
       " 'därvid': 28,\n",
       " 'unga': 441,\n",
       " 'ätt': 19,\n",
       " 'ångans': 1,\n",
       " 'tid': 575,\n",
       " 'vars': 79,\n",
       " 'kinder': 34,\n",
       " 'kunskap': 14,\n",
       " 'bleker': 1,\n",
       " 'har': 4665,\n",
       " 'väl': 1796,\n",
       " 'brinnande': 42,\n",
       " 'termin': 1,\n",
       " 'dörren': 300,\n",
       " 'stängt': 30,\n",
       " 'fantasin': 1,\n",
       " 'skimrar': 2,\n",
       " 'leker': 6,\n",
       " 'nej': 534,\n",
       " 'gossens': 5,\n",
       " 'skolpulpet': 1,\n",
       " 'hon': 13309,\n",
       " 'lutar': 15,\n",
       " 'hemlighet': 21,\n",
       " 'barndoms': 6,\n",
       " 'tröstarinna': 1,\n",
       " 'hennes': 1628,\n",
       " 'trollglas': 1,\n",
       " 'hand': 405,\n",
       " 'läxans': 1,\n",
       " 'torra': 58,\n",
       " 'ökensand': 2,\n",
       " 'skall': 729,\n",
       " 'liv': 361,\n",
       " 'färg': 33,\n",
       " 'finna': 233,\n",
       " 'hulda': 5,\n",
       " 'fe': 2,\n",
       " 'barnens': 15,\n",
       " 'vän': 152,\n",
       " 'bokens': 2,\n",
       " 'bräddar': 11,\n",
       " 'måla': 9,\n",
       " 'din': 356,\n",
       " 'bildvärld': 1,\n",
       " 'åt': 1406,\n",
       " 'hemmets': 9,\n",
       " 'skog': 90,\n",
       " 'älv': 16,\n",
       " 'järnets': 5,\n",
       " 'döda': 207,\n",
       " 'massa': 33,\n",
       " 'själv': 829,\n",
       " 'giv': 9,\n",
       " 'själ': 145,\n",
       " 'tunga': 175,\n",
       " 'prägla': 1,\n",
       " 'levande': 73,\n",
       " 'varm': 24,\n",
       " 'barnets': 40,\n",
       " 'barm': 3,\n",
       " 'mannen': 510,\n",
       " 'bevara': 18,\n",
       " 'ägna': 10,\n",
       " 'gång': 1328,\n",
       " 'levnads': 5,\n",
       " 'gärning': 22,\n",
       " 'eller': 1332,\n",
       " 'sång': 51,\n",
       " 'dö': 214,\n",
       " 'försvara': 43,\n",
       " 'carl': 1,\n",
       " 'snoilsky': 5,\n",
       " 'pojken': 1028,\n",
       " 'tomten': 67,\n",
       " 'söndag': 46,\n",
       " 'mars': 21,\n",
       " 'pojke': 50,\n",
       " 'fjorton': 21,\n",
       " 'år': 704,\n",
       " 'gammal': 489,\n",
       " 'ranglig': 2,\n",
       " 'linhårig': 1,\n",
       " 'inte': 11340,\n",
       " 'stort': 369,\n",
       " 'dugde': 18,\n",
       " 'till:': 1,\n",
       " 'hade': 13197,\n",
       " 'mest': 173,\n",
       " 'allt': 2035,\n",
       " 'lust': 192,\n",
       " 'sova': 125,\n",
       " 'äta': 150,\n",
       " 'därnäst': 5,\n",
       " 'tyckte': 865,\n",
       " 'om': 8067,\n",
       " 'ställa': 159,\n",
       " 'odygd': 2,\n",
       " 'söndagsmorgon': 1,\n",
       " 'pojkens': 10,\n",
       " 'föräldrar': 83,\n",
       " 'höllo': 118,\n",
       " 'göra': 1154,\n",
       " 'ordning': 118,\n",
       " 'kyrkan': 316,\n",
       " 'satt': 1126,\n",
       " 'skjortärmarna': 2,\n",
       " 'bordskanten': 1,\n",
       " 'tänkte': 1224,\n",
       " 'hur': 1994,\n",
       " 'lyckligt': 23,\n",
       " 'både': 502,\n",
       " 'far': 715,\n",
       " 'mor': 763,\n",
       " 'gingo': 228,\n",
       " 'väg': 467,\n",
       " 'skulle': 5433,\n",
       " 'få': 1830,\n",
       " 'rå': 25,\n",
       " 'under': 1479,\n",
       " 'par': 794,\n",
       " 'timmar': 85,\n",
       " 'ner': 1417,\n",
       " 'fars': 43,\n",
       " 'bössa': 14,\n",
       " 'skjuta': 57,\n",
       " 'skott': 40,\n",
       " 'någon': 1379,\n",
       " 'behöver': 125,\n",
       " 'lägga': 220,\n",
       " 'sade': 4136,\n",
       " 'nästan': 433,\n",
       " 'ha': 2128,\n",
       " 'gissat': 12,\n",
       " 'tankar': 238,\n",
       " 'just': 758,\n",
       " 'stod': 1192,\n",
       " 'tröskeln': 40,\n",
       " 'färdig': 145,\n",
       " 'stannade': 270,\n",
       " 'vände': 406,\n",
       " 'honom': 5781,\n",
       " 'eftersom': 152,\n",
       " 'vill': 1124,\n",
       " 'tycker': 277,\n",
       " 'åtminstone': 100,\n",
       " 'predikan': 30,\n",
       " 'hemma': 287,\n",
       " 'gör': 352,\n",
       " 'förstås': 107,\n",
       " 'mer': 1211,\n",
       " 'aldrig': 1419,\n",
       " 'sett': 657,\n",
       " 'fortfärdig': 2,\n",
       " 'borta': 463,\n",
       " 'vid': 1952,\n",
       " 'vägghyllan': 1,\n",
       " 'tog': 638,\n",
       " 'luthers': 1,\n",
       " 'postilla': 1,\n",
       " 'lade': 409,\n",
       " 'bordet': 172,\n",
       " 'framme': 88,\n",
       " 'fönstret': 122,\n",
       " 'dagens': 17,\n",
       " 'uppslagen': 3,\n",
       " 'slog': 284,\n",
       " 'också': 1255,\n",
       " 'evangelieboken': 1,\n",
       " 'bredvid': 317,\n",
       " 'postillan': 2,\n",
       " 'sist': 323,\n",
       " 'drog': 289,\n",
       " 'stora': 1324,\n",
       " 'länstolen': 7,\n",
       " 'blev': 1488,\n",
       " 'köpt': 22,\n",
       " 'auktionen': 24,\n",
       " 'vemmenhögs': 5,\n",
       " 'prästgård': 16,\n",
       " 'förra': 119,\n",
       " 'året': 143,\n",
       " 'eljest': 71,\n",
       " 'ingen': 1593,\n",
       " 'annan': 581,\n",
       " 'fick': 1112,\n",
       " 'sitta': 319,\n",
       " 'gjorde': 795,\n",
       " 'alltför': 52,\n",
       " 'mycket': 1340,\n",
       " 'uppdukningen': 1,\n",
       " 'ämnade': 114,\n",
       " 'sida': 96,\n",
       " 'andra': 1266,\n",
       " 'gången': 238,\n",
       " 'alldeles': 821,\n",
       " 'kunnat': 405,\n",
       " 'tvärsigenom': 5,\n",
       " 'gick': 1797,\n",
       " 'sträng': 41,\n",
       " 'röst': 324,\n",
       " 'kom': 2638,\n",
       " 'ihåg': 206,\n",
       " 'läser': 34,\n",
       " 'ordentligt': 36,\n",
       " 'kommer': 823,\n",
       " 'tillbaka': 725,\n",
       " 'ska': 1886,\n",
       " 'förhöra': 9,\n",
       " 'dig': 1491,\n",
       " 'varenda': 44,\n",
       " 'hoppat': 6,\n",
       " 'går': 629,\n",
       " 'halv': 14,\n",
       " 'råga': 2,\n",
       " 'måttet': 5,\n",
       " 'får': 906,\n",
       " 'nog': 1467,\n",
       " 'sätta': 254,\n",
       " 'genast': 507,\n",
       " 'hinna': 50,\n",
       " 'igenom': 175,\n",
       " 'därmed': 116,\n",
       " 'äntligen': 179,\n",
       " 'såg': 2284,\n",
       " 'blivit': 747,\n",
       " 'fångad': 9,\n",
       " 'fälla': 26,\n",
       " 'lyckönskar': 2,\n",
       " 'hittat': 23,\n",
       " 'bra': 464,\n",
       " 'måste': 1094,\n",
       " 'hänga': 30,\n",
       " 'hela': 1463,\n",
       " 'tiden': 439,\n",
       " 'visst': 400,\n",
       " 'lyckönskade': 7,\n",
       " 'något': 1994,\n",
       " 'stället': 187,\n",
       " 'voro': 1361,\n",
       " 'ganska': 74,\n",
       " 'bedrövade': 11,\n",
       " 'fattigt': 30,\n",
       " 'husmansfolk': 1,\n",
       " 'ställe': 180,\n",
       " 'större': 150,\n",
       " 'trädgårdstäppa': 4,\n",
       " 'först': 345,\n",
       " 'flyttade': 82,\n",
       " 'dit': 315,\n",
       " 'födas': 1,\n",
       " 'gris': 3,\n",
       " 'höns': 14,\n",
       " 'ovanligt': 43,\n",
       " 'strävsamma': 3,\n",
       " 'duktiga': 7,\n",
       " 'människor': 591,\n",
       " 'kor': 44,\n",
       " 'gäss': 26,\n",
       " 'gått': 647,\n",
       " 'ofantligt': 28,\n",
       " 'framåt': 256,\n",
       " 'vandrat': 36,\n",
       " 'nöjda': 28,\n",
       " 'glada': 171,\n",
       " 'vackra': 214,\n",
       " 'morgonen': 111,\n",
       " 'haft': 491,\n",
       " 'sonen': 156,\n",
       " 'tänka': 447,\n",
       " 'klagade': 54,\n",
       " 'trög': 10,\n",
       " 'lat:': 1,\n",
       " 'ingenting': 719,\n",
       " 'velat': 292,\n",
       " 'lära': 163,\n",
       " 'skolan': 53,\n",
       " 'oduglig': 3,\n",
       " 'nätt': 36,\n",
       " 'jämnt': 43,\n",
       " 'valla': 3,\n",
       " 'nekade': 17,\n",
       " 'detta': 2461,\n",
       " 'sant': 159,\n",
       " 'bedrövad': 45,\n",
       " 'vild': 54,\n",
       " 'elak': 29,\n",
       " 'hård': 72,\n",
       " 'djur': 123,\n",
       " 'illvillig': 2,\n",
       " 'måtte': 324,\n",
       " 'bryta': 56,\n",
       " 'ondska': 25,\n",
       " 'ge': 488,\n",
       " 'annat': 968,\n",
       " 'sinnelag!': 1,\n",
       " 'annars': 119,\n",
       " 'blir': 576,\n",
       " 'olycka': 136,\n",
       " 'stund': 584,\n",
       " 'funderade': 32,\n",
       " 'överens': 16,\n",
       " 'bäst': 198,\n",
       " 'vara': 1797,\n",
       " 'lydig': 12,\n",
       " 'satte': 459,\n",
       " 'prästgårdslänstolen': 1,\n",
       " 'började': 1006,\n",
       " 'hållit': 106,\n",
       " 'rabbla': 1,\n",
       " 'orden': 117,\n",
       " 'halvhögt': 4,\n",
       " 'mumlandet': 2,\n",
       " 'sövt': 1,\n",
       " 'märkte': 272,\n",
       " 'nickade': 48,\n",
       " 'ute': 469,\n",
       " 'allra': 136,\n",
       " 'vackraste': 21,\n",
       " 'vårväder': 3,\n",
       " 'längre': 364,\n",
       " 'kommet': 11,\n",
       " 'tjugonde': 2,\n",
       " 'bodde': 188,\n",
       " 'västra': 50,\n",
       " 'socken': 65,\n",
       " 'nere': 293,\n",
       " 'södra': 33,\n",
       " 'våren': 99,\n",
       " 'redan': 433,\n",
       " 'full': 164,\n",
       " 'friskt': 24,\n",
       " 'knoppande': 1,\n",
       " 'fanns': 702,\n",
       " 'vatten': 219,\n",
       " 'diken': 11,\n",
       " 'hästhovsörten': 1,\n",
       " 'blom': 5,\n",
       " 'dikeskanten': 4,\n",
       " 'krattet': 1,\n",
       " 'växte': 96,\n",
       " 'stengärdsgården': 6,\n",
       " 'brunt': 11,\n",
       " 'blankt': 11,\n",
       " 'bokskogen': 2,\n",
       " 'svällde': 8,\n",
       " 'tätare': 10,\n",
       " 'ögonblick': 329,\n",
       " 'hög': 178,\n",
       " 'rent': 140,\n",
       " 'blå': 70,\n",
       " 'stugdörren': 11,\n",
       " 'glänt': 11,\n",
       " 'hördes': 133,\n",
       " 'rummet': 211,\n",
       " 'lärkorna': 1,\n",
       " 'drillade': 2,\n",
       " 'hönsen': 21,\n",
       " 'gässen': 100,\n",
       " 'gården': 496,\n",
       " 'korna': 62,\n",
       " 'vårluften': 2,\n",
       " 'ända': 369,\n",
       " 'båsen': 1,\n",
       " 'gåvo': 22,\n",
       " 'ibland': 206,\n",
       " 'råmande': 2,\n",
       " 'läste': 118,\n",
       " 'stred': 13,\n",
       " 'sömnen': 21,\n",
       " 'somna': 21,\n",
       " 'hinner': 19,\n",
       " 'förmiddagen': 31,\n",
       " 'somnade': 41,\n",
       " 'sovit': 20,\n",
       " 'litet': 472,\n",
       " 'vaknade': 100,\n",
       " 'lätt': 322,\n",
       " 'buller': 16,\n",
       " 'bakom': 238,\n",
       " 'själva': 199,\n",
       " 'fönsterbrädet': 6,\n",
       " 'rätt': 715,\n",
       " 'framför': 501,\n",
       " 'liten': 592,\n",
       " 'spegel': 7,\n",
       " 'syntes': 158,\n",
       " 'detsamma': 281,\n",
       " 'lyfte': 213,\n",
       " 'huvudet': 294,\n",
       " 'råkade': 97,\n",
       " 'titta': 60,\n",
       " 'spegeln': 17,\n",
       " 'locket': 25,\n",
       " 'mors': 54,\n",
       " 'kista': 36,\n",
       " 'uppslaget': 2,\n",
       " 'ägde': 107,\n",
       " 'stor': 950,\n",
       " 'tung': 80,\n",
       " 'järnbeslagen': 1,\n",
       " 'ekkista': 1,\n",
       " 'öppna': 147,\n",
       " 'förvarade': 10,\n",
       " 'särskilt': 28,\n",
       " 'rädd': 392,\n",
       " 'lågo': 192,\n",
       " 'gammaldags': 28,\n",
       " 'bondkvinnedräkter': 1,\n",
       " 'rött': 40,\n",
       " 'kläde': 7,\n",
       " 'veckad': 1,\n",
       " 'kjol': 5,\n",
       " 'pärlbesatt': 1,\n",
       " 'bröstsmäck': 1,\n",
       " 'funnos': 107,\n",
       " 'stärkta': 4,\n",
       " 'vita': 248,\n",
       " 'huvudklutar': 1,\n",
       " 'silversöljor': 1,\n",
       " 'kedjor': 7,\n",
       " 'folk': 487,\n",
       " 'ville': 1571,\n",
       " 'sådant': 452,\n",
       " 'flera': 315,\n",
       " 'gånger': 232,\n",
       " 'tänkt': 226,\n",
       " 'sakerna': 13,\n",
       " 'hjärta': 198,\n",
       " 'tydligt': 121,\n",
       " 'kistan': 105,\n",
       " 'öppet': 31,\n",
       " 'förstå': 380,\n",
       " 'innan': 491,\n",
       " 'hänt': 73,\n",
       " 'lämnat': 87,\n",
       " 'öppen': 58,\n",
       " 'ensam': 292,\n",
       " 'riktigt': 369,\n",
       " 'hemsk': 24,\n",
       " 'mods': 18,\n",
       " 'tjuv': 17,\n",
       " 'smugit': 27,\n",
       " 'stugan': 299,\n",
       " 'vågade': 152,\n",
       " 'röra': 124,\n",
       " 'stilla': 503,\n",
       " 'medan': 568,\n",
       " 'väntade': 223,\n",
       " 'tjuven': 13,\n",
       " 'visa': 336,\n",
       " 'undra': 86,\n",
       " 'svart': 142,\n",
       " 'skugga': 26,\n",
       " 'föll': 217,\n",
       " 'kistkanten': 5,\n",
       " 'tro': 472,\n",
       " 'sina': 1278,\n",
       " 'ögon': 439,\n",
       " 'början': 205,\n",
       " 'skugglikt': 1,\n",
       " 'tydligare': 10,\n",
       " 'snart': 751,\n",
       " 'verkligt': 13,\n",
       " 'bättre': 451,\n",
       " 'tomte': 19,\n",
       " 'red': 40,\n",
       " 'grensle': 4,\n",
       " 'hört': 416,\n",
       " 'talas': 86,\n",
       " 'tomtar': 6,\n",
       " 'tvärhand': 5,\n",
       " 'gammalt': 91,\n",
       " 'rynkigt': 5,\n",
       " 'skägglöst': 1,\n",
       " 'ansikte': 292,\n",
       " 'klädd': 83,\n",
       " 'långrock': 3,\n",
       " 'knäbyxor': 5,\n",
       " 'bredskyggig': 1,\n",
       " 'hatt': 26,\n",
       " 'prydlig': 5,\n",
       " 'fin': 55,\n",
       " 'spetsar': 12,\n",
       " 'kring': 136,\n",
       " 'halsen': 61,\n",
       " 'handlederna': 1,\n",
       " 'spännen': 6,\n",
       " 'skorna': 18,\n",
       " 'strumpeband': 2,\n",
       " 'knutna': 14,\n",
       " 'rosetter': 1,\n",
       " 'tagit': 249,\n",
       " 'broderad': 4,\n",
       " 'smäck': 1,\n",
       " 'arbetet': 171,\n",
       " 'sådan': 702,\n",
       " 'andakt': 9,\n",
       " 'vaknat': 20,\n",
       " 'förvånad': 87,\n",
       " 'särdeles': 47,\n",
       " 'däremot': 43,\n",
       " 'omöjligt': 171,\n",
       " 'upptagen': 26,\n",
       " 'sitt': 1069,\n",
       " 'varken': 231,\n",
       " 'lustigt': 25,\n",
       " 'spela': 139,\n",
       " 'spratt:': 1,\n",
       " 'knuffa': 6,\n",
       " 'slå': 185,\n",
       " 'igen': 659,\n",
       " 'ändå': 480,\n",
       " 'modig': 10,\n",
       " 'händerna': 238,\n",
       " 'stöta': 8,\n",
       " 'lät': 335,\n",
       " 'blickarna': 49,\n",
       " 'vandra': 111,\n",
       " 'liggsoffan': 2,\n",
       " 'slagbordet': 3,\n",
       " 'spisen': 61,\n",
       " 'grytorna': 2,\n",
       " 'kaffepannan': 9,\n",
       " 'stodo': 247,\n",
       " 'hylla': 7,\n",
       " 'vattenspannen': 1,\n",
       " 'slevar': 1,\n",
       " 'knivar': 6,\n",
       " 'gafflar': 1,\n",
       " 'fat': 12,\n",
       " 'tallrikar': 8,\n",
       " 'halvöppna': 2,\n",
       " 'skåpdörren': 1,\n",
       " 'hängde': 153,\n",
       " 'väggen': 61,\n",
       " 'danska': 2,\n",
       " 'kungligas': 1,\n",
       " 'porträtt': 28,\n",
       " 'pelargonierna': 2,\n",
       " 'fuksiorna': 1,\n",
       " 'blommade': 11,\n",
       " 'föllo': 40,\n",
       " 'blickar': 98,\n",
       " 'flughåv': 1,\n",
       " 'fönsterkarmen': 2,\n",
       " 'knappast': 160,\n",
       " 'fått': 817,\n",
       " 'syn': 135,\n",
       " 'flughåven': 2,\n",
       " 'förrän': 355,\n",
       " 'ryckte': 121,\n",
       " 'sprang': 201,\n",
       " 'svängde': 64,\n",
       " 'utmed': 86,\n",
       " 'tur': 51,\n",
       " 'förstod': 410,\n",
       " 'burit': 76,\n",
       " 'verkligen': 173,\n",
       " 'fångat': 5,\n",
       " 'stackaren': 23,\n",
       " 'bottnen': 30,\n",
       " 'håven': 5,\n",
       " 'neråt': 69,\n",
       " 'komma': 1340,\n",
       " 'ögonblicket': 64,\n",
       " 'alls': 229,\n",
       " 'fångst': 5,\n",
       " 'bara': 1703,\n",
       " 'noga': 75,\n",
       " 'svänga': 20,\n",
       " 'rådrum': 1,\n",
       " 'klättra': 33,\n",
       " 'tala': 845,\n",
       " 'bad': 200,\n",
       " 'innerligt': 11,\n",
       " 'frigiven': 6,\n",
       " 'gjort': 546,\n",
       " 'gott': 417,\n",
       " 'många': 715,\n",
       " 'värd': 42,\n",
       " 'medfart': 1,\n",
       " 'släppte': 38,\n",
       " 'lös': 72,\n",
       " 'speciedaler': 2,\n",
       " 'silversked': 2,\n",
       " 'guldpenning': 1,\n",
       " 'lika': 382,\n",
       " 'boetten': 4,\n",
       " 'silverur': 1,\n",
       " 'bjudet': 1,\n",
       " 'sedan': 1090,\n",
       " 'våld': 35,\n",
       " 'gett': 115,\n",
       " 'lag': 16,\n",
       " 'främmande': 252,\n",
       " 'hemskt': 41,\n",
       " 'värld': 61,\n",
       " 'otyget': 5,\n",
       " 'därför': 864,\n",
       " 'köpet': 18,\n",
       " 'höll': 554,\n",
       " 'kunna': 632,\n",
       " 'krypa': 38,\n",
       " 'borde': 316,\n",
       " 'betingat': 1,\n",
       " 'ägodelar': 10,\n",
       " 'möjligt': 173,\n",
       " 'ställt': 67,\n",
       " 'villkoret': 4,\n",
       " 'trollat': 1,\n",
       " 'dum': 37,\n",
       " 'gav': 286,\n",
       " 'fri!': 1,\n",
       " 'skaka': 23,\n",
       " 'ramla': 10,\n",
       " 'förfärlig': 49,\n",
       " 'örfil': 5,\n",
       " 'trodde': 423,\n",
       " 'springa': 95,\n",
       " 'bitar': 7,\n",
       " 'for': 297,\n",
       " 'ena': 291,\n",
       " 'sjönk': 94,\n",
       " 'golvet': 150,\n",
       " 'liggande': 56,\n",
       " 'sanslös': 2,\n",
       " 'spår': 44,\n",
       " 'kistlocket': 12,\n",
       " 'vanliga': 94,\n",
       " 'plats': 243,\n",
       " 'känt': 120,\n",
       " 'högra': 15,\n",
       " 'kinden': 16,\n",
       " 'brände': 21,\n",
       " 'örfilen': 2,\n",
       " 'varit': 1720,\n",
       " 'frestad': 8,\n",
       " 'dröm': 52,\n",
       " 'alltsammans': 135,\n",
       " 'helst': 138,\n",
       " 'lär': 78,\n",
       " 'påstå': 8,\n",
       " 'avdrag': 2,\n",
       " 'tomtens': 6,\n",
       " 'skull': 315,\n",
       " 'sätter': 69,\n",
       " 'märke': 86,\n",
       " 'underligt': 82,\n",
       " 'ju': 1250,\n",
       " 'vuxit': 40,\n",
       " 'varav': 8,\n",
       " 'fler': 32,\n",
       " 'steg': 398,\n",
       " 'brukade': 287,\n",
       " 'stolen': 26,\n",
       " 'nyss': 141,\n",
       " 'förut': 317,\n",
       " 'stiga': 90,\n",
       " 'slån': 3,\n",
       " 'stolbenen': 1,\n",
       " 'nå': 153,\n",
       " 'sitsen': 7,\n",
       " 'sätt': 474,\n",
       " 'bordskivan': 4,\n",
       " 'kliva': 4,\n",
       " 'armstödet': 1,\n",
       " 'all': 460,\n",
       " 'världen': 362,\n",
       " 'detta?': 16,\n",
       " 'menar': 102,\n",
       " 'förgjort': 2,\n",
       " 'synbarligen': 6,\n",
       " 'lik': 95,\n",
       " 'galet': 36,\n",
       " 'ord': 653,\n",
       " 'boken': 58,\n",
       " 'rader': 29,\n",
       " 'ropade': 388,\n",
       " 'helt': 551,\n",
       " 'högt': 290,\n",
       " 'parvel': 13,\n",
       " 'toppluva': 3,\n",
       " 'skinnbyxor': 7,\n",
       " 'ihop': 224,\n",
       " 'förvåning': 46,\n",
       " 'parveln': 50,\n",
       " ...}"
      ]
     },
     "metadata": {},
     "execution_count": 155
    }
   ],
   "metadata": {}
  },
  {
   "cell_type": "code",
   "execution_count": 168,
   "source": [
    "def unigram_lm(freq, sent_words):\n",
    "    print(\"==============================================================================\")\n",
    "    print(\"wi\\t\\tC(wi)\\t\\t#words\\t\\tP(wi)\")\n",
    "    print(\"==============================================================================\")\n",
    "    totWords = len(words)\n",
    "    probabilities = [];\n",
    "    p = {}\n",
    "    \n",
    "    \n",
    "    for w in sent_words:\n",
    "        p[w]=freq[w]/totWords\n",
    "        print(w,freq[w],totWords,p[w],sep='\\t\\t')\n",
    "        probabilities.append(p[w])\n",
    "    \n",
    "    print(\"==============================================================================\")\n",
    "    \n",
    "    entropy = (-1/len(p))*np.log2(np.prod(probabilities))\n",
    "        \n",
    "        \n",
    "    print(\"\\nProb. unigrams: \" + str(np.prod(probabilities)) )\n",
    "    print(\"Geometric mean prob.: \" + str(np.prod(probabilities)**(1.0/len(probabilities))))\n",
    "    print(\"Entropy rate: \" + str(entropy))\n",
    "    print(\"Perplexity: \" + str(2**entropy))\n",
    "    \n",
    "    return 2**entropy"
   ],
   "outputs": [],
   "metadata": {}
  },
  {
   "cell_type": "code",
   "execution_count": 169,
   "source": [
    "perplexity_unigrams = unigram_lm(frequency, sent_words)"
   ],
   "outputs": [
    {
     "output_type": "stream",
     "name": "stdout",
     "text": [
      "==============================================================================\n",
      "wi\t\tC(wi)\t\t#words\t\tP(wi)\n",
      "==============================================================================\n",
      "det\t\t21076\t\t1041564\t\t0.020234954357101435\n",
      "var\t\t12089\t\t1041564\t\t0.011606583944913611\n",
      "en\t\t13505\t\t1041564\t\t0.012966077936641436\n",
      "gång\t\t1328\t\t1041564\t\t0.0012750056645582989\n",
      "en\t\t13505\t\t1041564\t\t0.012966077936641436\n",
      "katt\t\t16\t\t1041564\t\t1.536151403082288e-05\n",
      "som\t\t16288\t\t1041564\t\t0.01563802128337769\n",
      "hette\t\t97\t\t1041564\t\t9.31291788118637e-05\n",
      "nils\t\t87\t\t1041564\t\t8.35282325425994e-05\n",
      "</s>\t\t59047\t\t1041564\t\t0.05669070743612491\n",
      "==============================================================================\n",
      "\n",
      "Prob. unigrams: 5.333137479311845e-27\n",
      "Geometric mean prob.: 0.0023588388822626993\n",
      "Entropy rate: 9.697452671467502\n",
      "Perplexity: 830.2791568863656\n"
     ]
    }
   ],
   "metadata": {}
  },
  {
   "cell_type": "code",
   "execution_count": 170,
   "source": [
    "perplexity_unigrams = int(perplexity_unigrams)\n",
    "perplexity_unigrams"
   ],
   "outputs": [
    {
     "output_type": "execute_result",
     "data": {
      "text/plain": [
       "830"
      ]
     },
     "metadata": {},
     "execution_count": 170
    }
   ],
   "metadata": {}
  },
  {
   "cell_type": "markdown",
   "source": [
    "#### Bigrams"
   ],
   "metadata": {}
  },
  {
   "cell_type": "markdown",
   "source": [
    "Write a program to compute the sentence probability using bigrams. Your function will tabulate and print the results as below. It will return the perplexity."
   ],
   "metadata": {}
  },
  {
   "cell_type": "markdown",
   "source": [
    "```\n",
    "=====================================================\n",
    "wi \t wi+1 \t Ci,i+1 \t C(i) \t P(wi+1|wi)\n",
    "=====================================================\n",
    "<s>\t det \t 5672 \t 59047 \t 0.09605907158704083\n",
    "det \t var \t 3839 \t 21108 \t 0.1818741709304529\n",
    "var \t en \t 712 \t 12090 \t 0.058891645988420185\n",
    "en \t gång \t 706 \t 13514 \t 0.052242119283705785\n",
    "gång \t en \t 20 \t 1332 \t 0.015015015015015015\n",
    "en \t katt \t 6 \t 13514 \t 0.0004439840165754033\n",
    "katt \t som \t 2 \t 16 \t 0.125\n",
    "som \t hette \t 45 \t 16288 \t 0.002762770137524558\n",
    "hette \t nils \t 0 \t 97 \t 0.0 \t *backoff: \t 8.352285982272032e-05\n",
    "nils \t </s> \t 2 \t 87 \t 0.022988505747126436\n",
    "=====================================================\n",
    "Prob. bigrams:\t 2.376007803503683e-19\n",
    "Geometric mean prob.: 0.013727289294133601\n",
    "Entropy rate:\t 6.186809422848149\n",
    "Perplexity:\t 72.84759420254609\n",
    "```"
   ],
   "metadata": {}
  },
  {
   "cell_type": "code",
   "execution_count": null,
   "source": [
    "# Write your code"
   ],
   "outputs": [],
   "metadata": {}
  },
  {
   "cell_type": "code",
   "execution_count": null,
   "source": [
    "perplexity_bigrams = bigram_lm(frequency, frequency_bigrams, sent_words)"
   ],
   "outputs": [],
   "metadata": {}
  },
  {
   "cell_type": "code",
   "execution_count": null,
   "source": [
    "perplexity_bigrams = int(perplexity_bigrams)\n",
    "perplexity_bigrams"
   ],
   "outputs": [],
   "metadata": {}
  },
  {
   "cell_type": "markdown",
   "source": [
    "In addition to this sentence, _Det var en gång en katt som hette Nils_, write five other sentences that will form your test set and run your programs on them. You will insert them in your report."
   ],
   "metadata": {}
  },
  {
   "cell_type": "markdown",
   "source": [
    "### Online prediction of words"
   ],
   "metadata": {}
  },
  {
   "cell_type": "markdown",
   "source": [
    "You will now carry out an online prediction of words. You will consider two cases:\n",
    "1. Prediction of the current word a user is typing;\n",
    "2. Prediction of the next word.\n",
    "\n",
    "Ideally, you would write a loop that reads the words and apply the models while typing. As the Jupyter labs are not designed for interactive input and output, we will simplify the experimental settings with constant strings at a given time of the input.  \n",
    "\n",
    "We will assume the user is typing the phrase: _Det var en gång_. "
   ],
   "metadata": {}
  },
  {
   "cell_type": "markdown",
   "source": [
    "#### Trigrams"
   ],
   "metadata": {}
  },
  {
   "cell_type": "markdown",
   "source": [
    "To have a more accurate prediction, you will use a trigram counting function. Program this function following the model of your bigram counting function."
   ],
   "metadata": {}
  },
  {
   "cell_type": "code",
   "execution_count": null,
   "source": [
    "# Write your code"
   ],
   "outputs": [],
   "metadata": {}
  },
  {
   "cell_type": "code",
   "execution_count": null,
   "source": [
    "frequency_trigrams = trigrams(words)\n",
    "frequency_trigrams[('det', 'var', 'en')]"
   ],
   "outputs": [],
   "metadata": {}
  },
  {
   "cell_type": "markdown",
   "source": [
    "#### Prediction"
   ],
   "metadata": {}
  },
  {
   "cell_type": "markdown",
   "source": [
    "The user starts typing _Det var en gång_. After the 2nd character, your program tries to help the user with suggested words."
   ],
   "metadata": {}
  },
  {
   "cell_type": "code",
   "execution_count": null,
   "source": [
    "starting_text = 'De'.lower()\n",
    "starting_text"
   ],
   "outputs": [],
   "metadata": {}
  },
  {
   "cell_type": "markdown",
   "source": [
    "Write a program to rank the five first candidates at this point. Assign these predictions in a list that you will call `current_word_predictions_1`. Note that you are starting a sentence and you can then use the bigram frequencies. Write a sorting key that will enable you have a deterministic ranking of the words or bigrams with identical frequencies: When two words have the same frequency, you will sort them by alphabetic order. You can do this with a tuple."
   ],
   "metadata": {}
  },
  {
   "cell_type": "code",
   "execution_count": null,
   "source": [
    "cand_nbr = 5"
   ],
   "outputs": [],
   "metadata": {}
  },
  {
   "cell_type": "code",
   "execution_count": null,
   "source": [
    "# Write your code here"
   ],
   "outputs": [],
   "metadata": {}
  },
  {
   "cell_type": "code",
   "execution_count": null,
   "source": [
    "current_word_predictions_1"
   ],
   "outputs": [],
   "metadata": {}
  },
  {
   "cell_type": "markdown",
   "source": [
    "Let us now suppose that the user has typed: _Det var en_. After detecting a space, your program starts predicting a next possible word."
   ],
   "metadata": {}
  },
  {
   "cell_type": "code",
   "execution_count": null,
   "source": [
    "current_text = \"Det var en \".lower()\n",
    "current_text"
   ],
   "outputs": [],
   "metadata": {}
  },
  {
   "cell_type": "markdown",
   "source": [
    "Tokenize this text and return a list of tokens. Call it `tokens`."
   ],
   "metadata": {}
  },
  {
   "cell_type": "code",
   "execution_count": null,
   "source": [
    "# Write your code here"
   ],
   "outputs": [],
   "metadata": {}
  },
  {
   "cell_type": "code",
   "execution_count": null,
   "source": [
    "tokens"
   ],
   "outputs": [],
   "metadata": {}
  },
  {
   "cell_type": "markdown",
   "source": [
    "Write a program to propose the five next possible words ranked by frequency using a trigram model. Assign these predictions to a variable that you will call `next_word_predictions`. Write a sorting key that will enable you have a deterministic ranking of the words or bigrams with identical frequencies: When two words have the same frequency, you will sort them by alphabetic order. You can do this with a tuple."
   ],
   "metadata": {}
  },
  {
   "cell_type": "code",
   "execution_count": null,
   "source": [
    "# Write your code here"
   ],
   "outputs": [],
   "metadata": {}
  },
  {
   "cell_type": "code",
   "execution_count": null,
   "source": [
    "next_word_predictions"
   ],
   "outputs": [],
   "metadata": {}
  },
  {
   "cell_type": "markdown",
   "source": [
    "Finally, let us suppose that the user has typed _Det var en g_, rank the five possible candidates. Assign these predictions in a list that you will call `current_word_predictions_2`"
   ],
   "metadata": {}
  },
  {
   "cell_type": "code",
   "execution_count": null,
   "source": [
    "current_text = \"Det var en g\".lower()"
   ],
   "outputs": [],
   "metadata": {}
  },
  {
   "cell_type": "code",
   "execution_count": null,
   "source": [
    "# Write your code here"
   ],
   "outputs": [],
   "metadata": {}
  },
  {
   "cell_type": "code",
   "execution_count": null,
   "source": [
    "current_word_predictions_2"
   ],
   "outputs": [],
   "metadata": {}
  },
  {
   "cell_type": "markdown",
   "source": [
    "## Checked answers"
   ],
   "metadata": {
    "tags": []
   }
  },
  {
   "cell_type": "markdown",
   "source": [
    "The automatic marking system will check these answers: `(perplexity_unigrams, perplexity_bigrams, current_word_predictions_1, next_word_predictions, current_word_predictions_2)`"
   ],
   "metadata": {}
  },
  {
   "cell_type": "code",
   "execution_count": null,
   "source": [
    "(perplexity_unigrams, perplexity_bigrams, current_word_predictions_1, next_word_predictions, current_word_predictions_2)"
   ],
   "outputs": [],
   "metadata": {}
  },
  {
   "cell_type": "markdown",
   "source": [
    "## Submission"
   ],
   "metadata": {}
  },
  {
   "cell_type": "markdown",
   "source": [
    "When you have written all the code and run all the cells, fill in your ID and as well as the name of the notebook."
   ],
   "metadata": {}
  },
  {
   "cell_type": "code",
   "execution_count": null,
   "source": [
    "STIL_ID = [\"student1\", \"student2\"] # Write your stil ids as a list\n",
    "CURRENT_NOTEBOOK_PATH = os.path.join(os.getcwd(), \n",
    "                                     \"2-language_models_solution.ipynb\") # Write the name of your notebook"
   ],
   "outputs": [],
   "metadata": {}
  },
  {
   "cell_type": "markdown",
   "source": [
    "The submission code will send your answer. It consists of the perplexities and predictions."
   ],
   "metadata": {}
  },
  {
   "cell_type": "code",
   "execution_count": null,
   "source": [
    "import json\n",
    "ANSWER = json.dumps({'perplexity_unigrams': perplexity_unigrams,\n",
    "                     'perplexity_bigrams': perplexity_bigrams,\n",
    "                     'current_word_predictions_1': current_word_predictions_1,\n",
    "                     'next_word_predictions': next_word_predictions,\n",
    "                     'current_word_predictions_2': current_word_predictions_2})\n",
    "ANSWER"
   ],
   "outputs": [],
   "metadata": {}
  },
  {
   "cell_type": "markdown",
   "source": [
    "The checking script will accept perplexities with a margin, like for instance:\n",
    "```\n",
    "(421, 72, ['det', 'de', 'den', 'detta', 'denna'], ['stor', 'liten', 'gammal', 'god', 'sådan'], ['gammal', 'god', 'gång', 'ganska', 'glädje'])\n",
    "```"
   ],
   "metadata": {}
  },
  {
   "cell_type": "markdown",
   "source": [
    "Now the moment of truth:\n",
    "1. Save your notebook and\n",
    "2. Run the cells below"
   ],
   "metadata": {}
  },
  {
   "cell_type": "code",
   "execution_count": null,
   "source": [
    "SUBMISSION_NOTEBOOK_PATH = CURRENT_NOTEBOOK_PATH + \".submission.bz2\""
   ],
   "outputs": [],
   "metadata": {}
  },
  {
   "cell_type": "code",
   "execution_count": null,
   "source": [
    "ASSIGNMENT = 2\r\n",
    "API_KEY = \"f581ba347babfea0b8f2c74a3a6776a7\"\r\n",
    "\r\n",
    "# Copy and compress current notebook\r\n",
    "with bz2.open(SUBMISSION_NOTEBOOK_PATH, mode=\"wb\") as fout:\r\n",
    "    with open(CURRENT_NOTEBOOK_PATH, \"rb\") as fin:\r\n",
    "        fout.write(fin.read())"
   ],
   "outputs": [],
   "metadata": {}
  },
  {
   "cell_type": "code",
   "execution_count": null,
   "source": [
    "res = requests.post(\"https://vilde.cs.lth.se/edan20checker/submit\", \r\n",
    "                    files={\"notebook_file\": open(SUBMISSION_NOTEBOOK_PATH, \"rb\")}, \r\n",
    "                    data={\r\n",
    "                        \"stil_id\": STIL_ID,\r\n",
    "                        \"assignment\": ASSIGNMENT,\r\n",
    "                        \"answer\": ANSWER,\r\n",
    "                        \"api_key\": API_KEY,\r\n",
    "                    },\r\n",
    "                   verify=True)\r\n",
    "\r\n",
    "# from IPython.display import display, JSON\r\n",
    "res.json()"
   ],
   "outputs": [],
   "metadata": {}
  },
  {
   "cell_type": "markdown",
   "source": [
    "## Turning in your assignment"
   ],
   "metadata": {}
  },
  {
   "cell_type": "markdown",
   "source": [
    "Now your are done with the program. To complete this assignment, you will:\n",
    "1. Write a short individual report on your program. Do not forget to include the unigram and bigram tables for five sentences and _Det var en gång en katt som hette Nils_.\n",
    "2. Execute the Jupyter notebook by Peter Norvig here: <a href=\"http://nbviewer.jupyter.org/url/norvig.com/ipython/How%20to%20Do%20Things%20with%20Words.ipynb\">https://nbviewer.jupyter.org/url/norvig.com/ipython/How to Do Things with Words.ipynb</a>. Just run all the cells and be sure that you understand the code. You will find the data here: <a href=\"http://norvig.com/ngrams/\">http://norvig.com/ngrams/</a>.\n",
    "3. In your report, after the description of your program, you will describe one experiment with Norvig's notebook and a long string of words your will create yourself or copy from a text you like. You will remove all the punctuation and white spaces from this string. You will set this string in lowercase letters. You will just add a cell at the end of Sect. 7 in Norvig's notebook, where you will use your string and run the notebook cell with the <tt>segment()</tt> and <tt>segment2()</tt> functions. You will comment the segmentation results you obtain with the unigram and bigram models.\n",
    "\n",
    "Submit your report as well as your notebook (for archiving purposes) to Canvas: https://canvas.education.lu.se/. To write your report, you can either\n",
    "1. Write directly your text in Canvas, or\n",
    "2. Use Latex and Overleaf (www.overleaf.com). This will probably help you structure your text. You will then upload a PDF file in Canvas.\n",
    "\n",
    "The submission deadline is September 24, 2021."
   ],
   "metadata": {}
  },
  {
   "cell_type": "code",
   "execution_count": null,
   "source": [],
   "outputs": [],
   "metadata": {}
  }
 ],
 "metadata": {
  "kernelspec": {
   "name": "python3",
   "display_name": "Python 3.8.10 64-bit"
  },
  "language_info": {
   "codemirror_mode": {
    "name": "ipython",
    "version": 3
   },
   "file_extension": ".py",
   "mimetype": "text/x-python",
   "name": "python",
   "nbconvert_exporter": "python",
   "pygments_lexer": "ipython3",
   "version": "3.8.10"
  },
  "interpreter": {
   "hash": "916dbcbb3f70747c44a77c7bcd40155683ae19c65e1c03b4aa3499c5328201f1"
  }
 },
 "nbformat": 4,
 "nbformat_minor": 4
}