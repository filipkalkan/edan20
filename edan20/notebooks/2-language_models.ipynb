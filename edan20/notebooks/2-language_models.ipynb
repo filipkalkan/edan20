{
 "cells": [
  {
   "cell_type": "markdown",
   "source": [
    "# Assignment #2: Language models\n",
    "Author: Pierre Nugues"
   ],
   "metadata": {}
  },
  {
   "cell_type": "markdown",
   "source": [
    "## Objectives"
   ],
   "metadata": {}
  },
  {
   "cell_type": "markdown",
   "source": [
    "The objectives of this assignment are to:\n",
    "* Write a program to find n-gram statistics\n",
    "* Compute the probability of a sentence\n",
    "* Know what a language model is\n",
    "* Write a short report of 1 to 2 pages on the assignment"
   ],
   "metadata": {}
  },
  {
   "cell_type": "markdown",
   "source": [
    "## Submission"
   ],
   "metadata": {}
  },
  {
   "cell_type": "markdown",
   "source": [
    "Once you have written all the missing code and run all the cells, you will submit your notebook to an automatic marking system. Do not erase the content of the cells as we will possibly check your programs manually.\n",
    "The submission instructions are at the bottom of the notebook."
   ],
   "metadata": {}
  },
  {
   "cell_type": "markdown",
   "source": [
    "## Organization"
   ],
   "metadata": {}
  },
  {
   "cell_type": "markdown",
   "source": [
    "* Each group will have to write Python programs to count unigrams, bigrams, and trigrams in a corpus of approximately one million words and to determine the probability of a sentence.\n",
    "* You can test you regular expression using the regex101.com site\n",
    "* Each student will have to write a short report of one to two pages and comment briefly the results. In your report, you must produce the tabulated results of your analysis as described below."
   ],
   "metadata": {}
  },
  {
   "cell_type": "markdown",
   "source": [
    "## Programming"
   ],
   "metadata": {}
  },
  {
   "cell_type": "markdown",
   "source": [
    "### Imports"
   ],
   "metadata": {}
  },
  {
   "cell_type": "markdown",
   "source": [
    "Some imports you may need. Add others as needed."
   ],
   "metadata": {}
  },
  {
   "cell_type": "code",
   "execution_count": 865,
   "source": [
    "import bz2\r\n",
    "import math\r\n",
    "import os\r\n",
    "import regex as re\r\n",
    "import requests\r\n",
    "import sys\r\n",
    "from zipfile import ZipFile\r\n",
    "import numpy as np"
   ],
   "outputs": [],
   "metadata": {}
  },
  {
   "cell_type": "markdown",
   "source": [
    "### Collecting and analyzing a corpus"
   ],
   "metadata": {}
  },
  {
   "cell_type": "markdown",
   "source": [
    "Retrieve a corpus of novels by Selma Lagerl&ouml;f from this URL:\n",
    "<a href=\"https://github.com/pnugues/ilppp/blob/master/programs/corpus/Selma.txt\">\n",
    "    <tt>https://github.com/pnugues/ilppp/blob/master/programs/corpus/Selma.txt</tt>\n",
    "</a>. The text of these novels was extracted\n",
    "from <a href=\"https://litteraturbanken.se/forfattare/LagerlofS/titlar\">Lagerlöf arkivet</a> at\n",
    "<a href=\"https://litteraturbanken.se/\">Litteraturbanken</a>."
   ],
   "metadata": {}
  },
  {
   "cell_type": "code",
   "execution_count": 866,
   "source": [
    "# You may have to adjust the path\r\n",
    "corpus = open('./Selma/Selma.txt', encoding='utf8').read()"
   ],
   "outputs": [],
   "metadata": {}
  },
  {
   "cell_type": "markdown",
   "source": [
    "Run the <a href=\"https://github.com/pnugues/ilppp/tree/master/programs/ch02/python\">concordance\n",
    "program </a> to print the lines containing a specific word, for instance <i>Nils</i>."
   ],
   "metadata": {}
  },
  {
   "cell_type": "code",
   "execution_count": 867,
   "source": [
    "pattern = 'Nils Holgersson'\r\n",
    "width = 25"
   ],
   "outputs": [],
   "metadata": {}
  },
  {
   "cell_type": "code",
   "execution_count": 868,
   "source": [
    "# spaces match tabs and newlines\r\n",
    "pattern = re.sub(' ', '\\\\s+', pattern)\r\n",
    "# Replaces newlines with spaces in the text\r\n",
    "clean_corpus = re.sub('\\s+', ' ', corpus)\r\n",
    "concordance = ('(.{{0,{width}}}{pattern}.{{0,{width}}})'\r\n",
    "               .format(pattern=pattern, width=width))\r\n",
    "for match in re.finditer(concordance, clean_corpus):\r\n",
    "    print(match.group(1))\r\n",
    "# print the string with 0..width characters on either side"
   ],
   "outputs": [
    {
     "output_type": "stream",
     "name": "stdout",
     "text": [
      "Selma Lagerlöf Nils Holgerssons underbara resa genom Sv\n",
      "! Se på Tummetott! Se på Nils Holgersson Tummetott!» Genast vände\n",
      "r,» sade han. »Jag heter Nils Holgersson och är son till en husma\n",
      "lden. »Inte är det värt, Nils Holgersson, att du är ängslig eller\n",
      " i dem. På den tiden, då Nils Holgersson drog omkring med vildgäs\n",
      "ulle allt visa honom vad Nils Holgersson från Västra Vemmenhög va\n",
      "om ägde rum det året, då Nils Holgersson for omkring med vildgäss\n",
      "m vad det kan kosta dem. Nils Holgersson hade inte haft förstånd \n",
      "de det inte mer sägas om Nils Holgersson, att han inte tyckte om \n",
      " Rosenbom?» För där stod Nils Holgersson mitt uppe på Rosenboms n\n",
      " Med ens fingo de syn på Nils Holgersson, och då sköt den store v\n",
      "vila. När vildgässen och Nils Holgersson äntligen hade letat sig \n",
      " slags arbetare. Men vad Nils Holgersson inte såg, det var, att s\n",
      "nde han fråga, och om då Nils Holgersson sade nej, började han ge\n",
      "de lille Mats, och om nu Nils Holgersson också hade tegat, så had\n",
      "åg så försmädlig ut, att Nils Holgersson kastade sig över honom f\n",
      " brodern. Och inte ville Nils Holgersson slåss med en tös, utan h\n",
      "örkar. På den tiden, när Nils Holgersson for omkring med vildgäss\n",
      " ryckte omkull honom. Om Nils Holgersson genast hade ropat på hjä\n",
      "u reda dig på egen hand, Nils Holgersson,» sade han då till sig s\n",
      "r satte Fumle-Drumle ner Nils Holgersson på bottnen av en sandgro\n",
      "mlingarna. – »Jo, jag är Nils Holgersson från Västra Vemmenhög, s\n",
      "rakten. På den tiden, då Nils Holgersson for omkring med vildgäss\n",
      "Jo, det står – Det står: Nils Holgersson fr. V. Vemmenhög.» »Det \n",
      "visan 1 Sveriges karta 2 Nils Holgerssons underbara resa genom Sv\n",
      "admalsvåden 233 ________ Nils Holgerssons underbara resa genom Sv\n",
      "R. Tolv år ungefär innan Nils Holgersson hade börjat resa omkring\n",
      "och leta efter föda, men Nils Holgersson hade på morgonen tappat \n",
      "ill i Närke det året, då Nils Holgersson for fram över landskapet\n",
      "hade flyttat tassen över Nils Holgerssons ansikte, så att den sta\n",
      "29 april. Denna dag fick Nils Holgersson se södra Dalarna. Vildgä\n",
      "rliga sjön. Det året, då Nils Holgersson for med vildgässen genom\n",
      "t skänka upptäckten till Nils Holgersson. Det var ju både det tro\n",
      " som sången varade, stod Nils Holgersson och lyssnade till den, m\n",
      "ova på en vassrugge. Vad Nils Holgersson angår, så var han för hu\n",
      "e svårt för en sådan som Nils Holgersson att finna en farkost. Ha\n",
      "r de hade kommit mittför Nils Holgersson, slogo de sig ner på ett\n",
      " 5 maj. På den tiden, då Nils Holgersson drog genom landet med vi\n",
      "an vara bra lycklig. Att Nils Holgersson, som för ett par timmar \n",
      " afton. Och således hade Nils Holgersson fått se studenterna, när\n",
      "nger under marschen. Men Nils Holgersson hade tyckt, att det inte\n",
      "och glädja så som dessa. Nils Holgersson hade mest sett på studen\n",
      "m, stannade han. »Jag är Nils Holgersson från Västra Vemmenhög,» \n",
      " Ett par år före det, då Nils Holgersson drog omkring med vildgäs\n",
      " detsamma fattade han om Nils Holgersson med sin stora fot, höjde\n",
      "t ingen mer än den lilla Nils Holgersson, som följde henne. Solen\n",
      " voro klädda med is, och Nils Holgersson ville följa henne dit in\n",
      "t Lappland är mitt!» Men Nils Holgersson hade blivit så ängslig, \n",
      " över klippväggarna, och Nils Holgersson kunde förstå, att det va\n",
      " SJUKDOMEN. Det året, då Nils Holgersson for omkring med vildgäss\n",
      "jligt att undgå den. Vad Nils Holgersson beträffar, så hade han h\n",
      "hade hon slagit klorna i Nils Holgerssons skuldra och hackade eft\n",
      "g, att just det året, då Nils Holgersson for omkring med vildgäss\n",
      " lönt att vara bedrövad, Nils Holgersson,» sade solen. »Världen ä\n",
      "åga om han inte kunde ge Nils Holgersson bättre villkor. ’Det öns\n",
      "du vill,’ sade han. ’Med Nils Holgersson blir det ändå så, som ja\n",
      "a haft av honom. Ja, säg Nils Holgersson, att föräldrarna redan h\n",
      "Västergötland. Den lille Nils Holgersson hade krupit upp på en la\n",
      " honom sämre.» Den lille Nils Holgersson hade följt med barnen he\n",
      "e bara störa.» Då tyckte Nils Holgersson, att när ingen annan gjo\n",
      "n färdig att följa det.» Nils Holgersson sprang raskt neråt vägen\n",
      "rott mellan de unga. Vad Nils Holgersson beträffar, så hade han i\n",
      "on gav sig tid att se på Nils Holgersson, innan hon stötte till. \n",
      " ändå alldeles olik. Den Nils Holgersson, som hade farit bort i v\n",
      " tro det. Välkommen hem, Nils Holgersson, välkommen hem! Det här \n",
      "mig här på gården,» sade Nils Holgersson. »Min egen mor tror, att\n",
      "on riktig sjukdom,» sade Nils Holgersson. »Jag får försöka ställa\n",
      "in kniv här på din hov?» Nils Holgersson var nätt och jämnt färdi\n",
      "sslingen, som var så lik Nils Holgersson, att om det inte var han\n",
      "pojken fanns i närheten. Nils Holgersson hörde honom nog, men han\n",
      "ottrar ihop ett tack för Nils Holgersson? Vad skulle det ha blivi\n"
     ]
    }
   ],
   "metadata": {}
  },
  {
   "cell_type": "markdown",
   "source": [
    "Run a simple <a href=\"https://github.com/pnugues/ilppp/tree/master/programs/ch05/python\">tokenization\n",
    "program</a> on your corpus."
   ],
   "metadata": {}
  },
  {
   "cell_type": "code",
   "execution_count": 869,
   "source": [
    "def tokenize(text):\r\n",
    "    words = re.findall('\\p{L}+', text)\r\n",
    "    return words"
   ],
   "outputs": [],
   "metadata": {}
  },
  {
   "cell_type": "code",
   "execution_count": 870,
   "source": [
    "words = tokenize(corpus)\r\n",
    "words[:10]"
   ],
   "outputs": [
    {
     "output_type": "execute_result",
     "data": {
      "text/plain": [
       "['Selma',\n",
       " 'Lagerlöf',\n",
       " 'Nils',\n",
       " 'Holgerssons',\n",
       " 'underbara',\n",
       " 'resa',\n",
       " 'genom',\n",
       " 'Sverige',\n",
       " 'Första',\n",
       " 'bandet']"
      ]
     },
     "metadata": {},
     "execution_count": 870
    }
   ],
   "metadata": {}
  },
  {
   "cell_type": "markdown",
   "source": [
    "Count the number of unique words in the original corpus and when setting all the words in lowercase"
   ],
   "metadata": {}
  },
  {
   "cell_type": "markdown",
   "source": [
    "Original text"
   ],
   "metadata": {}
  },
  {
   "cell_type": "code",
   "execution_count": 871,
   "source": [
    "unique_words_original = set(words)\r\n",
    "len(unique_words_original)"
   ],
   "outputs": [
    {
     "output_type": "execute_result",
     "data": {
      "text/plain": [
       "44256"
      ]
     },
     "metadata": {},
     "execution_count": 871
    }
   ],
   "metadata": {}
  },
  {
   "cell_type": "markdown",
   "source": [
    "Lowercased text"
   ],
   "metadata": {}
  },
  {
   "cell_type": "code",
   "execution_count": 872,
   "source": [
    "unique_lower = set(map(str.lower, words))\r\n",
    "len(unique_lower)"
   ],
   "outputs": [
    {
     "output_type": "execute_result",
     "data": {
      "text/plain": [
       "41032"
      ]
     },
     "metadata": {},
     "execution_count": 872
    }
   ],
   "metadata": {}
  },
  {
   "cell_type": "markdown",
   "source": [
    "### Segmenting a corpus"
   ],
   "metadata": {}
  },
  {
   "cell_type": "markdown",
   "source": [
    "You will write a program to tokenize your text, insert `<s>` and `</s>` tags to delimit sentences, and set all the words in lowercase letters. In the end, you will only keep the words."
   ],
   "metadata": {}
  },
  {
   "cell_type": "markdown",
   "source": [
    "#### Normalizing "
   ],
   "metadata": {}
  },
  {
   "cell_type": "markdown",
   "source": [
    "Write a regular expression that matches all the characters that are neither a letter nor a punctuation sign. The punctuations signs will be the followings: `.;:?!`. In your regex, use the same order. For the definition of a letter, use a Unicode regex. You will call the regex string `nonletter`"
   ],
   "metadata": {}
  },
  {
   "cell_type": "code",
   "execution_count": 873,
   "source": [
    "nonletter = r'[^.;:?!\\p{L}]'\r\n",
    "punctuation = r'[.;:?!]'"
   ],
   "outputs": [],
   "metadata": {}
  },
  {
   "cell_type": "markdown",
   "source": [
    "Write a `clean()` function that replaces all the characters that are neither a letter nor a punctuation sign with a space. The punctuations signs will be the followings: `.;:?!`.   For the sentence:\n",
    "\n",
    "_En gång hade de på Mårbacka en barnpiga, som hette Back-Kajsa._\n",
    "\n",
    "the result will be:\n",
    "\n",
    "`En gång hade de på Mårbacka en barnpiga som hette Back Kajsa.`"
   ],
   "metadata": {}
  },
  {
   "cell_type": "code",
   "execution_count": 874,
   "source": [
    "def clean(text):\r\n",
    "    return re.sub(nonletter, ' ', text)"
   ],
   "outputs": [],
   "metadata": {}
  },
  {
   "cell_type": "code",
   "execution_count": 875,
   "source": [
    "test_para = 'En gång hade de på Mårbacka en barnpiga, som hette Back-Kajsa. \\\r\n",
    "Hon var nog sina tre alnar lång, hon hade ett stort, grovt ansikte med stränga, mörka drag, \\\r\n",
    "hennes händer voro hårda och fulla av sprickor, som barnens hår fastnade i, \\\r\n",
    "när hon kammade dem, och till humöret var hon dyster och sorgbunden.'"
   ],
   "outputs": [],
   "metadata": {}
  },
  {
   "cell_type": "code",
   "execution_count": 876,
   "source": [
    "test_para = clean(test_para)\r\n",
    "test_para"
   ],
   "outputs": [
    {
     "output_type": "execute_result",
     "data": {
      "text/plain": [
       "'En gång hade de på Mårbacka en barnpiga  som hette Back Kajsa. Hon var nog sina tre alnar lång  hon hade ett stort  grovt ansikte med stränga  mörka drag  hennes händer voro hårda och fulla av sprickor  som barnens hår fastnade i  när hon kammade dem  och till humöret var hon dyster och sorgbunden.'"
      ]
     },
     "metadata": {},
     "execution_count": 876
    }
   ],
   "metadata": {}
  },
  {
   "cell_type": "markdown",
   "source": [
    "#### Segmenter"
   ],
   "metadata": {}
  },
  {
   "cell_type": "markdown",
   "source": [
    "In this section, you will write a sentence segmenter that will delimit each sentence with `</s>` and `<s>` symbols. For example the sentence:\n",
    "\n",
    "_En gång hade de på Mårbacka en barnpiga, som hette Back-Kajsa._\n",
    "\n",
    "will be bracketed as:\n",
    "\n",
    "`<s> En gång hade de på Mårbacka en barnpiga som hette Back-Kajsa </s>`\n",
    "\n",
    "As algorithm, you will use a simple heuristics to detect the sentence boundaries: A sentence starts with a capital letter and ends with a period-equivalent punctuation sign. You will write a regex to match these boundaries with a regular expression and you will insert `</s>\\n<s>` symbols with a substitution function."
   ],
   "metadata": {}
  },
  {
   "cell_type": "markdown",
   "source": [
    "##### Detecting sentence boundaries"
   ],
   "metadata": {}
  },
  {
   "cell_type": "markdown",
   "source": [
    "Write a regular expression that matches a punctuation, a sequence of spaces, and an uppercase letter. Call this regex string `sentence_boundaries`. In the regex, you will remember the value of the uppercase letter using a backreference. Use the Unicode regexes for the letters and the spaces."
   ],
   "metadata": {}
  },
  {
   "cell_type": "code",
   "execution_count": 877,
   "source": [
    "sentence_boundaries = r'[.;:?!]+\\p{Z}+(\\p{Lu})'"
   ],
   "outputs": [],
   "metadata": {}
  },
  {
   "cell_type": "markdown",
   "source": [
    "##### Replacement markup"
   ],
   "metadata": {}
  },
  {
   "cell_type": "markdown",
   "source": [
    "Write a string to replace the matched boundaries with the sentence boundary markup. Remember that a sentence ends with `</s>` and starts with `<s>` and that there is one sentence per line. Hint: The markup is `</s>\\n<s>`. Remember also that the first letter of your sentence is in a regex backreference. Call the regex string `sentence_markup`."
   ],
   "metadata": {}
  },
  {
   "cell_type": "code",
   "execution_count": 878,
   "source": [
    "sentence_markup = r' </s>\\n<s> \\1'"
   ],
   "outputs": [],
   "metadata": {}
  },
  {
   "cell_type": "markdown",
   "source": [
    "##### Applying the substitution"
   ],
   "metadata": {}
  },
  {
   "cell_type": "markdown",
   "source": [
    "Use your regexes to segment your text. Use the string `sentence_boundaries`, `sentence_markup`, and `test_para` as input and `text` as output."
   ],
   "metadata": {}
  },
  {
   "cell_type": "code",
   "execution_count": 879,
   "source": [
    "text = re.sub(sentence_boundaries, sentence_markup, test_para)"
   ],
   "outputs": [],
   "metadata": {}
  },
  {
   "cell_type": "code",
   "execution_count": 880,
   "source": [
    "print(text)"
   ],
   "outputs": [
    {
     "output_type": "stream",
     "name": "stdout",
     "text": [
      "En gång hade de på Mårbacka en barnpiga  som hette Back Kajsa </s>\n",
      "<s> Hon var nog sina tre alnar lång  hon hade ett stort  grovt ansikte med stränga  mörka drag  hennes händer voro hårda och fulla av sprickor  som barnens hår fastnade i  när hon kammade dem  och till humöret var hon dyster och sorgbunden.\n"
     ]
    }
   ],
   "metadata": {}
  },
  {
   "cell_type": "markdown",
   "source": [
    "Insert markup codes in the beginning and end of the text"
   ],
   "metadata": {}
  },
  {
   "cell_type": "code",
   "execution_count": 881,
   "source": [
    "text = '<s> ' + text + ' </s>'"
   ],
   "outputs": [],
   "metadata": {}
  },
  {
   "cell_type": "code",
   "execution_count": 882,
   "source": [
    "print(text)"
   ],
   "outputs": [
    {
     "output_type": "stream",
     "name": "stdout",
     "text": [
      "<s> En gång hade de på Mårbacka en barnpiga  som hette Back Kajsa </s>\n",
      "<s> Hon var nog sina tre alnar lång  hon hade ett stort  grovt ansikte med stränga  mörka drag  hennes händer voro hårda och fulla av sprickor  som barnens hår fastnade i  när hon kammade dem  och till humöret var hon dyster och sorgbunden. </s>\n"
     ]
    }
   ],
   "metadata": {}
  },
  {
   "cell_type": "markdown",
   "source": [
    "Replace the space duplicates with one space and remove the punctuation signs. For the spaces, use the Unicode regex."
   ],
   "metadata": {}
  },
  {
   "cell_type": "code",
   "execution_count": 883,
   "source": [
    "text = re.sub(r'\\p{Z}{2,}', ' ', text)\r\n",
    "text = re.sub(r'[.;:?!]', '', text)"
   ],
   "outputs": [],
   "metadata": {}
  },
  {
   "cell_type": "code",
   "execution_count": 884,
   "source": [
    "print(text)"
   ],
   "outputs": [
    {
     "output_type": "stream",
     "name": "stdout",
     "text": [
      "<s> En gång hade de på Mårbacka en barnpiga som hette Back Kajsa </s>\n",
      "<s> Hon var nog sina tre alnar lång hon hade ett stort grovt ansikte med stränga mörka drag hennes händer voro hårda och fulla av sprickor som barnens hår fastnade i när hon kammade dem och till humöret var hon dyster och sorgbunden </s>\n"
     ]
    }
   ],
   "metadata": {}
  },
  {
   "cell_type": "markdown",
   "source": [
    "Write a `segment_sentences(text)` function to gather the code in the Segmenter section and set the text in lowercase"
   ],
   "metadata": {}
  },
  {
   "cell_type": "code",
   "execution_count": 885,
   "source": [
    "def segment_sentences(text):\r\n",
    "    text = clean(text)\r\n",
    "    text = re.sub(r' +', ' ', text)\r\n",
    "    text = re.sub(sentence_boundaries, sentence_markup, text)\r\n",
    "    # text = re.sub(r'\\p{Z}{2,}', ' ', text)\r\n",
    "    text = re.sub(punctuation, '', text)\r\n",
    "    text = text.lower()\r\n",
    "    text = '<s> ' + text + ' </s>'\r\n",
    "    return text\r\n",
    "\r\n",
    "    "
   ],
   "outputs": [],
   "metadata": {}
  },
  {
   "cell_type": "code",
   "execution_count": 886,
   "source": [
    "print(segment_sentences(test_para))"
   ],
   "outputs": [
    {
     "output_type": "stream",
     "name": "stdout",
     "text": [
      "<s> en gång hade de på mårbacka en barnpiga som hette back kajsa </s>\n",
      "<s> hon var nog sina tre alnar lång hon hade ett stort grovt ansikte med stränga mörka drag hennes händer voro hårda och fulla av sprickor som barnens hår fastnade i när hon kammade dem och till humöret var hon dyster och sorgbunden </s>\n"
     ]
    }
   ],
   "metadata": {}
  },
  {
   "cell_type": "markdown",
   "source": [
    "Estimate roughly the accuracy of your program."
   ],
   "metadata": {}
  },
  {
   "cell_type": "markdown",
   "source": [
    "#### Tokenizing the corpus"
   ],
   "metadata": {}
  },
  {
   "cell_type": "markdown",
   "source": [
    "Clean and segment the corpus"
   ],
   "metadata": {}
  },
  {
   "cell_type": "code",
   "execution_count": 887,
   "source": [
    "# corpus = segment_sentences(corpus)\r\n",
    "corpus = segment_sentences(corpus)"
   ],
   "outputs": [],
   "metadata": {}
  },
  {
   "cell_type": "markdown",
   "source": [
    "The result should be a normalized text without punctuation signs where all the sentences are delimited with `<s>` and `</s>` tags. The five last lines of the text should look like this."
   ],
   "metadata": {}
  },
  {
   "cell_type": "code",
   "execution_count": 888,
   "source": [
    "print(corpus[-557:])"
   ],
   "outputs": [
    {
     "output_type": "stream",
     "name": "stdout",
     "text": [
      "s> hon hade fått större kärlek av sina föräldrar än någon annan han visste och sådan kärlek måste vändas i välsignelse </s>\n",
      "<s> då prästen sade detta kom alla människor att se bort mot klara gulla och de förundrade sig över vad de såg </s>\n",
      "<s> prästens ord tycktes redan ha gått i uppfyllelse </s>\n",
      "<s> där stod klara fina gulleborg ifrån skrolycka hon som var uppkallad efter själva solen vid sina föräldrars grav och lyste som en förklarad </s>\n",
      "<s> hon var likaså vacker som den söndagen då hon gick till kyrkan i den röda klänningen om inte vackrare  </s>\n"
     ]
    }
   ],
   "metadata": {}
  },
  {
   "cell_type": "markdown",
   "source": [
    "You will now create a list of words from your string. You will consider that a space or a carriage return is an item separator"
   ],
   "metadata": {}
  },
  {
   "cell_type": "code",
   "execution_count": 889,
   "source": [
    "words = re.findall(r'[^ \\n]+', corpus)\n",
    "# words = corpus.split()"
   ],
   "outputs": [],
   "metadata": {}
  },
  {
   "cell_type": "markdown",
   "source": [
    "The five last lines of the corpus should like this:"
   ],
   "metadata": {}
  },
  {
   "cell_type": "code",
   "execution_count": 890,
   "source": [
    "print(words[-101:])\n",
    "# print(words[:20])"
   ],
   "outputs": [
    {
     "output_type": "stream",
     "name": "stdout",
     "text": [
      "['<s>', 'hon', 'hade', 'fått', 'större', 'kärlek', 'av', 'sina', 'föräldrar', 'än', 'någon', 'annan', 'han', 'visste', 'och', 'sådan', 'kärlek', 'måste', 'vändas', 'i', 'välsignelse', '</s>', '<s>', 'då', 'prästen', 'sade', 'detta', 'kom', 'alla', 'människor', 'att', 'se', 'bort', 'mot', 'klara', 'gulla', 'och', 'de', 'förundrade', 'sig', 'över', 'vad', 'de', 'såg', '</s>', '<s>', 'prästens', 'ord', 'tycktes', 'redan', 'ha', 'gått', 'i', 'uppfyllelse', '</s>', '<s>', 'där', 'stod', 'klara', 'fina', 'gulleborg', 'ifrån', 'skrolycka', 'hon', 'som', 'var', 'uppkallad', 'efter', 'själva', 'solen', 'vid', 'sina', 'föräldrars', 'grav', 'och', 'lyste', 'som', 'en', 'förklarad', '</s>', '<s>', 'hon', 'var', 'likaså', 'vacker', 'som', 'den', 'söndagen', 'då', 'hon', 'gick', 'till', 'kyrkan', 'i', 'den', 'röda', 'klänningen', 'om', 'inte', 'vackrare', '</s>']\n"
     ]
    }
   ],
   "metadata": {}
  },
  {
   "cell_type": "markdown",
   "source": [
    "### Counting unigrams and bigrams"
   ],
   "metadata": {}
  },
  {
   "cell_type": "markdown",
   "source": [
    "Read and try programs to compute the frequency of unigrams and bigrams of the training set: [<a\n",
    "            href=\"https://github.com/pnugues/ilppp/tree/master/programs/ch05/python\">Program folder</a>]."
   ],
   "metadata": {}
  },
  {
   "cell_type": "markdown",
   "source": [
    "#### Unigrams"
   ],
   "metadata": {}
  },
  {
   "cell_type": "code",
   "execution_count": 891,
   "source": [
    "def unigrams(words):\n",
    "    frequency = {}\n",
    "    for i in range(len(words)):\n",
    "        if words[i] in frequency:\n",
    "            frequency[words[i]] += 1\n",
    "        else:\n",
    "            frequency[words[i]] = 1\n",
    "    return frequency"
   ],
   "outputs": [],
   "metadata": {}
  },
  {
   "cell_type": "markdown",
   "source": [
    "We compute the frequencies."
   ],
   "metadata": {}
  },
  {
   "cell_type": "code",
   "execution_count": 892,
   "source": [
    "frequency = unigrams(words)\n",
    "list(frequency.items())[:20]"
   ],
   "outputs": [
    {
     "output_type": "execute_result",
     "data": {
      "text/plain": [
       "[('<s>', 59047),\n",
       " ('selma', 52),\n",
       " ('lagerlöf', 270),\n",
       " ('nils', 87),\n",
       " ('holgerssons', 6),\n",
       " ('underbara', 23),\n",
       " ('resa', 317),\n",
       " ('genom', 688),\n",
       " ('sverige', 56),\n",
       " ('</s>', 59047),\n",
       " ('första', 525),\n",
       " ('bandet', 6),\n",
       " ('bokutgåva', 11),\n",
       " ('albert', 15),\n",
       " ('bonniers', 11),\n",
       " ('förlag', 11),\n",
       " ('stockholm', 77),\n",
       " ('den', 11624),\n",
       " ('kristliga', 2),\n",
       " ('dagvisan', 2)]"
      ]
     },
     "metadata": {},
     "execution_count": 892
    }
   ],
   "metadata": {}
  },
  {
   "cell_type": "markdown",
   "source": [
    "#### Bigrams"
   ],
   "metadata": {}
  },
  {
   "cell_type": "code",
   "execution_count": 893,
   "source": [
    "def bigrams(words):\n",
    "    bigrams = []\n",
    "    for i in range(len(words) - 1):\n",
    "        bigrams.append((words[i], words[i + 1]))\n",
    "    frequency_bigrams = {}\n",
    "    for i in range(len(words) - 1):\n",
    "        if bigrams[i] in frequency_bigrams:\n",
    "            frequency_bigrams[bigrams[i]] += 1\n",
    "        else:\n",
    "            frequency_bigrams[bigrams[i]] = 1\n",
    "    return frequency_bigrams"
   ],
   "outputs": [],
   "metadata": {}
  },
  {
   "cell_type": "code",
   "execution_count": 894,
   "source": [
    "frequency_bigrams = bigrams(words)\n",
    "list(frequency_bigrams.items())[:20]"
   ],
   "outputs": [
    {
     "output_type": "execute_result",
     "data": {
      "text/plain": [
       "[(('<s>', 'selma'), 8),\n",
       " (('selma', 'lagerlöf'), 11),\n",
       " (('lagerlöf', 'nils'), 1),\n",
       " (('nils', 'holgerssons'), 6),\n",
       " (('holgerssons', 'underbara'), 4),\n",
       " (('underbara', 'resa'), 4),\n",
       " (('resa', 'genom'), 6),\n",
       " (('genom', 'sverige'), 5),\n",
       " (('sverige', '</s>'), 17),\n",
       " (('</s>', '<s>'), 59046),\n",
       " (('<s>', 'första'), 11),\n",
       " (('första', 'bandet'), 1),\n",
       " (('bandet', 'bokutgåva'), 2),\n",
       " (('bokutgåva', 'albert'), 11),\n",
       " (('albert', 'bonniers'), 11),\n",
       " (('bonniers', 'förlag'), 11),\n",
       " (('förlag', 'stockholm'), 10),\n",
       " (('stockholm', '</s>'), 24),\n",
       " (('<s>', 'den'), 1375),\n",
       " (('den', 'kristliga'), 2)]"
      ]
     },
     "metadata": {},
     "execution_count": 894
    }
   ],
   "metadata": {}
  },
  {
   "cell_type": "markdown",
   "source": [
    "In the report, tell what is the possible number of bigrams and their real number? Explain why such a difference. What would be the possible number of 4-grams.\n",
    "\n",
    "Propose a solution to cope with bigrams unseen in the corpus."
   ],
   "metadata": {}
  },
  {
   "cell_type": "code",
   "execution_count": 895,
   "source": [
    "real_nbr_bigrams = len(frequency_bigrams.items())\n",
    "print('Real number of bigrams: ', real_nbr_bigrams)\n",
    "possible_nbr_bigrams = len(set(words))**2\n",
    "print('Possible number of bigrams: ', possible_nbr_bigrams)\n",
    "possible_nbr_4grams = len(set(words))**4\n",
    "print('Possible number of 4grams: ', possible_nbr_4grams)"
   ],
   "outputs": [
    {
     "output_type": "stream",
     "name": "stdout",
     "text": [
      "Real number of bigrams:  320122\n",
      "Possible number of bigrams:  1683542961\n",
      "Possible number of 4grams:  2834316901532647521\n"
     ]
    }
   ],
   "metadata": {}
  },
  {
   "cell_type": "markdown",
   "source": [
    "### Computing the likelihood of a sentence"
   ],
   "metadata": {}
  },
  {
   "cell_type": "markdown",
   "source": [
    "#### Unigrams"
   ],
   "metadata": {}
  },
  {
   "cell_type": "markdown",
   "source": [
    "Write a program to compute a sentence's probability using unigrams. You may find useful the dictionaries that we saw in the mutual information program: [<a href=\"https://github.com/pnugues/ilppp/tree/master/programs/ch05/python\">Program folder</a>]. Your function will return the perplexity."
   ],
   "metadata": {}
  },
  {
   "cell_type": "markdown",
   "source": [
    "Your function should print and tabulate the results as in the examples below with the sentence _Det var en gång en katt som hette Nils_."
   ],
   "metadata": {}
  },
  {
   "cell_type": "markdown",
   "source": [
    "```\n",
    "=====================================================\n",
    "wi \t C(wi) \t #words \t P(wi)\n",
    "=====================================================\n",
    "det \t 21108 \t 1041631 \t 0.0202643738521607\n",
    "var \t 12090 \t 1041631 \t 0.01160679741674355\n",
    "en \t 13514 \t 1041631 \t 0.01297388422579589\n",
    "gång \t 1332 \t 1041631 \t 0.001278763784871994\n",
    "en \t 13514 \t 1041631 \t 0.01297388422579589\n",
    "katt \t 16 \t 1041631 \t 1.5360525944408337e-05\n",
    "som \t 16288 \t 1041631 \t 0.015637015411407686\n",
    "hette \t 97 \t 1041631 \t 9.312318853797554e-05\n",
    "nils \t 87 \t 1041631 \t 8.352285982272032e-05\n",
    "</s> \t 59047 \t 1041631 \t 0.056687060964967444\n",
    "=====================================================\n",
    "Prob. unigrams:\t 5.361459667285409e-27\n",
    "Geometric mean prob.: 0.0023600885848765307\n",
    "Entropy rate:\t 8.726943273141258\n",
    "Perplexity:\t 423.71290908655254\n",
    "```"
   ],
   "metadata": {}
  },
  {
   "cell_type": "code",
   "execution_count": 896,
   "source": [
    "def unigram_lm(freq, sent_words):\r\n",
    "    print(\"==============================================================================\")\r\n",
    "    print(\"wi\\t\\tC(wi)\\t\\t#words\\t\\tP(wi)\")\r\n",
    "    print(\"==============================================================================\")\r\n",
    "    totWords = 0\r\n",
    "    for word in freq:\r\n",
    "        totWords += freq[word]\r\n",
    "        \r\n",
    "    probabilities = [];\r\n",
    "    p = {}\r\n",
    "    \r\n",
    "    \r\n",
    "    for w in sent_words:\r\n",
    "        p[w]=freq[w]/totWords\r\n",
    "        print(w,freq[w],totWords,p[w],sep='\\t\\t')\r\n",
    "        probabilities.append(p[w])\r\n",
    "    \r\n",
    "    print(\"==============================================================================\")\r\n",
    "    entropy = (-1/len(probabilities))*sum(math.log(probability, 2) if probability > 0 else 0 for probability in probabilities)\r\n",
    "    sentence_probability = np.prod(probabilities)\r\n",
    "        \r\n",
    "    print(\"\\nProb. unigrams: \" + str(sentence_probability) )\r\n",
    "    print(\"Geometric mean prob.: \" + str(np.prod(probabilities)**(1.0/len(probabilities))))\r\n",
    "    print(\"Entropy rate: \" + str(entropy))\r\n",
    "    print(\"Perplexity: \" + str(2**entropy))\r\n",
    "    \r\n",
    "    return 2**entropy"
   ],
   "outputs": [],
   "metadata": {}
  },
  {
   "cell_type": "code",
   "execution_count": 897,
   "source": [
    "sentence = 'det var en gång en katt som hette nils </s>'\n",
    "sent_words = sentence.split()\n",
    "sent_words"
   ],
   "outputs": [
    {
     "output_type": "execute_result",
     "data": {
      "text/plain": [
       "['det', 'var', 'en', 'gång', 'en', 'katt', 'som', 'hette', 'nils', '</s>']"
      ]
     },
     "metadata": {},
     "execution_count": 897
    }
   ],
   "metadata": {}
  },
  {
   "cell_type": "code",
   "execution_count": 898,
   "source": [
    "perplexity_unigrams = unigram_lm(frequency, sent_words)"
   ],
   "outputs": [
    {
     "output_type": "stream",
     "name": "stdout",
     "text": [
      "==============================================================================\n",
      "wi\t\tC(wi)\t\t#words\t\tP(wi)\n",
      "==============================================================================\n",
      "det\t\t21108\t\t1041560\t\t0.020265755213333847\n",
      "var\t\t12090\t\t1041560\t\t0.011607588617074388\n",
      "en\t\t13514\t\t1041560\t\t0.01297476861630631\n",
      "gång\t\t1332\t\t1041560\t\t0.001278850954337724\n",
      "en\t\t13514\t\t1041560\t\t0.01297476861630631\n",
      "katt\t\t16\t\t1041560\t\t1.5361573025077767e-05\n",
      "som\t\t16288\t\t1041560\t\t0.015638081339529167\n",
      "hette\t\t97\t\t1041560\t\t9.312953646453396e-05\n",
      "nils\t\t87\t\t1041560\t\t8.352855332386037e-05\n",
      "</s>\t\t59047\t\t1041560\t\t0.056690925150735434\n",
      "==============================================================================\n",
      "\n",
      "Prob. unigrams: 5.3651155337425844e-27\n",
      "Geometric mean prob.: 0.0023602494649885993\n",
      "Entropy rate: 8.726844932328587\n",
      "Perplexity: 423.68402782577465\n"
     ]
    }
   ],
   "metadata": {}
  },
  {
   "cell_type": "code",
   "execution_count": 899,
   "source": [
    "perplexity_unigrams = int(perplexity_unigrams)\n",
    "perplexity_unigrams"
   ],
   "outputs": [
    {
     "output_type": "execute_result",
     "data": {
      "text/plain": [
       "423"
      ]
     },
     "metadata": {},
     "execution_count": 899
    }
   ],
   "metadata": {}
  },
  {
   "cell_type": "markdown",
   "source": [
    "#### Bigrams"
   ],
   "metadata": {}
  },
  {
   "cell_type": "markdown",
   "source": [
    "Write a program to compute the sentence probability using bigrams. Your function will tabulate and print the results as below. It will return the perplexity."
   ],
   "metadata": {}
  },
  {
   "cell_type": "markdown",
   "source": [
    "```\n",
    "=====================================================\n",
    "wi \t wi+1 \t Ci,i+1 \t C(i) \t P(wi+1|wi)\n",
    "=====================================================\n",
    "<s>\t det \t 5672 \t 59047 \t 0.09605907158704083\n",
    "det \t var \t 3839 \t 21108 \t 0.1818741709304529\n",
    "var \t en \t 712 \t 12090 \t 0.058891645988420185\n",
    "en \t gång \t 706 \t 13514 \t 0.052242119283705785\n",
    "gång \t en \t 20 \t 1332 \t 0.015015015015015015\n",
    "en \t katt \t 6 \t 13514 \t 0.0004439840165754033\n",
    "katt \t som \t 2 \t 16 \t 0.125\n",
    "som \t hette \t 45 \t 16288 \t 0.002762770137524558\n",
    "hette \t nils \t 0 \t 97 \t 0.0 \t *backoff: \t 8.352285982272032e-05\n",
    "nils \t </s> \t 2 \t 87 \t 0.022988505747126436\n",
    "=====================================================\n",
    "Prob. bigrams:\t 2.376007803503683e-19\n",
    "Geometric mean prob.: 0.013727289294133601\n",
    "Entropy rate:\t 6.186809422848149\n",
    "Perplexity:\t 72.84759420254609\n",
    "```"
   ],
   "metadata": {}
  },
  {
   "cell_type": "code",
   "execution_count": 900,
   "source": [
    "def bigram_lm(freq, freq_bigrams, sent_words):\n",
    "    print(\"==============================================================================\")\n",
    "    print(\"wi\\t\\twi+1\\t\\tCi,i+1\\t\\tC(i)\\t\\tP(wi+1|wi)\")\n",
    "    print(\"==============================================================================\")\n",
    "    nbr_words = 0\n",
    "    for word in freq:\n",
    "        nbr_words += freq[word]\n",
    "        \n",
    "    probabilities_array = []\n",
    "    probabilities_unigram = {}\n",
    "    probabilities_bigram = {}\n",
    "    \n",
    "    \n",
    "    for i in range(len(sent_words) - 1):\n",
    "        unigram = sent_words[i]\n",
    "        bigram = (sent_words[i], sent_words[i + 1])\n",
    "\n",
    "        unigram_occurences = freq[unigram]\n",
    "        bigram_occurences = freq_bigrams[bigram] if bigram in freq_bigrams else 0\n",
    "\n",
    "        probabilities_unigram[unigram] = unigram_occurences / nbr_words\n",
    "        probabilities_bigram[bigram] = bigram_occurences / unigram_occurences\n",
    "\n",
    "        bigram_probability_string = str(probabilities_bigram[bigram])\n",
    "        probability = 0\n",
    "        if probabilities_bigram[bigram] == 0:\n",
    "            probability = probabilities_unigram[unigram]\n",
    "            bigram_probability_string += ' Backoff: ' + str(probabilities_unigram[unigram])\n",
    "        else:\n",
    "            probability = probabilities_bigram[bigram]\n",
    "\n",
    "        probabilities_array.append(probability)\n",
    "        print(unigram, bigram[1], bigram_occurences, unigram_occurences, bigram_probability_string, sep='\\t\\t')\n",
    "    \n",
    "    print(\"==============================================================================\")\n",
    "    entropy = (-1/len(probabilities_array))*sum(math.log(probability, 2) if probability > 0 else 0 for probability in probabilities_array)\n",
    "    sentence_probability = np.prod(probabilities_array)\n",
    "        \n",
    "    print(\"\\nProb. unigrams: \" + str(sentence_probability))\n",
    "    print(\"Geometric mean prob.: \" + str(np.prod(probabilities_array)**(1.0/len(probabilities_array))))\n",
    "    print(\"Entropy rate: \" + str(entropy))\n",
    "    print(\"Perplexity: \" + str(2**entropy))\n",
    "    \n",
    "    return 2**entropy"
   ],
   "outputs": [],
   "metadata": {}
  },
  {
   "cell_type": "code",
   "execution_count": 901,
   "source": [
    "sent_words = '<s> det var en gång en katt som hette nils </s>'.split()\n",
    "perplexity_bigrams = bigram_lm(frequency, frequency_bigrams, sent_words)"
   ],
   "outputs": [
    {
     "output_type": "stream",
     "name": "stdout",
     "text": [
      "==============================================================================\n",
      "wi\t\twi+1\t\tCi,i+1\t\tC(i)\t\tP(wi+1|wi)\n",
      "==============================================================================\n",
      "<s>\t\tdet\t\t5672\t\t59047\t\t0.09605907158704083\n",
      "det\t\tvar\t\t3839\t\t21108\t\t0.1818741709304529\n",
      "var\t\ten\t\t712\t\t12090\t\t0.058891645988420185\n",
      "en\t\tgång\t\t706\t\t13514\t\t0.052242119283705785\n",
      "gång\t\ten\t\t20\t\t1332\t\t0.015015015015015015\n",
      "en\t\tkatt\t\t6\t\t13514\t\t0.0004439840165754033\n",
      "katt\t\tsom\t\t2\t\t16\t\t0.125\n",
      "som\t\thette\t\t45\t\t16288\t\t0.002762770137524558\n",
      "hette\t\tnils\t\t0\t\t97\t\t0.0 Backoff: 9.312953646453396e-05\n",
      "nils\t\t</s>\t\t2\t\t87\t\t0.022988505747126436\n",
      "==============================================================================\n",
      "\n",
      "Prob. unigrams: 2.6492927307096436e-19\n",
      "Geometric mean prob.: 0.013877556200403469\n",
      "Entropy rate: 6.171102654133042\n",
      "Perplexity: 72.05879663243063\n"
     ]
    }
   ],
   "metadata": {}
  },
  {
   "cell_type": "code",
   "execution_count": 902,
   "source": [
    "perplexity_bigrams = int(perplexity_bigrams)\n",
    "perplexity_bigrams"
   ],
   "outputs": [
    {
     "output_type": "execute_result",
     "data": {
      "text/plain": [
       "72"
      ]
     },
     "metadata": {},
     "execution_count": 902
    }
   ],
   "metadata": {}
  },
  {
   "cell_type": "markdown",
   "source": [
    "In addition to this sentence, _Det var en gång en katt som hette Nils_, write five other sentences that will form your test set and run your programs on them. You will insert them in your report."
   ],
   "metadata": {}
  },
  {
   "cell_type": "markdown",
   "source": [
    "### Online prediction of words"
   ],
   "metadata": {}
  },
  {
   "cell_type": "markdown",
   "source": [
    "You will now carry out an online prediction of words. You will consider two cases:\n",
    "1. Prediction of the current word a user is typing;\n",
    "2. Prediction of the next word.\n",
    "\n",
    "Ideally, you would write a loop that reads the words and apply the models while typing. As the Jupyter labs are not designed for interactive input and output, we will simplify the experimental settings with constant strings at a given time of the input.  \n",
    "\n",
    "We will assume the user is typing the phrase: _Det var en gång_. "
   ],
   "metadata": {}
  },
  {
   "cell_type": "markdown",
   "source": [
    "#### Trigrams"
   ],
   "metadata": {}
  },
  {
   "cell_type": "markdown",
   "source": [
    "To have a more accurate prediction, you will use a trigram counting function. Program this function following the model of your bigram counting function."
   ],
   "metadata": {}
  },
  {
   "cell_type": "code",
   "execution_count": 903,
   "source": [
    "def trigrams(words):\n",
    "    trigrams = []\n",
    "    for i in range(len(words) - 2):\n",
    "        trigrams.append((words[i], words[i + 1], words[i + 2]))\n",
    "        \n",
    "    frequency_trigrams = {}\n",
    "    for i in range(len(words) - 2):\n",
    "        if trigrams[i] in frequency_trigrams:\n",
    "            frequency_trigrams[trigrams[i]] += 1\n",
    "        else:\n",
    "            frequency_trigrams[trigrams[i]] = 1\n",
    "    return frequency_trigrams"
   ],
   "outputs": [],
   "metadata": {}
  },
  {
   "cell_type": "code",
   "execution_count": 904,
   "source": [
    "frequency_trigrams = trigrams(words)\n",
    "frequency_trigrams[('det', 'var', 'en')]"
   ],
   "outputs": [
    {
     "output_type": "execute_result",
     "data": {
      "text/plain": [
       "330"
      ]
     },
     "metadata": {},
     "execution_count": 904
    }
   ],
   "metadata": {}
  },
  {
   "cell_type": "markdown",
   "source": [
    "#### Prediction"
   ],
   "metadata": {}
  },
  {
   "cell_type": "markdown",
   "source": [
    "The user starts typing _Det var en gång_. After the 2nd character, your program tries to help the user with suggested words."
   ],
   "metadata": {}
  },
  {
   "cell_type": "code",
   "execution_count": 905,
   "source": [
    "starting_text = 'De'.lower()\n",
    "starting_text"
   ],
   "outputs": [
    {
     "output_type": "execute_result",
     "data": {
      "text/plain": [
       "'de'"
      ]
     },
     "metadata": {},
     "execution_count": 905
    }
   ],
   "metadata": {}
  },
  {
   "cell_type": "markdown",
   "source": [
    "Write a program to rank the five first candidates at this point. Assign these predictions in a list that you will call `current_word_predictions_1`. Note that you are starting a sentence and you can then use the bigram frequencies. Write a sorting key that will enable you have a deterministic ranking of the words or bigrams with identical frequencies: When two words have the same frequency, you will sort them by alphabetic order. You can do this with a tuple."
   ],
   "metadata": {}
  },
  {
   "cell_type": "code",
   "execution_count": 906,
   "source": [
    "from collections import defaultdict\n",
    "\n",
    "def def_value():\n",
    "    return None\n",
    "\n",
    "def find_word(word,cand_nbr):\n",
    "    l = defaultdict(def_value)\n",
    "    len_word = len(word)\n",
    "    \n",
    "    for i in frequency_bigrams.items():\n",
    "        if len(i[0][0]) >= len_word:\n",
    "            if i[0][0][:len_word] == word:\n",
    "                if l[i[0][0]] == None:\n",
    "                    l[i[0][0]] = i[1] \n",
    "                else:\n",
    "                    l[i[0][0]] += i[1]\n",
    "    \n",
    "    \n",
    "    l = sorted(l.items(), key=lambda x: (-x[1], x[0]))\n",
    "\n",
    "    return [i[0] for i in l[:cand_nbr]]\n",
    "\n",
    "def find_word1(word,cand_nbr):\n",
    "    l = []\n",
    "    len_word = len(word)\n",
    "    \n",
    "    for i in frequency.items():\n",
    "        if len(i[0]) >= len_word:\n",
    "            if i[0][:len_word] == word:\n",
    "                l.append(i)\n",
    "                \n",
    "    \n",
    "    \n",
    "    l = sorted(l, key=lambda x: (-x[1], x[0]))\n",
    "\n",
    "    return l[:cand_nbr]\n",
    "\n",
    "print(find_word('de',5))\n",
    "print(find_word1('de',5))\n",
    "current_word_predictions_1 = find_word('de',5)"
   ],
   "outputs": [
    {
     "output_type": "stream",
     "name": "stdout",
     "text": [
      "['det', 'de', 'den', 'dem', 'detta']\n",
      "[('det', 21108), ('de', 11942), ('den', 11624), ('dem', 3196), ('detta', 2482)]\n"
     ]
    }
   ],
   "metadata": {}
  },
  {
   "cell_type": "code",
   "execution_count": 907,
   "source": [
    "cand_nbr = 5"
   ],
   "outputs": [],
   "metadata": {}
  },
  {
   "cell_type": "markdown",
   "source": [
    "Let us now suppose that the user has typed: _Det var en_. After detecting a space, your program starts predicting a next possible word."
   ],
   "metadata": {}
  },
  {
   "cell_type": "code",
   "execution_count": 908,
   "source": [
    "current_text = \"Det var en \".lower()\n",
    "current_text"
   ],
   "outputs": [
    {
     "output_type": "execute_result",
     "data": {
      "text/plain": [
       "'det var en '"
      ]
     },
     "metadata": {},
     "execution_count": 908
    }
   ],
   "metadata": {}
  },
  {
   "cell_type": "markdown",
   "source": [
    "Tokenize this text and return a list of tokens. Call it `tokens`."
   ],
   "metadata": {}
  },
  {
   "cell_type": "code",
   "execution_count": 909,
   "source": [
    "tokens = tokenize(current_text)"
   ],
   "outputs": [],
   "metadata": {}
  },
  {
   "cell_type": "code",
   "execution_count": 910,
   "source": [
    "tokens"
   ],
   "outputs": [
    {
     "output_type": "execute_result",
     "data": {
      "text/plain": [
       "['det', 'var', 'en']"
      ]
     },
     "metadata": {},
     "execution_count": 910
    }
   ],
   "metadata": {}
  },
  {
   "cell_type": "markdown",
   "source": [
    "Write a program to propose the five next possible words ranked by frequency using a trigram model. Assign these predictions to a variable that you will call `next_word_predictions`. Write a sorting key that will enable you have a deterministic ranking of the words or bigrams with identical frequencies: When two words have the same frequency, you will sort them by alphabetic order. You can do this with a tuple."
   ],
   "metadata": {}
  },
  {
   "cell_type": "code",
   "execution_count": 911,
   "source": [
    "\r\n",
    "def find_next(words1,cand_nbr):\r\n",
    "    l = []\r\n",
    "    for i in trigrams(words).items():\r\n",
    "        if i[0][0] == words1[-2] and i[0][1] == words1[-1]:\r\n",
    "            l.append((i[0][2],i[1]))\r\n",
    "    l = sorted(l, key=lambda x: (-x[1], x[0]))\r\n",
    "    return [i[0] for i in l[:cand_nbr]]\r\n",
    "\r\n",
    "next_word_predictions = find_next(tokens,5)\r\n",
    "print(next_word_predictions)"
   ],
   "outputs": [
    {
     "output_type": "stream",
     "name": "stdout",
     "text": [
      "['stor', 'liten', 'gammal', 'god', 'sådan']\n"
     ]
    }
   ],
   "metadata": {}
  },
  {
   "cell_type": "markdown",
   "source": [
    "Finally, let us suppose that the user has typed _Det var en g_, rank the five possible candidates. Assign these predictions in a list that you will call `current_word_predictions_2`"
   ],
   "metadata": {}
  },
  {
   "cell_type": "code",
   "execution_count": 912,
   "source": [
    "current_text = \"Det var en g\".lower()"
   ],
   "outputs": [],
   "metadata": {}
  },
  {
   "cell_type": "code",
   "execution_count": 913,
   "source": [
    "\r\n",
    "\r\n",
    "def find_word_trigram(word,cand_nbr):\r\n",
    "    word = word.split()\r\n",
    "    \r\n",
    "    l = defaultdict(def_value)\r\n",
    "    len_word = len(word[-1])\r\n",
    " \r\n",
    "    \r\n",
    "    for i in frequency_trigrams.items():\r\n",
    "        if len(i[0][2]) >= len_word:\r\n",
    "            if i[0][2][:len_word] == word[-1] and i[0][1] == word[-2] and i[0][0] == word[-3]:\r\n",
    "                if l[i[0][2]] == None:\r\n",
    "                    l[i[0][2]] = i[1] \r\n",
    "                else:\r\n",
    "                    l[i[0][2]] += i[1]\r\n",
    "    \r\n",
    "    \r\n",
    "    l = sorted(l.items(), key=lambda x: (-x[1], x[0]))\r\n",
    "\r\n",
    "    return [i[0] for i in l[:cand_nbr]]\r\n",
    "\r\n",
    "current_word_predictions_2 = find_word_trigram(current_text,5)\r\n",
    "print(current_word_predictions_2)"
   ],
   "outputs": [
    {
     "output_type": "stream",
     "name": "stdout",
     "text": [
      "['gammal', 'god', 'gång', 'ganska', 'glädje']\n"
     ]
    }
   ],
   "metadata": {}
  },
  {
   "cell_type": "code",
   "execution_count": 914,
   "source": [
    "current_word_predictions_2"
   ],
   "outputs": [
    {
     "output_type": "execute_result",
     "data": {
      "text/plain": [
       "['gammal', 'god', 'gång', 'ganska', 'glädje']"
      ]
     },
     "metadata": {},
     "execution_count": 914
    }
   ],
   "metadata": {}
  },
  {
   "cell_type": "markdown",
   "source": [
    "## Checked answers"
   ],
   "metadata": {
    "tags": []
   }
  },
  {
   "cell_type": "markdown",
   "source": [
    "The automatic marking system will check these answers: `(perplexity_unigrams, perplexity_bigrams, current_word_predictions_1, next_word_predictions, current_word_predictions_2)`"
   ],
   "metadata": {}
  },
  {
   "cell_type": "code",
   "execution_count": 915,
   "source": [
    "(perplexity_unigrams, perplexity_bigrams, current_word_predictions_1, next_word_predictions, current_word_predictions_2)"
   ],
   "outputs": [
    {
     "output_type": "execute_result",
     "data": {
      "text/plain": [
       "(423,\n",
       " 72,\n",
       " ['det', 'de', 'den', 'dem', 'detta'],\n",
       " ['stor', 'liten', 'gammal', 'god', 'sådan'],\n",
       " ['gammal', 'god', 'gång', 'ganska', 'glädje'])"
      ]
     },
     "metadata": {},
     "execution_count": 915
    }
   ],
   "metadata": {}
  },
  {
   "cell_type": "markdown",
   "source": [
    "## Submission"
   ],
   "metadata": {}
  },
  {
   "cell_type": "markdown",
   "source": [
    "When you have written all the code and run all the cells, fill in your ID and as well as the name of the notebook."
   ],
   "metadata": {}
  },
  {
   "cell_type": "code",
   "execution_count": 922,
   "source": [
    "STIL_ID = [\"fr5536sj-s\", \"fi1231ka-s\"] # Write your stil ids as a list\r\n",
    "CURRENT_NOTEBOOK_PATH = os.path.join(os.getcwd(), \r\n",
    "                                     \"2-language_models.ipynb\") # Write the name of your notebook"
   ],
   "outputs": [],
   "metadata": {}
  },
  {
   "cell_type": "markdown",
   "source": [
    "The submission code will send your answer. It consists of the perplexities and predictions."
   ],
   "metadata": {}
  },
  {
   "cell_type": "code",
   "execution_count": 917,
   "source": [
    "import json\r\n",
    "ANSWER = json.dumps({'perplexity_unigrams': perplexity_unigrams,\r\n",
    "                     'perplexity_bigrams': perplexity_bigrams,\r\n",
    "                     'current_word_predictions_1': current_word_predictions_1,\r\n",
    "                     'next_word_predictions': next_word_predictions,\r\n",
    "                     'current_word_predictions_2': current_word_predictions_2})\r\n",
    "ANSWER"
   ],
   "outputs": [
    {
     "output_type": "execute_result",
     "data": {
      "text/plain": [
       "'{\"perplexity_unigrams\": 423, \"perplexity_bigrams\": 72, \"current_word_predictions_1\": [\"det\", \"de\", \"den\", \"dem\", \"detta\"], \"next_word_predictions\": [\"stor\", \"liten\", \"gammal\", \"god\", \"s\\\\u00e5dan\"], \"current_word_predictions_2\": [\"gammal\", \"god\", \"g\\\\u00e5ng\", \"ganska\", \"gl\\\\u00e4dje\"]}'"
      ]
     },
     "metadata": {},
     "execution_count": 917
    }
   ],
   "metadata": {}
  },
  {
   "cell_type": "markdown",
   "source": [
    "The checking script will accept perplexities with a margin, like for instance:\n",
    "```\n",
    "(421, 72, ['det', 'de', 'den', 'detta', 'denna'], ['stor', 'liten', 'gammal', 'god', 'sådan'], ['gammal', 'god', 'gång', 'ganska', 'glädje'])\n",
    "```"
   ],
   "metadata": {}
  },
  {
   "cell_type": "markdown",
   "source": [
    "Now the moment of truth:\n",
    "1. Save your notebook and\n",
    "2. Run the cells below"
   ],
   "metadata": {}
  },
  {
   "cell_type": "code",
   "execution_count": 918,
   "source": [
    "SUBMISSION_NOTEBOOK_PATH = CURRENT_NOTEBOOK_PATH + \".submission.bz2\""
   ],
   "outputs": [],
   "metadata": {}
  },
  {
   "cell_type": "code",
   "execution_count": 921,
   "source": [
    "ASSIGNMENT = 2\r\n",
    "API_KEY = \"f581ba347babfea0b8f2c74a3a6776a7\"\r\n",
    "\r\n",
    "# Copy and compress current notebook\r\n",
    "with bz2.open(SUBMISSION_NOTEBOOK_PATH, mode=\"wb\") as fout:\r\n",
    "    with open(CURRENT_NOTEBOOK_PATH, \"rb\") as fin:\r\n",
    "        fout.write(fin.read())"
   ],
   "outputs": [
    {
     "output_type": "error",
     "ename": "FileNotFoundError",
     "evalue": "[Errno 2] No such file or directory: 'c:\\\\Users\\\\filip\\\\Documents\\\\Högskola\\\\[EDAN20] - Språkteknologi\\\\edan20\\\\notebooks\\\\2-language_models_solution.ipynb'",
     "traceback": [
      "\u001b[1;31m---------------------------------------------------------------------------\u001b[0m",
      "\u001b[1;31mFileNotFoundError\u001b[0m                         Traceback (most recent call last)",
      "\u001b[1;32m~\\AppData\\Local\\Temp/ipykernel_8208/1972732012.py\u001b[0m in \u001b[0;36m<module>\u001b[1;34m\u001b[0m\n\u001b[0;32m      4\u001b[0m \u001b[1;31m# Copy and compress current notebook\u001b[0m\u001b[1;33m\u001b[0m\u001b[1;33m\u001b[0m\u001b[1;33m\u001b[0m\u001b[0m\n\u001b[0;32m      5\u001b[0m \u001b[1;32mwith\u001b[0m \u001b[0mbz2\u001b[0m\u001b[1;33m.\u001b[0m\u001b[0mopen\u001b[0m\u001b[1;33m(\u001b[0m\u001b[0mSUBMISSION_NOTEBOOK_PATH\u001b[0m\u001b[1;33m,\u001b[0m \u001b[0mmode\u001b[0m\u001b[1;33m=\u001b[0m\u001b[1;34m\"wb\"\u001b[0m\u001b[1;33m)\u001b[0m \u001b[1;32mas\u001b[0m \u001b[0mfout\u001b[0m\u001b[1;33m:\u001b[0m\u001b[1;33m\u001b[0m\u001b[1;33m\u001b[0m\u001b[0m\n\u001b[1;32m----> 6\u001b[1;33m     \u001b[1;32mwith\u001b[0m \u001b[0mopen\u001b[0m\u001b[1;33m(\u001b[0m\u001b[0mCURRENT_NOTEBOOK_PATH\u001b[0m\u001b[1;33m,\u001b[0m \u001b[1;34m\"rb\"\u001b[0m\u001b[1;33m)\u001b[0m \u001b[1;32mas\u001b[0m \u001b[0mfin\u001b[0m\u001b[1;33m:\u001b[0m\u001b[1;33m\u001b[0m\u001b[1;33m\u001b[0m\u001b[0m\n\u001b[0m\u001b[0;32m      7\u001b[0m         \u001b[0mfout\u001b[0m\u001b[1;33m.\u001b[0m\u001b[0mwrite\u001b[0m\u001b[1;33m(\u001b[0m\u001b[0mfin\u001b[0m\u001b[1;33m.\u001b[0m\u001b[0mread\u001b[0m\u001b[1;33m(\u001b[0m\u001b[1;33m)\u001b[0m\u001b[1;33m)\u001b[0m\u001b[1;33m\u001b[0m\u001b[1;33m\u001b[0m\u001b[0m\n",
      "\u001b[1;31mFileNotFoundError\u001b[0m: [Errno 2] No such file or directory: 'c:\\\\Users\\\\filip\\\\Documents\\\\Högskola\\\\[EDAN20] - Språkteknologi\\\\edan20\\\\notebooks\\\\2-language_models_solution.ipynb'"
     ]
    }
   ],
   "metadata": {}
  },
  {
   "cell_type": "code",
   "execution_count": null,
   "source": [
    "res = requests.post(\"https://vilde.cs.lth.se/edan20checker/submit\", \r\n",
    "                    files={\"notebook_file\": open(SUBMISSION_NOTEBOOK_PATH, \"rb\")}, \r\n",
    "                    data={\r\n",
    "                        \"stil_id\": STIL_ID,\r\n",
    "                        \"assignment\": ASSIGNMENT,\r\n",
    "                        \"answer\": ANSWER,\r\n",
    "                        \"api_key\": API_KEY,\r\n",
    "                    },\r\n",
    "                   verify=True)\r\n",
    "\r\n",
    "# from IPython.display import display, JSON\r\n",
    "res.json()"
   ],
   "outputs": [],
   "metadata": {}
  },
  {
   "cell_type": "markdown",
   "source": [
    "## Turning in your assignment"
   ],
   "metadata": {}
  },
  {
   "cell_type": "markdown",
   "source": [
    "Now your are done with the program. To complete this assignment, you will:\n",
    "1. Write a short individual report on your program. Do not forget to include the unigram and bigram tables for five sentences and _Det var en gång en katt som hette Nils_.\n",
    "2. Execute the Jupyter notebook by Peter Norvig here: <a href=\"http://nbviewer.jupyter.org/url/norvig.com/ipython/How%20to%20Do%20Things%20with%20Words.ipynb\">https://nbviewer.jupyter.org/url/norvig.com/ipython/How to Do Things with Words.ipynb</a>. Just run all the cells and be sure that you understand the code. You will find the data here: <a href=\"http://norvig.com/ngrams/\">http://norvig.com/ngrams/</a>.\n",
    "3. In your report, after the description of your program, you will describe one experiment with Norvig's notebook and a long string of words your will create yourself or copy from a text you like. You will remove all the punctuation and white spaces from this string. You will set this string in lowercase letters. You will just add a cell at the end of Sect. 7 in Norvig's notebook, where you will use your string and run the notebook cell with the <tt>segment()</tt> and <tt>segment2()</tt> functions. You will comment the segmentation results you obtain with the unigram and bigram models.\n",
    "\n",
    "Submit your report as well as your notebook (for archiving purposes) to Canvas: https://canvas.education.lu.se/. To write your report, you can either\n",
    "1. Write directly your text in Canvas, or\n",
    "2. Use Latex and Overleaf (www.overleaf.com). This will probably help you structure your text. You will then upload a PDF file in Canvas.\n",
    "\n",
    "The submission deadline is September 24, 2021."
   ],
   "metadata": {}
  },
  {
   "cell_type": "code",
   "execution_count": null,
   "source": [],
   "outputs": [],
   "metadata": {}
  }
 ],
 "metadata": {
  "kernelspec": {
   "name": "python3",
   "display_name": "Python 3.8.10 64-bit"
  },
  "language_info": {
   "codemirror_mode": {
    "name": "ipython",
    "version": 3
   },
   "file_extension": ".py",
   "mimetype": "text/x-python",
   "name": "python",
   "nbconvert_exporter": "python",
   "pygments_lexer": "ipython3",
   "version": "3.8.10"
  },
  "interpreter": {
   "hash": "916dbcbb3f70747c44a77c7bcd40155683ae19c65e1c03b4aa3499c5328201f1"
  }
 },
 "nbformat": 4,
 "nbformat_minor": 4
}