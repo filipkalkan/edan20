{
 "cells": [
  {
   "cell_type": "markdown",
   "source": [
    "Init functions\n"
   ],
   "metadata": {}
  },
  {
   "cell_type": "code",
   "execution_count": 7,
   "source": [
    "import re\r\n",
    "from collections import Counter\r\n",
    "\r\n",
    "def words(text): return re.findall(r'\\w+', text.lower())\r\n",
    "\r\n",
    "def P(word, N=sum(WORDS.values())): \r\n",
    "    \"Probability of `word`.\"\r\n",
    "    return WORDS[word] / N\r\n",
    "\r\n",
    "def correction(word): \r\n",
    "    \"Most probable spelling correction for word.\"\r\n",
    "    return max(candidates(word), key=P)\r\n",
    "\r\n",
    "def candidates(word): \r\n",
    "    \"Generate possible spelling corrections for word.\"\r\n",
    "    return (known([word]) or known(edits1(word)) or known(edits2(word)) or [word])\r\n",
    "\r\n",
    "def known(words): \r\n",
    "    \"The subset of `words` that appear in the dictionary of WORDS.\"\r\n",
    "    return set(w for w in words if w in WORDS)\r\n",
    "\r\n",
    "def edits1(word):\r\n",
    "    \"All edits that are one edit away from `word`.\"\r\n",
    "    letters    = 'abcdefghijklmnopqrstuvwxyz'\r\n",
    "    splits     = [(word[:i], word[i:])    for i in range(len(word) + 1)]\r\n",
    "    deletes    = [L + R[1:]               for L, R in splits if R]\r\n",
    "    transposes = [L + R[1] + R[0] + R[2:] for L, R in splits if len(R)>1]\r\n",
    "    replaces   = [L + c + R[1:]           for L, R in splits if R for c in letters]\r\n",
    "    inserts    = [L + c + R               for L, R in splits for c in letters]\r\n",
    "    return set(deletes + transposes + replaces + inserts)\r\n",
    "\r\n",
    "def edits2(word): \r\n",
    "    \"All edits that are two edits away from `word`.\"\r\n",
    "    return (e2 for e1 in edits1(word) for e2 in edits1(e1))"
   ],
   "outputs": [],
   "metadata": {}
  },
  {
   "cell_type": "markdown",
   "source": [
    "Loading book \n"
   ],
   "metadata": {}
  },
  {
   "cell_type": "code",
   "execution_count": 6,
   "source": [
    "WORDS = Counter(words(open('./edan20/notebooks/selma/bannlyst.txt').read()))"
   ],
   "outputs": [],
   "metadata": {}
  },
  {
   "cell_type": "code",
   "execution_count": 8,
   "source": [
    "words('Hej jag heter frans')"
   ],
   "outputs": [
    {
     "output_type": "execute_result",
     "data": {
      "text/plain": [
       "['hej', 'jag', 'heter', 'frans']"
      ]
     },
     "metadata": {},
     "execution_count": 8
    }
   ],
   "metadata": {}
  },
  {
   "cell_type": "code",
   "execution_count": 9,
   "source": [
    "P('jag')"
   ],
   "outputs": [
    {
     "output_type": "execute_result",
     "data": {
      "text/plain": [
       "0.013646401933413892"
      ]
     },
     "metadata": {},
     "execution_count": 9
    }
   ],
   "metadata": {}
  },
  {
   "cell_type": "code",
   "execution_count": 17,
   "source": [
    "correction('heej')"
   ],
   "outputs": [
    {
     "output_type": "execute_result",
     "data": {
      "text/plain": [
       "'hej'"
      ]
     },
     "metadata": {},
     "execution_count": 17
    }
   ],
   "metadata": {}
  },
  {
   "cell_type": "code",
   "execution_count": 19,
   "source": [
    "candidates('heee')"
   ],
   "outputs": [
    {
     "output_type": "execute_result",
     "data": {
      "text/plain": [
       "{'bege',\n",
       " 'ene',\n",
       " 'hade',\n",
       " 'hane',\n",
       " 'hare',\n",
       " 'heder',\n",
       " 'hej',\n",
       " 'hel',\n",
       " 'hela',\n",
       " 'helt',\n",
       " 'hem',\n",
       " 'hems',\n",
       " 'henne',\n",
       " 'herr',\n",
       " 'herre',\n",
       " 'hesa',\n",
       " 'het',\n",
       " 'heta',\n",
       " 'heter',\n",
       " 'hett',\n",
       " 'hette',\n",
       " 'huse',\n",
       " 'lede',\n",
       " 'leve',\n",
       " 'nere',\n",
       " 'vete'}"
      ]
     },
     "metadata": {},
     "execution_count": 19
    }
   ],
   "metadata": {}
  },
  {
   "cell_type": "code",
   "execution_count": 24,
   "source": [
    "known(set(['hej', 'du', 'Frans']))"
   ],
   "outputs": [
    {
     "output_type": "execute_result",
     "data": {
      "text/plain": [
       "{'du', 'hej'}"
      ]
     },
     "metadata": {},
     "execution_count": 24
    }
   ],
   "metadata": {}
  },
  {
   "cell_type": "code",
   "execution_count": 26,
   "source": [
    "edits1('hej')"
   ],
   "outputs": [
    {
     "output_type": "execute_result",
     "data": {
      "text/plain": [
       "{'aej',\n",
       " 'ahej',\n",
       " 'bej',\n",
       " 'bhej',\n",
       " 'cej',\n",
       " 'chej',\n",
       " 'dej',\n",
       " 'dhej',\n",
       " 'eej',\n",
       " 'ehej',\n",
       " 'ehj',\n",
       " 'ej',\n",
       " 'fej',\n",
       " 'fhej',\n",
       " 'gej',\n",
       " 'ghej',\n",
       " 'haej',\n",
       " 'haj',\n",
       " 'hbej',\n",
       " 'hbj',\n",
       " 'hcej',\n",
       " 'hcj',\n",
       " 'hdej',\n",
       " 'hdj',\n",
       " 'he',\n",
       " 'hea',\n",
       " 'heaj',\n",
       " 'heb',\n",
       " 'hebj',\n",
       " 'hec',\n",
       " 'hecj',\n",
       " 'hed',\n",
       " 'hedj',\n",
       " 'hee',\n",
       " 'heej',\n",
       " 'hef',\n",
       " 'hefj',\n",
       " 'heg',\n",
       " 'hegj',\n",
       " 'heh',\n",
       " 'hehj',\n",
       " 'hei',\n",
       " 'heij',\n",
       " 'hej',\n",
       " 'heja',\n",
       " 'hejb',\n",
       " 'hejc',\n",
       " 'hejd',\n",
       " 'heje',\n",
       " 'hejf',\n",
       " 'hejg',\n",
       " 'hejh',\n",
       " 'heji',\n",
       " 'hejj',\n",
       " 'hejk',\n",
       " 'hejl',\n",
       " 'hejm',\n",
       " 'hejn',\n",
       " 'hejo',\n",
       " 'hejp',\n",
       " 'hejq',\n",
       " 'hejr',\n",
       " 'hejs',\n",
       " 'hejt',\n",
       " 'heju',\n",
       " 'hejv',\n",
       " 'hejw',\n",
       " 'hejx',\n",
       " 'hejy',\n",
       " 'hejz',\n",
       " 'hek',\n",
       " 'hekj',\n",
       " 'hel',\n",
       " 'helj',\n",
       " 'hem',\n",
       " 'hemj',\n",
       " 'hen',\n",
       " 'henj',\n",
       " 'heo',\n",
       " 'heoj',\n",
       " 'hep',\n",
       " 'hepj',\n",
       " 'heq',\n",
       " 'heqj',\n",
       " 'her',\n",
       " 'herj',\n",
       " 'hes',\n",
       " 'hesj',\n",
       " 'het',\n",
       " 'hetj',\n",
       " 'heu',\n",
       " 'heuj',\n",
       " 'hev',\n",
       " 'hevj',\n",
       " 'hew',\n",
       " 'hewj',\n",
       " 'hex',\n",
       " 'hexj',\n",
       " 'hey',\n",
       " 'heyj',\n",
       " 'hez',\n",
       " 'hezj',\n",
       " 'hfej',\n",
       " 'hfj',\n",
       " 'hgej',\n",
       " 'hgj',\n",
       " 'hhej',\n",
       " 'hhj',\n",
       " 'hiej',\n",
       " 'hij',\n",
       " 'hj',\n",
       " 'hje',\n",
       " 'hjej',\n",
       " 'hjj',\n",
       " 'hkej',\n",
       " 'hkj',\n",
       " 'hlej',\n",
       " 'hlj',\n",
       " 'hmej',\n",
       " 'hmj',\n",
       " 'hnej',\n",
       " 'hnj',\n",
       " 'hoej',\n",
       " 'hoj',\n",
       " 'hpej',\n",
       " 'hpj',\n",
       " 'hqej',\n",
       " 'hqj',\n",
       " 'hrej',\n",
       " 'hrj',\n",
       " 'hsej',\n",
       " 'hsj',\n",
       " 'htej',\n",
       " 'htj',\n",
       " 'huej',\n",
       " 'huj',\n",
       " 'hvej',\n",
       " 'hvj',\n",
       " 'hwej',\n",
       " 'hwj',\n",
       " 'hxej',\n",
       " 'hxj',\n",
       " 'hyej',\n",
       " 'hyj',\n",
       " 'hzej',\n",
       " 'hzj',\n",
       " 'iej',\n",
       " 'ihej',\n",
       " 'jej',\n",
       " 'jhej',\n",
       " 'kej',\n",
       " 'khej',\n",
       " 'lej',\n",
       " 'lhej',\n",
       " 'mej',\n",
       " 'mhej',\n",
       " 'nej',\n",
       " 'nhej',\n",
       " 'oej',\n",
       " 'ohej',\n",
       " 'pej',\n",
       " 'phej',\n",
       " 'qej',\n",
       " 'qhej',\n",
       " 'rej',\n",
       " 'rhej',\n",
       " 'sej',\n",
       " 'shej',\n",
       " 'tej',\n",
       " 'thej',\n",
       " 'uej',\n",
       " 'uhej',\n",
       " 'vej',\n",
       " 'vhej',\n",
       " 'wej',\n",
       " 'whej',\n",
       " 'xej',\n",
       " 'xhej',\n",
       " 'yej',\n",
       " 'yhej',\n",
       " 'zej',\n",
       " 'zhej'}"
      ]
     },
     "metadata": {},
     "execution_count": 26
    }
   ],
   "metadata": {}
  },
  {
   "cell_type": "code",
   "execution_count": 27,
   "source": [
    "edits2('hej')"
   ],
   "outputs": [
    {
     "output_type": "execute_result",
     "data": {
      "text/plain": [
       "<generator object edits2.<locals>.<genexpr> at 0x7f516c9695f0>"
      ]
     },
     "metadata": {},
     "execution_count": 27
    }
   ],
   "metadata": {}
  },
  {
   "cell_type": "code",
   "execution_count": null,
   "source": [],
   "outputs": [],
   "metadata": {}
  }
 ],
 "metadata": {
  "kernelspec": {
   "name": "python3",
   "display_name": "Python 3.9.1 64-bit"
  },
  "language_info": {
   "codemirror_mode": {
    "name": "ipython",
    "version": 3
   },
   "file_extension": ".py",
   "mimetype": "text/x-python",
   "name": "python",
   "nbconvert_exporter": "python",
   "pygments_lexer": "ipython3",
   "version": "3.9.1"
  },
  "interpreter": {
   "hash": "e083722571f9f0ec84a5baf48f347dbe11928b35218b5666fd9f4885e1b3b744"
  }
 },
 "nbformat": 4,
 "nbformat_minor": 5
}